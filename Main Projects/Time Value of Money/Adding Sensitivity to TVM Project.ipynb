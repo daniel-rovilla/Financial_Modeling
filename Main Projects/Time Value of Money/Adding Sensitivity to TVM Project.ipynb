{
 "cells": [
  {
   "cell_type": "markdown",
   "metadata": {},
   "source": [
    "<center> <h1>Adding Sensitivity to Machines Manufacturing Capital Budgeting Model</h1> </center>\n",
    "<center> <h4>Erick Daniel Rodríguez Villafuerte</h4> </center>"
   ]
  },
  {
   "cell_type": "markdown",
   "metadata": {},
   "source": [
    "- [**Overview**](#Overview): Brief description of the problem and the model\n",
    "- [**Setup**](#Setup): Runs any imports and other setup\n",
    "- [**Inputs**](#Inputs): Defines the inputs for the model\n",
    "- [**Machines Output**](#Machines-Output): Determining the output of a machine and the output for multiple machines\n",
    "- [**Demand**](#Demand): Determines the number of units demanded per year, based on the number of advertising years\n",
    "- [**Cash Flows**](#Cash-Flows): Combines the machines output and demand to determine the quantity transacted each year. Then uses this information as well as phone prices and costs, machine scrap values, and machine/advertising costs to determine the cash flows in each year.\n",
    "- [**NPV**](#NPV): Calculates a net present value (NPV) from the cash flows.\n",
    "- [**Final Outputs**](#Final-Outputs): Shows the final output cash flows and NPV with formating.\n",
    "- [**Sensitivity Analysis**](#Sensitivity-Analysis): Extension to a given model, adds sensitivity analysis."
   ]
  },
  {
   "cell_type": "markdown",
   "metadata": {},
   "source": [
    "## Overview \n",
    "### The Problem\n",
    "\n",
    "<div style=\"text-align: justify\"> You work for a new startup that is trying to manufacture phones. You are tasked with building a model which will help determine how many machines to invest in and how much to spend on marketing. Each machine produces $n_{output}$ phones per year. Each phone sells for $p_{phone}$ and costs $c_{phone}$ in variable costs to produce. After $n_{life}$ years, the machine can no longer produce output, but may be scrapped for $p_{scrap}$. The machine will not be replaced, so you may end up with zero total output before your model time period ends. </div>\n",
    "<br>\n",
    "<div style=\"text-align: justify\"> Equity investment is limited, so in each year you can spend $c_{machine}$ to either buy a machine or buy advertisements. In the first year you must buy a machine. Any other machine purchases must be made one after another (advertising can only begin after machine buying is done). Demand for your phones starts at $d_1$. Each time you advertise, demand increases by $g_d$%. The prevailing market interest rate is $r$.\n",
    "</div>\n",
    "\n",
    "### Notes\n",
    "- Model is limited to 20 years and a maximum of 5 machines.\n",
    "- For simplicity, assume that $c_{machine}$ is paid in every year, even after all machines have shut down.\n",
    "- Ensure that you can change the inputs and the outputs change as expected.\n",
    "- For simplicity, assume that fractional phones can be sold, you do not need to round the quantity transacted.\n",
    "\n"
   ]
  },
  {
   "cell_type": "markdown",
   "metadata": {},
   "source": [
    "## Setup\n",
    "\n",
    "Setup for the later calculations are here. The necessary packages are imported."
   ]
  },
  {
   "cell_type": "code",
   "execution_count": 1,
   "metadata": {},
   "outputs": [
    {
     "ename": "ImportError",
     "evalue": "cannot import name '_get_standard_colors' from 'pandas.plotting._matplotlib.style' (/Users/chascream/opt/anaconda3/lib/python3.7/site-packages/pandas/plotting/_matplotlib/style.py)",
     "output_type": "error",
     "traceback": [
      "\u001b[0;31m---------------------------------------------------------------------------\u001b[0m",
      "\u001b[0;31mImportError\u001b[0m                               Traceback (most recent call last)",
      "\u001b[0;32m<ipython-input-1-0a87247f4df2>\u001b[0m in \u001b[0;36m<module>\u001b[0;34m\u001b[0m\n\u001b[1;32m      2\u001b[0m \u001b[0;32mimport\u001b[0m \u001b[0mnumpy_financial\u001b[0m \u001b[0;32mas\u001b[0m \u001b[0mnpf\u001b[0m\u001b[0;34m\u001b[0m\u001b[0;34m\u001b[0m\u001b[0m\n\u001b[1;32m      3\u001b[0m \u001b[0;32mimport\u001b[0m \u001b[0mitertools\u001b[0m\u001b[0;34m\u001b[0m\u001b[0;34m\u001b[0m\u001b[0m\n\u001b[0;32m----> 4\u001b[0;31m \u001b[0;32mfrom\u001b[0m \u001b[0msensitivity\u001b[0m \u001b[0;32mimport\u001b[0m \u001b[0mSensitivityAnalyzer\u001b[0m\u001b[0;34m\u001b[0m\u001b[0;34m\u001b[0m\u001b[0m\n\u001b[0m",
      "\u001b[0;32m~/opt/anaconda3/lib/python3.7/site-packages/sensitivity/__init__.py\u001b[0m in \u001b[0;36m<module>\u001b[0;34m\u001b[0m\n\u001b[1;32m      3\u001b[0m \u001b[0mvisualizations\u001b[0m \u001b[0mincluding\u001b[0m \u001b[0mgradient\u001b[0m \u001b[0mDataFrames\u001b[0m \u001b[0;32mand\u001b[0m \u001b[0mhex\u001b[0m\u001b[0;34m-\u001b[0m\u001b[0mbin\u001b[0m \u001b[0mplots\u001b[0m\u001b[0;34m\u001b[0m\u001b[0;34m\u001b[0m\u001b[0m\n\u001b[1;32m      4\u001b[0m \"\"\"\n\u001b[0;32m----> 5\u001b[0;31m \u001b[0;32mfrom\u001b[0m \u001b[0msensitivity\u001b[0m\u001b[0;34m.\u001b[0m\u001b[0mmain\u001b[0m \u001b[0;32mimport\u001b[0m \u001b[0mSensitivityAnalyzer\u001b[0m\u001b[0;34m\u001b[0m\u001b[0;34m\u001b[0m\u001b[0m\n\u001b[0m",
      "\u001b[0;32m~/opt/anaconda3/lib/python3.7/site-packages/sensitivity/main.py\u001b[0m in \u001b[0;36m<module>\u001b[0;34m\u001b[0m\n\u001b[1;32m      9\u001b[0m \u001b[0;32mfrom\u001b[0m \u001b[0mIPython\u001b[0m\u001b[0;34m.\u001b[0m\u001b[0mdisplay\u001b[0m \u001b[0;32mimport\u001b[0m \u001b[0mdisplay\u001b[0m\u001b[0;34m,\u001b[0m \u001b[0mHTML\u001b[0m\u001b[0;34m\u001b[0m\u001b[0;34m\u001b[0m\u001b[0m\n\u001b[1;32m     10\u001b[0m \u001b[0;34m\u001b[0m\u001b[0m\n\u001b[0;32m---> 11\u001b[0;31m \u001b[0;32mfrom\u001b[0m \u001b[0msensitivity\u001b[0m\u001b[0;34m.\u001b[0m\u001b[0mdf\u001b[0m \u001b[0;32mimport\u001b[0m \u001b[0msensitivity_df\u001b[0m\u001b[0;34m,\u001b[0m \u001b[0m_style_sensitivity_df\u001b[0m\u001b[0;34m,\u001b[0m \u001b[0m_two_variable_sensitivity_display_df\u001b[0m\u001b[0;34m\u001b[0m\u001b[0;34m\u001b[0m\u001b[0m\n\u001b[0m\u001b[1;32m     12\u001b[0m \u001b[0;32mfrom\u001b[0m \u001b[0msensitivity\u001b[0m\u001b[0;34m.\u001b[0m\u001b[0mhexbin\u001b[0m \u001b[0;32mimport\u001b[0m \u001b[0m_hex_figure_from_sensitivity_df\u001b[0m\u001b[0;34m\u001b[0m\u001b[0;34m\u001b[0m\u001b[0m\n\u001b[1;32m     13\u001b[0m \u001b[0;34m\u001b[0m\u001b[0m\n",
      "\u001b[0;32m~/opt/anaconda3/lib/python3.7/site-packages/sensitivity/df.py\u001b[0m in \u001b[0;36m<module>\u001b[0;34m\u001b[0m\n\u001b[1;32m      6\u001b[0m \u001b[0;34m\u001b[0m\u001b[0m\n\u001b[1;32m      7\u001b[0m \u001b[0;32mimport\u001b[0m \u001b[0mpandas\u001b[0m \u001b[0;32mas\u001b[0m \u001b[0mpd\u001b[0m\u001b[0;34m\u001b[0m\u001b[0;34m\u001b[0m\u001b[0m\n\u001b[0;32m----> 8\u001b[0;31m \u001b[0;32mimport\u001b[0m \u001b[0mpd_utils\u001b[0m\u001b[0;34m\u001b[0m\u001b[0;34m\u001b[0m\u001b[0m\n\u001b[0m\u001b[1;32m      9\u001b[0m \u001b[0;32mfrom\u001b[0m \u001b[0mpandas\u001b[0m\u001b[0;34m.\u001b[0m\u001b[0mio\u001b[0m\u001b[0;34m.\u001b[0m\u001b[0mformats\u001b[0m\u001b[0;34m.\u001b[0m\u001b[0mstyle\u001b[0m \u001b[0;32mimport\u001b[0m \u001b[0mStyler\u001b[0m\u001b[0;34m\u001b[0m\u001b[0;34m\u001b[0m\u001b[0m\n\u001b[1;32m     10\u001b[0m \u001b[0;32mimport\u001b[0m \u001b[0mnumpy\u001b[0m \u001b[0;32mas\u001b[0m \u001b[0mnp\u001b[0m\u001b[0;34m\u001b[0m\u001b[0;34m\u001b[0m\u001b[0m\n",
      "\u001b[0;32m~/opt/anaconda3/lib/python3.7/site-packages/pd_utils/__init__.py\u001b[0m in \u001b[0;36m<module>\u001b[0;34m\u001b[0m\n\u001b[1;32m     37\u001b[0m     \u001b[0mjoin_col_strings\u001b[0m\u001b[0;34m\u001b[0m\u001b[0;34m\u001b[0m\u001b[0m\n\u001b[1;32m     38\u001b[0m )\n\u001b[0;32m---> 39\u001b[0;31m \u001b[0;32mfrom\u001b[0m \u001b[0mpd_utils\u001b[0m\u001b[0;34m.\u001b[0m\u001b[0mplot\u001b[0m \u001b[0;32mimport\u001b[0m \u001b[0mplot_multi_axis\u001b[0m\u001b[0;34m\u001b[0m\u001b[0;34m\u001b[0m\u001b[0m\n\u001b[0m\u001b[1;32m     40\u001b[0m \u001b[0;34m\u001b[0m\u001b[0m\n\u001b[1;32m     41\u001b[0m \u001b[0;34m\u001b[0m\u001b[0m\n",
      "\u001b[0;32m~/opt/anaconda3/lib/python3.7/site-packages/pd_utils/plot.py\u001b[0m in \u001b[0;36m<module>\u001b[0;34m\u001b[0m\n\u001b[1;32m      2\u001b[0m \u001b[0;34m\u001b[0m\u001b[0m\n\u001b[1;32m      3\u001b[0m \u001b[0;32mimport\u001b[0m \u001b[0mpandas\u001b[0m \u001b[0;32mas\u001b[0m \u001b[0mpd\u001b[0m\u001b[0;34m\u001b[0m\u001b[0;34m\u001b[0m\u001b[0m\n\u001b[0;32m----> 4\u001b[0;31m \u001b[0;32mfrom\u001b[0m \u001b[0mpandas\u001b[0m\u001b[0;34m.\u001b[0m\u001b[0mplotting\u001b[0m\u001b[0;34m.\u001b[0m\u001b[0m_matplotlib\u001b[0m\u001b[0;34m.\u001b[0m\u001b[0mstyle\u001b[0m \u001b[0;32mimport\u001b[0m \u001b[0m_get_standard_colors\u001b[0m\u001b[0;34m\u001b[0m\u001b[0;34m\u001b[0m\u001b[0m\n\u001b[0m\u001b[1;32m      5\u001b[0m \u001b[0;32mimport\u001b[0m \u001b[0mmatplotlib\u001b[0m\u001b[0;34m.\u001b[0m\u001b[0mpyplot\u001b[0m \u001b[0;32mas\u001b[0m \u001b[0mplt\u001b[0m\u001b[0;34m\u001b[0m\u001b[0;34m\u001b[0m\u001b[0m\n\u001b[1;32m      6\u001b[0m \u001b[0;34m\u001b[0m\u001b[0m\n",
      "\u001b[0;31mImportError\u001b[0m: cannot import name '_get_standard_colors' from 'pandas.plotting._matplotlib.style' (/Users/chascream/opt/anaconda3/lib/python3.7/site-packages/pandas/plotting/_matplotlib/style.py)"
     ]
    }
   ],
   "source": [
    "from dataclasses import dataclass\n",
    "import numpy_financial as npf\n",
    "import itertools\n",
    "from sensitivity import SensitivityAnalyzer"
   ]
  },
  {
   "cell_type": "markdown",
   "metadata": {},
   "source": [
    "## Inputs\n",
    "\n",
    "All of the inputs for the model are defined here. A class is constructed to manage the data, and an instance of the class containing the default inputs is created."
   ]
  },
  {
   "cell_type": "code",
   "execution_count": null,
   "metadata": {},
   "outputs": [],
   "source": [
    "@dataclass\n",
    "class ModelInputs:\n",
    "    n_phones: float = 100000\n",
    "    price_scrap: float = 50000\n",
    "    price_phone: float = 500\n",
    "    cost_machine_adv: float = 1000000\n",
    "    cogs_phone: float = 250\n",
    "    n_life: int = 10\n",
    "    n_machines: int = 5\n",
    "    d_1: float = 100000\n",
    "    g_d: float = 0.2\n",
    "    max_year: float = 20\n",
    "    interest: float = 0.05\n",
    "        \n",
    "    # Inputs for bonus problem\n",
    "    elasticity: float = 100\n",
    "    demand_constant: float = 300000\n",
    "        \n",
    "model_data = ModelInputs()\n",
    "model_data"
   ]
  },
  {
   "cell_type": "markdown",
   "metadata": {},
   "source": [
    "To start off, we will create several functions to solve this problem, this will help to solve similar projects with little to none changes instead of having to hard-code each time we want to solve the project. Also, this will allow us to add more analysis later to the project."
   ]
  },
  {
   "cell_type": "markdown",
   "metadata": {},
   "source": [
    "## Machine Outputs"
   ]
  },
  {
   "cell_type": "markdown",
   "metadata": {},
   "source": [
    "The first set of functions will be related to the enterprise machines. <br>\n",
    "They will serve to determine:\n",
    "- Machines bought per year\n",
    "- Number of working machines per year\n",
    "- Broken machines per year\n",
    "- Scrap value of a broken machine per year"
   ]
  },
  {
   "cell_type": "code",
   "execution_count": null,
   "metadata": {},
   "outputs": [],
   "source": [
    "def machines_bought_per_year(data: ModelInputs):\n",
    "    '''\n",
    "    Creates a list of booleans when a machine is bought, it will be true for the first years according \n",
    "    to the number of machines up to the last year of the model.\n",
    "    '''\n",
    "    years = list(range(1, data.max_year + 1))\n",
    "    buy_machine = []\n",
    "    for year in years:\n",
    "            # This will create a list of booleans when a machine is bought\n",
    "            if year <= data.n_machines:\n",
    "                buy_machine.append(True)\n",
    "            else:\n",
    "                buy_machine.append(False)\n",
    "    return buy_machine"
   ]
  },
  {
   "cell_type": "code",
   "execution_count": null,
   "metadata": {},
   "outputs": [],
   "source": [
    "def broken_machines_per_year(data: ModelInputs):\n",
    "    '''\n",
    "    Creates a list of booleans when a machine breakes down, it will be true after each machine bought\n",
    "    ends the years of life (given in model inputs)\n",
    "    '''\n",
    "    # This creates a list of booleans when a machine breaks down\n",
    "    years = list(range(1, data.max_year + 1))\n",
    "    broken_machine = []\n",
    "    for year in years:\n",
    "        if data.n_life % year == data.n_life and year <= (data.n_machines + data.n_life):\n",
    "            broken_machine.append(True)\n",
    "        else:\n",
    "            broken_machine.append(False)\n",
    "    return broken_machine"
   ]
  },
  {
   "cell_type": "code",
   "execution_count": null,
   "metadata": {},
   "outputs": [],
   "source": [
    "def working_machines_per_year():\n",
    "    '''\n",
    "    This will create a list of ints when a machine is bought, when a machine\n",
    "    breaks down and when none of these happens at the same time (1, -1, 0), respectevely\n",
    "    '''\n",
    "    working_machine = []\n",
    "    machines_bought = machines_bought_per_year(model_data)\n",
    "    broken_machines = broken_machines_per_year(model_data)\n",
    "    for i, j in zip(machines_bought, broken_machines):\n",
    "        if i == True and j == False:\n",
    "            working_machine.append(1)\n",
    "        elif i == False and j == True:\n",
    "            working_machine.append(-1)\n",
    "        else:\n",
    "            working_machine.append(0)\n",
    "    working_machine = list(itertools.accumulate(working_machine))\n",
    "    return working_machine"
   ]
  },
  {
   "cell_type": "code",
   "execution_count": null,
   "metadata": {},
   "outputs": [],
   "source": [
    "def scrap_value_per_year(data: ModelInputs):\n",
    "    '''\n",
    "    This function returns the scrap value per year, will only return a value when a machine\n",
    "    breakes down\n",
    "    '''\n",
    "    scrap_value = []\n",
    "    broken_machines = broken_machines_per_year(data)\n",
    "    for i in broken_machines:\n",
    "        if i == True:\n",
    "            scrap_value.append(data.price_scrap)\n",
    "        elif i == False:\n",
    "            scrap_value.append(0)\n",
    "    return scrap_value"
   ]
  },
  {
   "cell_type": "markdown",
   "metadata": {},
   "source": [
    "## Demand"
   ]
  },
  {
   "cell_type": "markdown",
   "metadata": {},
   "source": [
    "Now that we have the information for all the machines, we can start to look at the demand of phones, which will increase after all machines are bought since the company will start to invest in advertisement. <br> <br>\n",
    "With that in mind, we can get the number of phones sold per year, recall that for simplicity of this project, fractional phones can be sold."
   ]
  },
  {
   "cell_type": "code",
   "execution_count": null,
   "metadata": {},
   "outputs": [],
   "source": [
    "def demand_of_phones(data: ModelInputs):\n",
    "    '''\n",
    "    This function creates a list of the demanded phones, will start increasing after all machines are bought\n",
    "    '''\n",
    "    demand = []\n",
    "    machines_bought = machines_bought_per_year(data)\n",
    "    for i in machines_bought:\n",
    "        if i == True:\n",
    "            demand.append(data.d_1)\n",
    "        elif i == False:\n",
    "            demand.append(demand[-1] * (1 + data.g_d))\n",
    "    return demand"
   ]
  },
  {
   "cell_type": "code",
   "execution_count": null,
   "metadata": {},
   "outputs": [],
   "source": [
    "def phones_sold_per_year(data: ModelInputs):\n",
    "    '''\n",
    "    This function creates the number of phones produced depending on the number\n",
    "    of working machines, then it returns phones sold according to the demand \n",
    "    per year\n",
    "    '''\n",
    "    working_machines = working_machines_per_year()\n",
    "    phones_produced = [i * data.n_phones for i in working_machines]\n",
    "    demand = demand_of_phones(data)\n",
    "    phones_sold = []\n",
    "    for p, d in zip(phones_produced, demand):\n",
    "        if p >= d:\n",
    "            phones_sold.append(d)\n",
    "        else:\n",
    "            phones_sold.append(p)\n",
    "    return phones_sold"
   ]
  },
  {
   "cell_type": "markdown",
   "metadata": {},
   "source": [
    "Numer of phones sold per year"
   ]
  },
  {
   "cell_type": "code",
   "execution_count": null,
   "metadata": {},
   "outputs": [],
   "source": [
    "phones_sold_per_year(model_data)"
   ]
  },
  {
   "cell_type": "markdown",
   "metadata": {},
   "source": [
    "## Cash Flows"
   ]
  },
  {
   "cell_type": "markdown",
   "metadata": {},
   "source": [
    "We now have all the necessary information to get the cash flows for the company"
   ]
  },
  {
   "cell_type": "code",
   "execution_count": null,
   "metadata": {},
   "outputs": [],
   "source": [
    "def cash_flows_per_year(data: ModelInputs):  \n",
    "    '''\n",
    "    This function takes the inputs of the class and returns\n",
    "    the cash flows of the project\n",
    "    '''\n",
    "    revenues = []\n",
    "    money_in = []\n",
    "    cogs = []\n",
    "    money_out = []\n",
    "    phones = phones_sold_per_year(data)\n",
    "    scrap = scrap_value_per_year(data)\n",
    "    \n",
    "    # This creates a list of revenues, which multiplies each number of phones\n",
    "    # sold by year by the price given in the class\n",
    "    revenues = [i * data.price_phone for i in phones]\n",
    "    \n",
    "    # This creates a list of cogs, which multiplies each number of phones\n",
    "    # sold by year by the variable cost per phone given in the class\n",
    "    cogs = [i * data.cogs_phone for i in phones]\n",
    "    \n",
    "    # This creates a list of the revenues plus the scrap value of the machines per year\n",
    "    money_in = [x + y for x, y in zip(revenues, scrap)]\n",
    "    \n",
    "    # This creates a list of cogs plus cash spent per year\n",
    "    money_out = [i + data.cost_machine_adv for i in cogs]\n",
    "    \n",
    "    # The money-in minus the money-out of each year will be our cash flow\n",
    "    cash_flows = [x - y for x, y in zip(money_in, money_out)]\n",
    "    return cash_flows"
   ]
  },
  {
   "cell_type": "code",
   "execution_count": null,
   "metadata": {},
   "outputs": [],
   "source": [
    "cash_flows_per_year(model_data)"
   ]
  },
  {
   "cell_type": "markdown",
   "metadata": {},
   "source": [
    "## NPV"
   ]
  },
  {
   "cell_type": "markdown",
   "metadata": {},
   "source": [
    "This section determines the NPV of the project with the current inputs. This is the main output from the model."
   ]
  },
  {
   "cell_type": "code",
   "execution_count": null,
   "metadata": {},
   "outputs": [],
   "source": [
    "def model_npv(data: ModelInputs):\n",
    "    '''\n",
    "    Determines the NPV of the entire phone manufacturing capital budget problem.\n",
    "    Uses the cash flows from cash_flows_per_year and calculates the NPV from them\n",
    "    '''\n",
    "    # numpy NPV assumes first year is zero, we don't have a year zero so add a zero cash flow\n",
    "    cf = cash_flows_per_year(data)\n",
    "    all_cash_flows = [0] + cf\n",
    "    npv = npf.npv(data.interest, all_cash_flows)\n",
    "    return npv"
   ]
  },
  {
   "cell_type": "code",
   "execution_count": null,
   "metadata": {},
   "outputs": [],
   "source": [
    "npv = model_npv(model_data)\n",
    "npv"
   ]
  },
  {
   "cell_type": "markdown",
   "metadata": {},
   "source": [
    "## Final Outputs"
   ]
  },
  {
   "cell_type": "markdown",
   "metadata": {},
   "source": [
    "We have calculated all the cash flows for the years and the corresponding net present value, just to make it more readable, we will format the answers."
   ]
  },
  {
   "cell_type": "code",
   "execution_count": null,
   "metadata": {},
   "outputs": [],
   "source": [
    "formatted_cash_flows = [f'Year {i + 1}: ${cf:,.0f}' for i, cf in enumerate(cash_flows_per_year(model_data))]\n",
    "print('Cash Flows:\\n' + '\\n'.join(formatted_cash_flows))\n",
    "print(f'\\n\\nNPV: ${npv:,.0f}')"
   ]
  },
  {
   "cell_type": "markdown",
   "metadata": {},
   "source": [
    "## Sensitivity Analysis\n",
    "\n",
    "As we recall, project is based manly on several functions, this will facilitate the Sensitivity Analysis extension"
   ]
  },
  {
   "cell_type": "markdown",
   "metadata": {},
   "source": [
    "Define a new function of the npv which will allow us to handle named arguments in a function. <br>\n",
    "Since the function works with the inputs we will add `**kwargs` to the ModelInputs as well"
   ]
  },
  {
   "cell_type": "code",
   "execution_count": null,
   "metadata": {},
   "outputs": [],
   "source": [
    "def model_npv_separate_args(**kwargs):\n",
    "    data = ModelInputs(**kwargs)\n",
    "    return model_npv(data)\n",
    "\n",
    "model_npv_separate_args()"
   ]
  },
  {
   "cell_type": "markdown",
   "metadata": {},
   "source": [
    "The previous function will allow us to make a sensitivity analysis of each input in the model, here we will take a look at how different number of machines and initial demand will have an impact on the NPV"
   ]
  },
  {
   "cell_type": "code",
   "execution_count": null,
   "metadata": {},
   "outputs": [],
   "source": [
    "sensitivity_values = {\n",
    "    'n_machines': [1, 2, 3, 4, 5],\n",
    "    'd_1': [10000, 100000, 200000, 300000]\n",
    "}\n",
    "\n",
    "my_labels = {\n",
    "    'n_machines': 'Number of Machines',\n",
    "    'd_1': 'Initial Demand'\n",
    "}\n",
    "\n",
    "sa= SensitivityAnalyzer(\n",
    "    sensitivity_values,\n",
    "    model_npv_separate_args,\n",
    "    grid_size = 3,\n",
    "    labels = my_labels,\n",
    "    result_name = 'NPV',\n",
    "    num_fmt = '${:,.0f}'\n",
    "    \n",
    ")"
   ]
  },
  {
   "cell_type": "markdown",
   "metadata": {},
   "source": [
    "We can take a look at a hexplot"
   ]
  },
  {
   "cell_type": "code",
   "execution_count": null,
   "metadata": {},
   "outputs": [],
   "source": [
    "plot = sa.plot()"
   ]
  },
  {
   "cell_type": "markdown",
   "metadata": {},
   "source": [
    "A more precise look at the different values that NPV will acquire according to the selected sensitivity variables: Number of Machines and Initial Demand"
   ]
  },
  {
   "cell_type": "code",
   "execution_count": null,
   "metadata": {},
   "outputs": [],
   "source": [
    "styled_dfs = sa.styled_dfs()"
   ]
  }
 ],
 "metadata": {
  "kernelspec": {
   "display_name": "Python 3",
   "language": "python",
   "name": "python3"
  },
  "language_info": {
   "codemirror_mode": {
    "name": "ipython",
    "version": 3
   },
   "file_extension": ".py",
   "mimetype": "text/x-python",
   "name": "python",
   "nbconvert_exporter": "python",
   "pygments_lexer": "ipython3",
   "version": "3.7.7"
  }
 },
 "nbformat": 4,
 "nbformat_minor": 4
}
