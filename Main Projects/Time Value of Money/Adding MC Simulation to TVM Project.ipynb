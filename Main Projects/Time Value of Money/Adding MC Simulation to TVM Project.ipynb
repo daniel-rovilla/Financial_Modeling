{
 "cells": [
  {
   "cell_type": "markdown",
   "metadata": {},
   "source": [
    "<center> <h1>Adding Monte Carlo Simulation to Machines Manufacturing Capital Budgeting Model</h1> </center>\n",
    "<center> <h4>Erick Daniel Rodríguez Villafuerte</h4> </center>"
   ]
  },
  {
   "cell_type": "markdown",
   "metadata": {},
   "source": [
    "- [**Overview**](#Overview): Brief description of the problem and the model\n",
    "- [**Setup**](#Setup): Runs any imports and other setup\n",
    "- [**Inputs**](#Inputs): Defines the inputs for the model\n",
    "- [**Machines Output**](#Machines-Output): Determining the output of a machine and the output for multiple machines\n",
    "- [**Demand**](#Demand): Determines the number of units demanded per year, based on the number of advertising years\n",
    "- [**Cash Flows**](#Cash-Flows): Combines the machines output and demand to determine the quantity transacted each year. Then uses this information as well as phone prices and costs, machine scrap values, and machine/advertising costs to determine the cash flows in each year.\n",
    "- [**NPV**](#NPV): Calculates a net present value (NPV) from the cash flows.\n",
    "- [**Final Outputs**](#Final-Outputs): Shows the final output cash flows and NPV with formating.\n",
    "- [**Monte Carlo Simulation**](#Monte-Carlo-Simulation): Extension to a given model, adds MCS analysis."
   ]
  },
  {
   "cell_type": "markdown",
   "metadata": {},
   "source": [
    "## Overview \n",
    "### The Problem\n",
    "\n",
    "<div style=\"text-align: justify\"> You work for a new startup that is trying to manufacture phones. You are tasked with building a model which will help determine how many machines to invest in and how much to spend on marketing. Each machine produces $n_{output}$ phones per year. Each phone sells for $p_{phone}$ and costs $c_{phone}$ in variable costs to produce. After $n_{life}$ years, the machine can no longer produce output, but may be scrapped for $p_{scrap}$. The machine will not be replaced, so you may end up with zero total output before your model time period ends. </div>\n",
    "<br>\n",
    "<div style=\"text-align: justify\"> Equity investment is limited, so in each year you can spend $c_{machine}$ to either buy a machine or buy advertisements. In the first year you must buy a machine. Any other machine purchases must be made one after another (advertising can only begin after machine buying is done). Demand for your phones starts at $d_1$. Each time you advertise, demand increases by $g_d$%. The prevailing market interest rate is $r$.\n",
    "</div>\n",
    "\n",
    "### Notes\n",
    "- Model is limited to 20 years and a maximum of 5 machines.\n",
    "- For simplicity, assume that $c_{machine}$ is paid in every year, even after all machines have shut down.\n",
    "- Ensure that you can change the inputs and the outputs change as expected.\n",
    "- For simplicity, assume that fractional phones can be sold, you do not need to round the quantity transacted.\n",
    "\n",
    "\n"
   ]
  },
  {
   "cell_type": "markdown",
   "metadata": {},
   "source": [
    "## Setup\n",
    "\n",
    "Setup for the later calculations are here. The necessary packages are imported."
   ]
  },
  {
   "cell_type": "code",
   "execution_count": 1,
   "metadata": {},
   "outputs": [],
   "source": [
    "from dataclasses import dataclass\n",
    "import numpy_financial as npf\n",
    "import itertools\n",
    "import pandas as pd\n",
    "%matplotlib inline\n",
    "import random\n",
    "import statsmodels.api as sm"
   ]
  },
  {
   "cell_type": "markdown",
   "metadata": {},
   "source": [
    "## Inputs\n",
    "\n",
    "All of the inputs for the model are defined here. A class is constructed to manage the data, and an instance of the class containing the default inputs is created."
   ]
  },
  {
   "cell_type": "code",
   "execution_count": 2,
   "metadata": {},
   "outputs": [
    {
     "data": {
      "text/plain": [
       "ModelInputs(n_phones=100000, price_scrap=50000, price_phone=500, cost_machine_adv=1000000, cogs_phone=250, n_life=10, n_machines=5, d_1=100000, g_d=0.2, max_year=20, interest=0.05)"
      ]
     },
     "execution_count": 2,
     "metadata": {},
     "output_type": "execute_result"
    }
   ],
   "source": [
    "@dataclass\n",
    "class ModelInputs:\n",
    "    n_phones: float = 100000\n",
    "    price_scrap: float = 50000\n",
    "    price_phone: float = 500\n",
    "    cost_machine_adv: float = 1000000\n",
    "    cogs_phone: float = 250\n",
    "    n_life: int = 10\n",
    "    n_machines: int = 5\n",
    "    d_1: float = 100000\n",
    "    g_d: float = 0.2\n",
    "    max_year: float = 20\n",
    "    interest: float = 0.05\n",
    "                \n",
    "model_data = ModelInputs()\n",
    "model_data"
   ]
  },
  {
   "cell_type": "markdown",
   "metadata": {},
   "source": [
    "To start off, we will create several functions to solve this problem, this will help to solve similar projects with little to none changes instead of having to hard-code each time we want to solve the project. Also, this will allow us to add more analysis later to the project."
   ]
  },
  {
   "cell_type": "markdown",
   "metadata": {},
   "source": [
    "## Machine Outputs"
   ]
  },
  {
   "cell_type": "markdown",
   "metadata": {},
   "source": [
    "The first set of functions will be related to the enterprise machines. <br>\n",
    "They will serve to determine:\n",
    "- Machines bought per year\n",
    "- Number of working machines per year\n",
    "- Broken machines per year\n",
    "- Scrap value of a broken machine per year"
   ]
  },
  {
   "cell_type": "code",
   "execution_count": 3,
   "metadata": {},
   "outputs": [],
   "source": [
    "def machines_bought_per_year(data: ModelInputs):\n",
    "    '''\n",
    "    Creates a list of booleans when a machine is bought, it will be true for the first years according \n",
    "    to the number of machines up to the last year of the model.\n",
    "    '''\n",
    "    years = list(range(1, data.max_year + 1))\n",
    "    buy_machine = []\n",
    "    for year in years:\n",
    "            # This will create a list of booleans when a machine is bought\n",
    "            if year <= data.n_machines:\n",
    "                buy_machine.append(True)\n",
    "            else:\n",
    "                buy_machine.append(False)\n",
    "    return buy_machine"
   ]
  },
  {
   "cell_type": "code",
   "execution_count": 4,
   "metadata": {},
   "outputs": [],
   "source": [
    "def broken_machines_per_year(data: ModelInputs):\n",
    "    '''\n",
    "    Creates a list of booleans when a machine breakes down, it will be true after each machine bought\n",
    "    ends the years of life (given in model inputs)\n",
    "    '''\n",
    "    # This creates a list of booleans when a machine breaks down\n",
    "    years = list(range(1, data.max_year + 1))\n",
    "    broken_machine = []\n",
    "    for year in years:\n",
    "        if data.n_life % year == data.n_life and year <= (data.n_machines + data.n_life):\n",
    "            broken_machine.append(True)\n",
    "        else:\n",
    "            broken_machine.append(False)\n",
    "    return broken_machine"
   ]
  },
  {
   "cell_type": "code",
   "execution_count": 5,
   "metadata": {},
   "outputs": [],
   "source": [
    "def working_machines_per_year():\n",
    "    '''\n",
    "    This will create a list of ints when a machine is bought, when a machine\n",
    "    breaks down and when none of these happens at the same time (1, -1, 0), respectevely\n",
    "    '''\n",
    "    working_machine = []\n",
    "    machines_bought = machines_bought_per_year(model_data)\n",
    "    broken_machines = broken_machines_per_year(model_data)\n",
    "    for i, j in zip(machines_bought, broken_machines):\n",
    "        if i == True and j == False:\n",
    "            working_machine.append(1)\n",
    "        elif i == False and j == True:\n",
    "            working_machine.append(-1)\n",
    "        else:\n",
    "            working_machine.append(0)\n",
    "    working_machine = list(itertools.accumulate(working_machine))\n",
    "    return working_machine"
   ]
  },
  {
   "cell_type": "code",
   "execution_count": 6,
   "metadata": {},
   "outputs": [],
   "source": [
    "def scrap_value_per_year(data: ModelInputs):\n",
    "    '''\n",
    "    This function returns the scrap value per year, will only return a value when a machine\n",
    "    breakes down\n",
    "    '''\n",
    "    scrap_value = []\n",
    "    broken_machines = broken_machines_per_year(data)\n",
    "    for i in broken_machines:\n",
    "        if i == True:\n",
    "            scrap_value.append(data.price_scrap)\n",
    "        elif i == False:\n",
    "            scrap_value.append(0)\n",
    "    return scrap_value"
   ]
  },
  {
   "cell_type": "markdown",
   "metadata": {},
   "source": [
    "## Demand"
   ]
  },
  {
   "cell_type": "markdown",
   "metadata": {},
   "source": [
    "Now that we have the information for all the machines, we can start to look at the demand of phones, which will increase after all machines are bought since the company will start to invest in advertisement. <br> <br>\n",
    "With that in mind, we can get the number of phones sold per year, recall that for simplicity of this project, fractional phones can be sold."
   ]
  },
  {
   "cell_type": "code",
   "execution_count": 7,
   "metadata": {},
   "outputs": [],
   "source": [
    "def demand_of_phones(data: ModelInputs):\n",
    "    '''\n",
    "    This function creates a list of the demanded phones, will start increasing after all machines are bought\n",
    "    '''\n",
    "    demand = []\n",
    "    machines_bought = machines_bought_per_year(data)\n",
    "    for i in machines_bought:\n",
    "        if i == True:\n",
    "            demand.append(data.d_1)\n",
    "        elif i == False:\n",
    "            demand.append(demand[-1] * (1 + data.g_d))\n",
    "    return demand"
   ]
  },
  {
   "cell_type": "code",
   "execution_count": 8,
   "metadata": {},
   "outputs": [],
   "source": [
    "def phones_sold_per_year(data: ModelInputs):\n",
    "    '''\n",
    "    This function creates the number of phones produced depending on the number\n",
    "    of working machines, then it returns phones sold according to the demand \n",
    "    per year\n",
    "    '''\n",
    "    working_machines = working_machines_per_year()\n",
    "    phones_produced = [i * data.n_phones for i in working_machines]\n",
    "    demand = demand_of_phones(data)\n",
    "    phones_sold = []\n",
    "    for p, d in zip(phones_produced, demand):\n",
    "        if p >= d:\n",
    "            phones_sold.append(d)\n",
    "        else:\n",
    "            phones_sold.append(p)\n",
    "    return phones_sold"
   ]
  },
  {
   "cell_type": "markdown",
   "metadata": {},
   "source": [
    "Numer of phones sold per year"
   ]
  },
  {
   "cell_type": "code",
   "execution_count": 9,
   "metadata": {},
   "outputs": [
    {
     "data": {
      "text/plain": [
       "[100000,\n",
       " 100000,\n",
       " 100000,\n",
       " 100000,\n",
       " 100000,\n",
       " 120000.0,\n",
       " 144000.0,\n",
       " 172800.0,\n",
       " 207360.0,\n",
       " 248832.0,\n",
       " 298598.39999999997,\n",
       " 300000,\n",
       " 200000,\n",
       " 100000,\n",
       " 0,\n",
       " 0,\n",
       " 0,\n",
       " 0,\n",
       " 0,\n",
       " 0]"
      ]
     },
     "execution_count": 9,
     "metadata": {},
     "output_type": "execute_result"
    }
   ],
   "source": [
    "phones_sold_per_year(model_data)"
   ]
  },
  {
   "cell_type": "markdown",
   "metadata": {},
   "source": [
    "## Cash Flows"
   ]
  },
  {
   "cell_type": "markdown",
   "metadata": {},
   "source": [
    "We now have all the necessary information to get the cash flows for the company"
   ]
  },
  {
   "cell_type": "code",
   "execution_count": 10,
   "metadata": {},
   "outputs": [],
   "source": [
    "def cash_flows_per_year(data: ModelInputs):  \n",
    "    '''\n",
    "    This function takes the inputs of the class and returns\n",
    "    the cash flows of the project\n",
    "    '''\n",
    "    revenues = []\n",
    "    money_in = []\n",
    "    cogs = []\n",
    "    money_out = []\n",
    "    phones = phones_sold_per_year(data)\n",
    "    scrap = scrap_value_per_year(data)\n",
    "    \n",
    "    # This creates a list of revenues, which multiplies each number of phones\n",
    "    # sold by year by the price given in the class\n",
    "    revenues = [i * data.price_phone for i in phones]\n",
    "    \n",
    "    # This creates a list of cogs, which multiplies each number of phones\n",
    "    # sold by year by the variable cost per phone given in the class\n",
    "    cogs = [i * data.cogs_phone for i in phones]\n",
    "    \n",
    "    # This creates a list of the revenues plus the scrap value of the machines per year\n",
    "    money_in = [x + y for x, y in zip(revenues, scrap)]\n",
    "    \n",
    "    # This creates a list of cogs plus cash spent per year\n",
    "    money_out = [i + data.cost_machine_adv for i in cogs]\n",
    "    \n",
    "    # The money-in minus the money-out of each year will be our cash flow\n",
    "    cash_flows = [x - y for x, y in zip(money_in, money_out)]\n",
    "    return cash_flows"
   ]
  },
  {
   "cell_type": "code",
   "execution_count": 11,
   "metadata": {},
   "outputs": [
    {
     "data": {
      "text/plain": [
       "[24000000,\n",
       " 24000000,\n",
       " 24000000,\n",
       " 24000000,\n",
       " 24000000,\n",
       " 29000000.0,\n",
       " 35000000.0,\n",
       " 42200000.0,\n",
       " 50840000.0,\n",
       " 61208000.0,\n",
       " 73699599.99999999,\n",
       " 74050000,\n",
       " 49050000,\n",
       " 24050000,\n",
       " -950000,\n",
       " -1000000,\n",
       " -1000000,\n",
       " -1000000,\n",
       " -1000000,\n",
       " -1000000]"
      ]
     },
     "execution_count": 11,
     "metadata": {},
     "output_type": "execute_result"
    }
   ],
   "source": [
    "cash_flows_per_year(model_data)"
   ]
  },
  {
   "cell_type": "markdown",
   "metadata": {},
   "source": [
    "## NPV"
   ]
  },
  {
   "cell_type": "markdown",
   "metadata": {},
   "source": [
    "This section determines the NPV of the project with the current inputs. This is the main output from the model."
   ]
  },
  {
   "cell_type": "code",
   "execution_count": 12,
   "metadata": {},
   "outputs": [],
   "source": [
    "def model_npv(data: ModelInputs):\n",
    "    '''\n",
    "    Determines the NPV of the entire phone manufacturing capital budget problem.\n",
    "    Uses the cash flows from cash_flows_per_year and calculates the NPV from them\n",
    "    '''\n",
    "    # numpy NPV assumes first year is zero, we don't have a year zero so add a zero cash flow\n",
    "    cf = cash_flows_per_year(data)\n",
    "    all_cash_flows = [0] + cf\n",
    "    npv = npf.npv(data.interest, all_cash_flows)\n",
    "    return npv"
   ]
  },
  {
   "cell_type": "code",
   "execution_count": 13,
   "metadata": {},
   "outputs": [
    {
     "data": {
      "text/plain": [
       "369276542.47415346"
      ]
     },
     "execution_count": 13,
     "metadata": {},
     "output_type": "execute_result"
    }
   ],
   "source": [
    "npv = model_npv(model_data)\n",
    "npv"
   ]
  },
  {
   "cell_type": "markdown",
   "metadata": {},
   "source": [
    "## Final Outputs"
   ]
  },
  {
   "cell_type": "markdown",
   "metadata": {},
   "source": [
    "We have calculated all the cash flows for the years and the corresponding net present value, just to make it more readable, we will format the answers."
   ]
  },
  {
   "cell_type": "code",
   "execution_count": 14,
   "metadata": {},
   "outputs": [
    {
     "name": "stdout",
     "output_type": "stream",
     "text": [
      "Cash Flows:\n",
      "Year 1: $24,000,000\n",
      "Year 2: $24,000,000\n",
      "Year 3: $24,000,000\n",
      "Year 4: $24,000,000\n",
      "Year 5: $24,000,000\n",
      "Year 6: $29,000,000\n",
      "Year 7: $35,000,000\n",
      "Year 8: $42,200,000\n",
      "Year 9: $50,840,000\n",
      "Year 10: $61,208,000\n",
      "Year 11: $73,699,600\n",
      "Year 12: $74,050,000\n",
      "Year 13: $49,050,000\n",
      "Year 14: $24,050,000\n",
      "Year 15: $-950,000\n",
      "Year 16: $-1,000,000\n",
      "Year 17: $-1,000,000\n",
      "Year 18: $-1,000,000\n",
      "Year 19: $-1,000,000\n",
      "Year 20: $-1,000,000\n",
      "\n",
      "\n",
      "NPV: $369,276,542\n"
     ]
    }
   ],
   "source": [
    "formatted_cash_flows = [f'Year {i + 1}: ${cf:,.0f}' for i, cf in enumerate(cash_flows_per_year(model_data))]\n",
    "print('Cash Flows:\\n' + '\\n'.join(formatted_cash_flows))\n",
    "print(f'\\n\\nNPV: ${npv:,.0f}')"
   ]
  },
  {
   "cell_type": "markdown",
   "metadata": {},
   "source": [
    "## Monte Carlo Simulation\n",
    "\n",
    "As we recall, project is based manly on several functions, this will facilitate the Monte Carlo Simulation extension\n",
    "\n",
    "### Level 1\n",
    "- You are concerned the NPV could be heavily affected by changes in the interest rate. Instead of fixing it, draw it from a normal distribution with mean of 7% and standard deviation of 2%. <br><br>\n",
    "- Run the model 10,000 times and collect the NPV results. Visualize the results. Create a table of probabilities and the minimum NPV we could expect with that probability. Output the chance that the NPV will be more than \\\\$400,000,000.\n",
    "\n",
    "### Level 2\n",
    "- Continue from the first lab exercise. Now you are also concerned that your assembly line will not be as efficient and so the number of phones per machine will be lower. So draw that from a normal distribution with mean 100,000 and standard deviation of 20,000.<br><br>\n",
    "- As you run the model, also store what were the interest and number of phones corresponding to the NPV. You want to see which has a greater impact on the NPV: interest or number of phones. Visualize the relationship between interest and NPV, and the relationship between number of phones and NPV. Also run a regression to quantitatively determine which has a greater effect."
   ]
  },
  {
   "cell_type": "markdown",
   "metadata": {},
   "source": [
    "## Simulation Inputs"
   ]
  },
  {
   "cell_type": "code",
   "execution_count": 33,
   "metadata": {},
   "outputs": [],
   "source": [
    "@dataclass\n",
    "class SimluationInputs:\n",
    "    interest_mean: float = 0.07\n",
    "    interest_std: float = 0.02\n",
    "    n_phones_std: float = 20000\n",
    "    n_iterations: int = 10000    \n",
    "        \n",
    "sim_data = SimluationInputs()\n",
    "data =model_data"
   ]
  },
  {
   "cell_type": "markdown",
   "metadata": {},
   "source": [
    "### Level 1"
   ]
  },
  {
   "cell_type": "code",
   "execution_count": 16,
   "metadata": {},
   "outputs": [],
   "source": [
    "def simulation(sim_data):\n",
    "    interest = random.normalvariate(sim_data.interest_mean, sim_data.interest_std)\n",
    "    new_data = ModelInputs(interest=interest)\n",
    "    npv = model_npv(new_data)\n",
    "    return interest, npv\n",
    "\n",
    "def simulations_df(sim_data):\n",
    "    results = [simulation(sim_data) for i in range(sim_data.n_iterations)]\n",
    "    df = pd.DataFrame(results, columns = ['Interest', 'NPV'])\n",
    "    return df"
   ]
  },
  {
   "cell_type": "code",
   "execution_count": 17,
   "metadata": {},
   "outputs": [],
   "source": [
    "def styled_df(df):\n",
    "    return df.style.format({\n",
    "        'Interest': '{:.2%}',\n",
    "        'NPV': '${:,.0f}'\n",
    "    }).background_gradient(cmap='RdYlGn', subset='NPV')"
   ]
  },
  {
   "cell_type": "code",
   "execution_count": 18,
   "metadata": {},
   "outputs": [],
   "source": [
    "df = simulations_df(sim_data)"
   ]
  },
  {
   "cell_type": "code",
   "execution_count": 19,
   "metadata": {},
   "outputs": [
    {
     "data": {
      "text/html": [
       "<style  type=\"text/css\" >\n",
       "#T_2bcc7_row0_col1{\n",
       "            background-color:  #006837;\n",
       "            color:  #f1f1f1;\n",
       "        }#T_2bcc7_row1_col1{\n",
       "            background-color:  #a50026;\n",
       "            color:  #f1f1f1;\n",
       "        }#T_2bcc7_row2_col1{\n",
       "            background-color:  #63bc62;\n",
       "            color:  #000000;\n",
       "        }#T_2bcc7_row3_col1{\n",
       "            background-color:  #5db961;\n",
       "            color:  #000000;\n",
       "        }#T_2bcc7_row4_col1{\n",
       "            background-color:  #66bd63;\n",
       "            color:  #000000;\n",
       "        }</style><table id=\"T_2bcc7_\" ><thead>    <tr>        <th class=\"blank level0\" ></th>        <th class=\"col_heading level0 col0\" >Interest</th>        <th class=\"col_heading level0 col1\" >NPV</th>    </tr></thead><tbody>\n",
       "                <tr>\n",
       "                        <th id=\"T_2bcc7_level0_row0\" class=\"row_heading level0 row0\" >0</th>\n",
       "                        <td id=\"T_2bcc7_row0_col0\" class=\"data row0 col0\" >4.99%</td>\n",
       "                        <td id=\"T_2bcc7_row0_col1\" class=\"data row0 col1\" >$369,662,594</td>\n",
       "            </tr>\n",
       "            <tr>\n",
       "                        <th id=\"T_2bcc7_level0_row1\" class=\"row_heading level0 row1\" >1</th>\n",
       "                        <td id=\"T_2bcc7_row1_col0\" class=\"data row1 col0\" >8.08%</td>\n",
       "                        <td id=\"T_2bcc7_row1_col1\" class=\"data row1 col1\" >$295,146,335</td>\n",
       "            </tr>\n",
       "            <tr>\n",
       "                        <th id=\"T_2bcc7_level0_row2\" class=\"row_heading level0 row2\" >2</th>\n",
       "                        <td id=\"T_2bcc7_row2_col0\" class=\"data row2 col0\" >5.52%</td>\n",
       "                        <td id=\"T_2bcc7_row2_col1\" class=\"data row2 col1\" >$354,994,473</td>\n",
       "            </tr>\n",
       "            <tr>\n",
       "                        <th id=\"T_2bcc7_level0_row3\" class=\"row_heading level0 row3\" >3</th>\n",
       "                        <td id=\"T_2bcc7_row3_col0\" class=\"data row3 col0\" >5.50%</td>\n",
       "                        <td id=\"T_2bcc7_row3_col1\" class=\"data row3 col1\" >$355,634,014</td>\n",
       "            </tr>\n",
       "            <tr>\n",
       "                        <th id=\"T_2bcc7_level0_row4\" class=\"row_heading level0 row4\" >4</th>\n",
       "                        <td id=\"T_2bcc7_row4_col0\" class=\"data row4 col0\" >5.53%</td>\n",
       "                        <td id=\"T_2bcc7_row4_col1\" class=\"data row4 col1\" >$354,745,486</td>\n",
       "            </tr>\n",
       "    </tbody></table>"
      ],
      "text/plain": [
       "<pandas.io.formats.style.Styler at 0x7f97c6af3990>"
      ]
     },
     "execution_count": 19,
     "metadata": {},
     "output_type": "execute_result"
    }
   ],
   "source": [
    "styled_df(df.head())"
   ]
  },
  {
   "cell_type": "code",
   "execution_count": 20,
   "metadata": {},
   "outputs": [
    {
     "data": {
      "text/plain": [
       "<AxesSubplot:ylabel='Frequency'>"
      ]
     },
     "execution_count": 20,
     "metadata": {},
     "output_type": "execute_result"
    },
    {
     "data": {
      "image/png": "[encoded data removed]",
      "text/plain": [
       "<Figure size 432x288 with 1 Axes>"
      ]
     },
     "metadata": {
      "needs_background": "light"
     },
     "output_type": "display_data"
    }
   ],
   "source": [
    "df['NPV'].plot.hist(bins=100)"
   ]
  },
  {
   "cell_type": "code",
   "execution_count": 21,
   "metadata": {},
   "outputs": [
    {
     "data": {
      "text/html": [
       "<style  type=\"text/css\" >\n",
       "#T_d0bf5_row0_col1{\n",
       "            background-color:  #a50026;\n",
       "            color:  #f1f1f1;\n",
       "        }#T_d0bf5_row1_col1{\n",
       "            background-color:  #cc2627;\n",
       "            color:  #f1f1f1;\n",
       "        }#T_d0bf5_row2_col1{\n",
       "            background-color:  #e14430;\n",
       "            color:  #f1f1f1;\n",
       "        }#T_d0bf5_row3_col1{\n",
       "            background-color:  #f16640;\n",
       "            color:  #000000;\n",
       "        }#T_d0bf5_row4_col1{\n",
       "            background-color:  #f7814c;\n",
       "            color:  #000000;\n",
       "        }#T_d0bf5_row5_col1{\n",
       "            background-color:  #fa9b58;\n",
       "            color:  #000000;\n",
       "        }#T_d0bf5_row6_col1{\n",
       "            background-color:  #fdb163;\n",
       "            color:  #000000;\n",
       "        }#T_d0bf5_row7_col1{\n",
       "            background-color:  #fdc574;\n",
       "            color:  #000000;\n",
       "        }#T_d0bf5_row8_col1{\n",
       "            background-color:  #fed683;\n",
       "            color:  #000000;\n",
       "        }#T_d0bf5_row9_col1{\n",
       "            background-color:  #fee695;\n",
       "            color:  #000000;\n",
       "        }#T_d0bf5_row10_col1{\n",
       "            background-color:  #fff2aa;\n",
       "            color:  #000000;\n",
       "        }#T_d0bf5_row11_col1{\n",
       "            background-color:  #fffdbc;\n",
       "            color:  #000000;\n",
       "        }#T_d0bf5_row12_col1{\n",
       "            background-color:  #f1f9ac;\n",
       "            color:  #000000;\n",
       "        }#T_d0bf5_row13_col1{\n",
       "            background-color:  #e0f295;\n",
       "            color:  #000000;\n",
       "        }#T_d0bf5_row14_col1{\n",
       "            background-color:  #c9e881;\n",
       "            color:  #000000;\n",
       "        }#T_d0bf5_row15_col1{\n",
       "            background-color:  #addc6f;\n",
       "            color:  #000000;\n",
       "        }#T_d0bf5_row16_col1{\n",
       "            background-color:  #84ca66;\n",
       "            color:  #000000;\n",
       "        }#T_d0bf5_row17_col1{\n",
       "            background-color:  #3faa59;\n",
       "            color:  #000000;\n",
       "        }#T_d0bf5_row18_col1{\n",
       "            background-color:  #006837;\n",
       "            color:  #f1f1f1;\n",
       "        }</style><table id=\"T_d0bf5_\" ><thead>    <tr>        <th class=\"blank level0\" ></th>        <th class=\"col_heading level0 col0\" >Interest</th>        <th class=\"col_heading level0 col1\" >NPV</th>    </tr></thead><tbody>\n",
       "                <tr>\n",
       "                        <th id=\"T_d0bf5_level0_row0\" class=\"row_heading level0 row0\" >0.05</th>\n",
       "                        <td id=\"T_d0bf5_row0_col0\" class=\"data row0 col0\" >3.65%</td>\n",
       "                        <td id=\"T_d0bf5_row0_col1\" class=\"data row0 col1\" >$254,418,333</td>\n",
       "            </tr>\n",
       "            <tr>\n",
       "                        <th id=\"T_d0bf5_level0_row1\" class=\"row_heading level0 row1\" >0.1</th>\n",
       "                        <td id=\"T_d0bf5_row1_col0\" class=\"data row1 col0\" >4.40%</td>\n",
       "                        <td id=\"T_d0bf5_row1_col1\" class=\"data row1 col1\" >$267,073,274</td>\n",
       "            </tr>\n",
       "            <tr>\n",
       "                        <th id=\"T_d0bf5_level0_row2\" class=\"row_heading level0 row2\" >0.15</th>\n",
       "                        <td id=\"T_d0bf5_row2_col0\" class=\"data row2 col0\" >4.92%</td>\n",
       "                        <td id=\"T_d0bf5_row2_col1\" class=\"data row2 col1\" >$275,526,637</td>\n",
       "            </tr>\n",
       "            <tr>\n",
       "                        <th id=\"T_d0bf5_level0_row3\" class=\"row_heading level0 row3\" >0.2</th>\n",
       "                        <td id=\"T_d0bf5_row3_col0\" class=\"data row3 col0\" >5.30%</td>\n",
       "                        <td id=\"T_d0bf5_row3_col1\" class=\"data row3 col1\" >$283,616,028</td>\n",
       "            </tr>\n",
       "            <tr>\n",
       "                        <th id=\"T_d0bf5_level0_row4\" class=\"row_heading level0 row4\" >0.25</th>\n",
       "                        <td id=\"T_d0bf5_row4_col0\" class=\"data row4 col0\" >5.61%</td>\n",
       "                        <td id=\"T_d0bf5_row4_col1\" class=\"data row4 col1\" >$290,468,288</td>\n",
       "            </tr>\n",
       "            <tr>\n",
       "                        <th id=\"T_d0bf5_level0_row5\" class=\"row_heading level0 row5\" >0.3</th>\n",
       "                        <td id=\"T_d0bf5_row5_col0\" class=\"data row5 col0\" >5.92%</td>\n",
       "                        <td id=\"T_d0bf5_row5_col1\" class=\"data row5 col1\" >$296,644,903</td>\n",
       "            </tr>\n",
       "            <tr>\n",
       "                        <th id=\"T_d0bf5_level0_row6\" class=\"row_heading level0 row6\" >0.35</th>\n",
       "                        <td id=\"T_d0bf5_row6_col0\" class=\"data row6 col0\" >6.20%</td>\n",
       "                        <td id=\"T_d0bf5_row6_col1\" class=\"data row6 col1\" >$302,129,959</td>\n",
       "            </tr>\n",
       "            <tr>\n",
       "                        <th id=\"T_d0bf5_level0_row7\" class=\"row_heading level0 row7\" >0.4</th>\n",
       "                        <td id=\"T_d0bf5_row7_col0\" class=\"data row7 col0\" >6.46%</td>\n",
       "                        <td id=\"T_d0bf5_row7_col1\" class=\"data row7 col1\" >$307,888,353</td>\n",
       "            </tr>\n",
       "            <tr>\n",
       "                        <th id=\"T_d0bf5_level0_row8\" class=\"row_heading level0 row8\" >0.45</th>\n",
       "                        <td id=\"T_d0bf5_row8_col0\" class=\"data row8 col0\" >6.70%</td>\n",
       "                        <td id=\"T_d0bf5_row8_col1\" class=\"data row8 col1\" >$313,366,445</td>\n",
       "            </tr>\n",
       "            <tr>\n",
       "                        <th id=\"T_d0bf5_level0_row9\" class=\"row_heading level0 row9\" >0.5</th>\n",
       "                        <td id=\"T_d0bf5_row9_col0\" class=\"data row9 col0\" >6.96%</td>\n",
       "                        <td id=\"T_d0bf5_row9_col1\" class=\"data row9 col1\" >$319,485,343</td>\n",
       "            </tr>\n",
       "            <tr>\n",
       "                        <th id=\"T_d0bf5_level0_row10\" class=\"row_heading level0 row10\" >0.55</th>\n",
       "                        <td id=\"T_d0bf5_row10_col0\" class=\"data row10 col0\" >7.23%</td>\n",
       "                        <td id=\"T_d0bf5_row10_col1\" class=\"data row10 col1\" >$325,569,715</td>\n",
       "            </tr>\n",
       "            <tr>\n",
       "                        <th id=\"T_d0bf5_level0_row11\" class=\"row_heading level0 row11\" >0.6</th>\n",
       "                        <td id=\"T_d0bf5_row11_col0\" class=\"data row11 col0\" >7.48%</td>\n",
       "                        <td id=\"T_d0bf5_row11_col1\" class=\"data row11 col1\" >$331,318,715</td>\n",
       "            </tr>\n",
       "            <tr>\n",
       "                        <th id=\"T_d0bf5_level0_row12\" class=\"row_heading level0 row12\" >0.65</th>\n",
       "                        <td id=\"T_d0bf5_row12_col0\" class=\"data row12 col0\" >7.75%</td>\n",
       "                        <td id=\"T_d0bf5_row12_col1\" class=\"data row12 col1\" >$337,710,102</td>\n",
       "            </tr>\n",
       "            <tr>\n",
       "                        <th id=\"T_d0bf5_level0_row13\" class=\"row_heading level0 row13\" >0.7</th>\n",
       "                        <td id=\"T_d0bf5_row13_col0\" class=\"data row13 col0\" >8.01%</td>\n",
       "                        <td id=\"T_d0bf5_row13_col1\" class=\"data row13 col1\" >$344,714,968</td>\n",
       "            </tr>\n",
       "            <tr>\n",
       "                        <th id=\"T_d0bf5_level0_row14\" class=\"row_heading level0 row14\" >0.75</th>\n",
       "                        <td id=\"T_d0bf5_row14_col0\" class=\"data row14 col0\" >8.31%</td>\n",
       "                        <td id=\"T_d0bf5_row14_col1\" class=\"data row14 col1\" >$352,629,366</td>\n",
       "            </tr>\n",
       "            <tr>\n",
       "                        <th id=\"T_d0bf5_level0_row15\" class=\"row_heading level0 row15\" >0.8</th>\n",
       "                        <td id=\"T_d0bf5_row15_col0\" class=\"data row15 col0\" >8.65%</td>\n",
       "                        <td id=\"T_d0bf5_row15_col1\" class=\"data row15 col1\" >$361,058,100</td>\n",
       "            </tr>\n",
       "            <tr>\n",
       "                        <th id=\"T_d0bf5_level0_row16\" class=\"row_heading level0 row16\" >0.85</th>\n",
       "                        <td id=\"T_d0bf5_row16_col0\" class=\"data row16 col0\" >9.08%</td>\n",
       "                        <td id=\"T_d0bf5_row16_col1\" class=\"data row16 col1\" >$371,405,142</td>\n",
       "            </tr>\n",
       "            <tr>\n",
       "                        <th id=\"T_d0bf5_level0_row17\" class=\"row_heading level0 row17\" >0.9</th>\n",
       "                        <td id=\"T_d0bf5_row17_col0\" class=\"data row17 col0\" >9.54%</td>\n",
       "                        <td id=\"T_d0bf5_row17_col1\" class=\"data row17 col1\" >$386,585,118</td>\n",
       "            </tr>\n",
       "            <tr>\n",
       "                        <th id=\"T_d0bf5_level0_row18\" class=\"row_heading level0 row18\" >0.95</th>\n",
       "                        <td id=\"T_d0bf5_row18_col0\" class=\"data row18 col0\" >10.27%</td>\n",
       "                        <td id=\"T_d0bf5_row18_col1\" class=\"data row18 col1\" >$409,689,176</td>\n",
       "            </tr>\n",
       "    </tbody></table>"
      ],
      "text/plain": [
       "<pandas.io.formats.style.Styler at 0x7f97c72c2350>"
      ]
     },
     "execution_count": 21,
     "metadata": {},
     "output_type": "execute_result"
    }
   ],
   "source": [
    "styled_df(df.quantile([i/20 for i in range(1,20)]))"
   ]
  },
  {
   "cell_type": "code",
   "execution_count": 22,
   "metadata": {},
   "outputs": [
    {
     "name": "stdout",
     "output_type": "stream",
     "text": [
      "There is a  6.84% chance that NPV will be greater than $ 400,000,000\n"
     ]
    }
   ],
   "source": [
    "cutoff = 400000000\n",
    "pct = (df['NPV'] > cutoff).astype(int).mean()\n",
    "print(f'There is a {pct: .2%} chance that NPV will be greater than ${cutoff: ,.0f}')"
   ]
  },
  {
   "cell_type": "markdown",
   "metadata": {},
   "source": [
    "### Level 2"
   ]
  },
  {
   "cell_type": "code",
   "execution_count": 34,
   "metadata": {},
   "outputs": [],
   "source": [
    "def simulation(sim_data):\n",
    "    interest = random.normalvariate(sim_data.interest_mean, sim_data.interest_std)\n",
    "    n_phones = random.normalvariate(data.n_phones, sim_data.n_phones_std)\n",
    "    new_data = ModelInputs(interest=interest, n_phones=n_phones)\n",
    "    npv = model_npv(new_data)\n",
    "    return interest, n_phones, npv\n",
    "\n",
    "def simulations_df(sim_data):\n",
    "    results = [simulation(sim_data) for i in range(sim_data.n_iterations)]\n",
    "    df = pd.DataFrame(results, columns = ['Interest', 'Number of Phones', 'NPV'])\n",
    "    return df"
   ]
  },
  {
   "cell_type": "code",
   "execution_count": 35,
   "metadata": {},
   "outputs": [],
   "source": [
    "def styled_df(df):\n",
    "    return df.style.format({\n",
    "        'Interest': '{:.2%}',\n",
    "        'Number of Phones': '{:,.0f}',\n",
    "        'NPV': '${:,.0f}'\n",
    "        \n",
    "    }).background_gradient(cmap='RdYlGn', subset='NPV')"
   ]
  },
  {
   "cell_type": "code",
   "execution_count": 36,
   "metadata": {},
   "outputs": [
    {
     "data": {
      "text/plain": [
       "<AxesSubplot:ylabel='Frequency'>"
      ]
     },
     "execution_count": 36,
     "metadata": {},
     "output_type": "execute_result"
    },
    {
     "data": {
      "image/png": "[encoded data removed]",
      "text/plain": [
       "<Figure size 432x288 with 1 Axes>"
      ]
     },
     "metadata": {
      "needs_background": "light"
     },
     "output_type": "display_data"
    }
   ],
   "source": [
    "df = simulations_df(sim_data)\n",
    "df['NPV'].plot.hist(bins=100)"
   ]
  },
  {
   "cell_type": "code",
   "execution_count": 37,
   "metadata": {},
   "outputs": [
    {
     "data": {
      "text/html": [
       "<style  type=\"text/css\" >\n",
       "#T_c8902_row0_col2{\n",
       "            background-color:  #a50026;\n",
       "            color:  #f1f1f1;\n",
       "        }#T_c8902_row1_col2{\n",
       "            background-color:  #cc2627;\n",
       "            color:  #f1f1f1;\n",
       "        }#T_c8902_row2_col2{\n",
       "            background-color:  #e14430;\n",
       "            color:  #f1f1f1;\n",
       "        }#T_c8902_row3_col2{\n",
       "            background-color:  #ee613e;\n",
       "            color:  #000000;\n",
       "        }#T_c8902_row4_col2{\n",
       "            background-color:  #f67c4a;\n",
       "            color:  #000000;\n",
       "        }#T_c8902_row5_col2{\n",
       "            background-color:  #fa9656;\n",
       "            color:  #000000;\n",
       "        }#T_c8902_row6_col2{\n",
       "            background-color:  #fdaf62;\n",
       "            color:  #000000;\n",
       "        }#T_c8902_row7_col2{\n",
       "            background-color:  #fdc171;\n",
       "            color:  #000000;\n",
       "        }#T_c8902_row8_col2{\n",
       "            background-color:  #fed481;\n",
       "            color:  #000000;\n",
       "        }#T_c8902_row9_col2{\n",
       "            background-color:  #fee491;\n",
       "            color:  #000000;\n",
       "        }#T_c8902_row10_col2{\n",
       "            background-color:  #fff1a8;\n",
       "            color:  #000000;\n",
       "        }#T_c8902_row11_col2{\n",
       "            background-color:  #fffcba;\n",
       "            color:  #000000;\n",
       "        }#T_c8902_row12_col2{\n",
       "            background-color:  #f2faae;\n",
       "            color:  #000000;\n",
       "        }#T_c8902_row13_col2{\n",
       "            background-color:  #e0f295;\n",
       "            color:  #000000;\n",
       "        }#T_c8902_row14_col2{\n",
       "            background-color:  #cbe982;\n",
       "            color:  #000000;\n",
       "        }#T_c8902_row15_col2{\n",
       "            background-color:  #abdb6d;\n",
       "            color:  #000000;\n",
       "        }#T_c8902_row16_col2{\n",
       "            background-color:  #82c966;\n",
       "            color:  #000000;\n",
       "        }#T_c8902_row17_col2{\n",
       "            background-color:  #3ca959;\n",
       "            color:  #000000;\n",
       "        }#T_c8902_row18_col2{\n",
       "            background-color:  #006837;\n",
       "            color:  #f1f1f1;\n",
       "        }</style><table id=\"T_c8902_\" ><thead>    <tr>        <th class=\"blank level0\" ></th>        <th class=\"col_heading level0 col0\" >Interest</th>        <th class=\"col_heading level0 col1\" >Number of Phones</th>        <th class=\"col_heading level0 col2\" >NPV</th>    </tr></thead><tbody>\n",
       "                <tr>\n",
       "                        <th id=\"T_c8902_level0_row0\" class=\"row_heading level0 row0\" >0.05</th>\n",
       "                        <td id=\"T_c8902_row0_col0\" class=\"data row0 col0\" >3.67%</td>\n",
       "                        <td id=\"T_c8902_row0_col1\" class=\"data row0 col1\" >66,810</td>\n",
       "                        <td id=\"T_c8902_row0_col2\" class=\"data row0 col2\" >$248,932,291</td>\n",
       "            </tr>\n",
       "            <tr>\n",
       "                        <th id=\"T_c8902_level0_row1\" class=\"row_heading level0 row1\" >0.1</th>\n",
       "                        <td id=\"T_c8902_row1_col0\" class=\"data row1 col0\" >4.38%</td>\n",
       "                        <td id=\"T_c8902_row1_col1\" class=\"data row1 col1\" >73,895</td>\n",
       "                        <td id=\"T_c8902_row1_col2\" class=\"data row1 col2\" >$262,248,137</td>\n",
       "            </tr>\n",
       "            <tr>\n",
       "                        <th id=\"T_c8902_level0_row2\" class=\"row_heading level0 row2\" >0.15</th>\n",
       "                        <td id=\"T_c8902_row2_col0\" class=\"data row2 col0\" >4.87%</td>\n",
       "                        <td id=\"T_c8902_row2_col1\" class=\"data row2 col1\" >79,036</td>\n",
       "                        <td id=\"T_c8902_row2_col2\" class=\"data row2 col2\" >$270,785,842</td>\n",
       "            </tr>\n",
       "            <tr>\n",
       "                        <th id=\"T_c8902_level0_row3\" class=\"row_heading level0 row3\" >0.2</th>\n",
       "                        <td id=\"T_c8902_row3_col0\" class=\"data row3 col0\" >5.27%</td>\n",
       "                        <td id=\"T_c8902_row3_col1\" class=\"data row3 col1\" >83,116</td>\n",
       "                        <td id=\"T_c8902_row3_col2\" class=\"data row3 col2\" >$278,282,260</td>\n",
       "            </tr>\n",
       "            <tr>\n",
       "                        <th id=\"T_c8902_level0_row4\" class=\"row_heading level0 row4\" >0.25</th>\n",
       "                        <td id=\"T_c8902_row4_col0\" class=\"data row4 col0\" >5.58%</td>\n",
       "                        <td id=\"T_c8902_row4_col1\" class=\"data row4 col1\" >86,770</td>\n",
       "                        <td id=\"T_c8902_row4_col2\" class=\"data row4 col2\" >$285,553,302</td>\n",
       "            </tr>\n",
       "            <tr>\n",
       "                        <th id=\"T_c8902_level0_row5\" class=\"row_heading level0 row5\" >0.3</th>\n",
       "                        <td id=\"T_c8902_row5_col0\" class=\"data row5 col0\" >5.89%</td>\n",
       "                        <td id=\"T_c8902_row5_col1\" class=\"data row5 col1\" >89,684</td>\n",
       "                        <td id=\"T_c8902_row5_col2\" class=\"data row5 col2\" >$291,686,953</td>\n",
       "            </tr>\n",
       "            <tr>\n",
       "                        <th id=\"T_c8902_level0_row6\" class=\"row_heading level0 row6\" >0.35</th>\n",
       "                        <td id=\"T_c8902_row6_col0\" class=\"data row6 col0\" >6.17%</td>\n",
       "                        <td id=\"T_c8902_row6_col1\" class=\"data row6 col1\" >92,479</td>\n",
       "                        <td id=\"T_c8902_row6_col2\" class=\"data row6 col2\" >$297,911,385</td>\n",
       "            </tr>\n",
       "            <tr>\n",
       "                        <th id=\"T_c8902_level0_row7\" class=\"row_heading level0 row7\" >0.4</th>\n",
       "                        <td id=\"T_c8902_row7_col0\" class=\"data row7 col0\" >6.43%</td>\n",
       "                        <td id=\"T_c8902_row7_col1\" class=\"data row7 col1\" >95,066</td>\n",
       "                        <td id=\"T_c8902_row7_col2\" class=\"data row7 col2\" >$304,212,578</td>\n",
       "            </tr>\n",
       "            <tr>\n",
       "                        <th id=\"T_c8902_level0_row8\" class=\"row_heading level0 row8\" >0.45</th>\n",
       "                        <td id=\"T_c8902_row8_col0\" class=\"data row8 col0\" >6.70%</td>\n",
       "                        <td id=\"T_c8902_row8_col1\" class=\"data row8 col1\" >97,583</td>\n",
       "                        <td id=\"T_c8902_row8_col2\" class=\"data row8 col2\" >$310,426,693</td>\n",
       "            </tr>\n",
       "            <tr>\n",
       "                        <th id=\"T_c8902_level0_row9\" class=\"row_heading level0 row9\" >0.5</th>\n",
       "                        <td id=\"T_c8902_row9_col0\" class=\"data row9 col0\" >6.95%</td>\n",
       "                        <td id=\"T_c8902_row9_col1\" class=\"data row9 col1\" >100,321</td>\n",
       "                        <td id=\"T_c8902_row9_col2\" class=\"data row9 col2\" >$316,282,047</td>\n",
       "            </tr>\n",
       "            <tr>\n",
       "                        <th id=\"T_c8902_level0_row10\" class=\"row_heading level0 row10\" >0.55</th>\n",
       "                        <td id=\"T_c8902_row10_col0\" class=\"data row10 col0\" >7.21%</td>\n",
       "                        <td id=\"T_c8902_row10_col1\" class=\"data row10 col1\" >102,733</td>\n",
       "                        <td id=\"T_c8902_row10_col2\" class=\"data row10 col2\" >$322,846,613</td>\n",
       "            </tr>\n",
       "            <tr>\n",
       "                        <th id=\"T_c8902_level0_row11\" class=\"row_heading level0 row11\" >0.6</th>\n",
       "                        <td id=\"T_c8902_row11_col0\" class=\"data row11 col0\" >7.46%</td>\n",
       "                        <td id=\"T_c8902_row11_col1\" class=\"data row11 col1\" >105,167</td>\n",
       "                        <td id=\"T_c8902_row11_col2\" class=\"data row11 col2\" >$328,709,795</td>\n",
       "            </tr>\n",
       "            <tr>\n",
       "                        <th id=\"T_c8902_level0_row12\" class=\"row_heading level0 row12\" >0.65</th>\n",
       "                        <td id=\"T_c8902_row12_col0\" class=\"data row12 col0\" >7.75%</td>\n",
       "                        <td id=\"T_c8902_row12_col1\" class=\"data row12 col1\" >107,780</td>\n",
       "                        <td id=\"T_c8902_row12_col2\" class=\"data row12 col2\" >$335,647,581</td>\n",
       "            </tr>\n",
       "            <tr>\n",
       "                        <th id=\"T_c8902_level0_row13\" class=\"row_heading level0 row13\" >0.7</th>\n",
       "                        <td id=\"T_c8902_row13_col0\" class=\"data row13 col0\" >8.04%</td>\n",
       "                        <td id=\"T_c8902_row13_col1\" class=\"data row13 col1\" >110,787</td>\n",
       "                        <td id=\"T_c8902_row13_col2\" class=\"data row13 col2\" >$343,256,843</td>\n",
       "            </tr>\n",
       "            <tr>\n",
       "                        <th id=\"T_c8902_level0_row14\" class=\"row_heading level0 row14\" >0.75</th>\n",
       "                        <td id=\"T_c8902_row14_col0\" class=\"data row14 col0\" >8.33%</td>\n",
       "                        <td id=\"T_c8902_row14_col1\" class=\"data row14 col1\" >113,636</td>\n",
       "                        <td id=\"T_c8902_row14_col2\" class=\"data row14 col2\" >$351,184,884</td>\n",
       "            </tr>\n",
       "            <tr>\n",
       "                        <th id=\"T_c8902_level0_row15\" class=\"row_heading level0 row15\" >0.8</th>\n",
       "                        <td id=\"T_c8902_row15_col0\" class=\"data row15 col0\" >8.67%</td>\n",
       "                        <td id=\"T_c8902_row15_col1\" class=\"data row15 col1\" >117,029</td>\n",
       "                        <td id=\"T_c8902_row15_col2\" class=\"data row15 col2\" >$360,859,285</td>\n",
       "            </tr>\n",
       "            <tr>\n",
       "                        <th id=\"T_c8902_level0_row16\" class=\"row_heading level0 row16\" >0.85</th>\n",
       "                        <td id=\"T_c8902_row16_col0\" class=\"data row16 col0\" >9.04%</td>\n",
       "                        <td id=\"T_c8902_row16_col1\" class=\"data row16 col1\" >120,942</td>\n",
       "                        <td id=\"T_c8902_row16_col2\" class=\"data row16 col2\" >$372,035,961</td>\n",
       "            </tr>\n",
       "            <tr>\n",
       "                        <th id=\"T_c8902_level0_row17\" class=\"row_heading level0 row17\" >0.9</th>\n",
       "                        <td id=\"T_c8902_row17_col0\" class=\"data row17 col0\" >9.53%</td>\n",
       "                        <td id=\"T_c8902_row17_col1\" class=\"data row17 col1\" >125,409</td>\n",
       "                        <td id=\"T_c8902_row17_col2\" class=\"data row17 col2\" >$387,783,012</td>\n",
       "            </tr>\n",
       "            <tr>\n",
       "                        <th id=\"T_c8902_level0_row18\" class=\"row_heading level0 row18\" >0.95</th>\n",
       "                        <td id=\"T_c8902_row18_col0\" class=\"data row18 col0\" >10.21%</td>\n",
       "                        <td id=\"T_c8902_row18_col1\" class=\"data row18 col1\" >132,694</td>\n",
       "                        <td id=\"T_c8902_row18_col2\" class=\"data row18 col2\" >$411,617,682</td>\n",
       "            </tr>\n",
       "    </tbody></table>"
      ],
      "text/plain": [
       "<pandas.io.formats.style.Styler at 0x7f97c761f210>"
      ]
     },
     "execution_count": 37,
     "metadata": {},
     "output_type": "execute_result"
    }
   ],
   "source": [
    "styled_df(df.quantile([i/20 for i in range(1,20)]))"
   ]
  },
  {
   "cell_type": "code",
   "execution_count": 38,
   "metadata": {},
   "outputs": [
    {
     "name": "stdout",
     "output_type": "stream",
     "text": [
      "There is a  7.07% chance that NPV will be greater than $ 400,000,000\n"
     ]
    }
   ],
   "source": [
    "cutoff = 400000000\n",
    "pct = (df['NPV'] > cutoff).astype(int).mean()\n",
    "print(f'There is a {pct: .2%} chance that NPV will be greater than ${cutoff: ,.0f}')"
   ]
  },
  {
   "cell_type": "code",
   "execution_count": 39,
   "metadata": {},
   "outputs": [
    {
     "data": {
      "image/png": "[encoded data removed]",
      "text/plain": [
       "<Figure size 432x288 with 1 Axes>"
      ]
     },
     "metadata": {
      "needs_background": "light"
     },
     "output_type": "display_data"
    },
    {
     "data": {
      "image/png": "[encoded data removed]",
      "text/plain": [
       "<Figure size 432x288 with 1 Axes>"
      ]
     },
     "metadata": {
      "needs_background": "light"
     },
     "output_type": "display_data"
    }
   ],
   "source": [
    "for col in ['Interest', 'Number of Phones']:\n",
    "    df.plot.scatter(x=col, y='NPV')"
   ]
  },
  {
   "cell_type": "code",
   "execution_count": 40,
   "metadata": {},
   "outputs": [
    {
     "data": {
      "text/html": [
       "<table class=\"simpletable\">\n",
       "<caption>OLS Regression Results</caption>\n",
       "<tr>\n",
       "  <th>Dep. Variable:</th>           <td>NPV</td>       <th>  R-squared:         </th>  <td>   0.972</td>  \n",
       "</tr>\n",
       "<tr>\n",
       "  <th>Model:</th>                   <td>OLS</td>       <th>  Adj. R-squared:    </th>  <td>   0.972</td>  \n",
       "</tr>\n",
       "<tr>\n",
       "  <th>Method:</th>             <td>Least Squares</td>  <th>  F-statistic:       </th>  <td>1.715e+05</td> \n",
       "</tr>\n",
       "<tr>\n",
       "  <th>Date:</th>             <td>Wed, 13 Jan 2021</td> <th>  Prob (F-statistic):</th>   <td>  0.00</td>   \n",
       "</tr>\n",
       "<tr>\n",
       "  <th>Time:</th>                 <td>19:46:16</td>     <th>  Log-Likelihood:    </th> <td>-1.7363e+05</td>\n",
       "</tr>\n",
       "<tr>\n",
       "  <th>No. Observations:</th>      <td> 10000</td>      <th>  AIC:               </th>  <td>3.473e+05</td> \n",
       "</tr>\n",
       "<tr>\n",
       "  <th>Df Residuals:</th>          <td>  9997</td>      <th>  BIC:               </th>  <td>3.473e+05</td> \n",
       "</tr>\n",
       "<tr>\n",
       "  <th>Df Model:</th>              <td>     2</td>      <th>                     </th>      <td> </td>     \n",
       "</tr>\n",
       "<tr>\n",
       "  <th>Covariance Type:</th>      <td>nonrobust</td>    <th>                     </th>      <td> </td>     \n",
       "</tr>\n",
       "</table>\n",
       "<table class=\"simpletable\">\n",
       "<tr>\n",
       "          <td></td>            <th>coef</th>     <th>std err</th>      <th>t</th>      <th>P>|t|</th>  <th>[0.025</th>    <th>0.975]</th>  \n",
       "</tr>\n",
       "<tr>\n",
       "  <th>const</th>            <td> 4.044e+08</td> <td> 5.15e+05</td> <td>  785.023</td> <td> 0.000</td> <td> 4.03e+08</td> <td> 4.05e+08</td>\n",
       "</tr>\n",
       "<tr>\n",
       "  <th>Interest</th>         <td>-2.338e+09</td> <td>  4.2e+06</td> <td> -556.467</td> <td> 0.000</td> <td>-2.35e+09</td> <td>-2.33e+09</td>\n",
       "</tr>\n",
       "<tr>\n",
       "  <th>Number of Phones</th> <td>  793.8358</td> <td>    4.194</td> <td>  189.266</td> <td> 0.000</td> <td>  785.614</td> <td>  802.057</td>\n",
       "</tr>\n",
       "</table>\n",
       "<table class=\"simpletable\">\n",
       "<tr>\n",
       "  <th>Omnibus:</th>       <td>3127.831</td> <th>  Durbin-Watson:     </th> <td>   2.009</td> \n",
       "</tr>\n",
       "<tr>\n",
       "  <th>Prob(Omnibus):</th>  <td> 0.000</td>  <th>  Jarque-Bera (JB):  </th> <td>49573.287</td>\n",
       "</tr>\n",
       "<tr>\n",
       "  <th>Skew:</th>           <td> 1.072</td>  <th>  Prob(JB):          </th> <td>    0.00</td> \n",
       "</tr>\n",
       "<tr>\n",
       "  <th>Kurtosis:</th>       <td>13.695</td>  <th>  Cond. No.          </th> <td>5.11e+06</td> \n",
       "</tr>\n",
       "</table><br/><br/>Notes:<br/>[1] Standard Errors assume that the covariance matrix of the errors is correctly specified.<br/>[2] The condition number is large, 5.11e+06. This might indicate that there are<br/>strong multicollinearity or other numerical problems."
      ],
      "text/plain": [
       "<class 'statsmodels.iolib.summary.Summary'>\n",
       "\"\"\"\n",
       "                            OLS Regression Results                            \n",
       "==============================================================================\n",
       "Dep. Variable:                    NPV   R-squared:                       0.972\n",
       "Model:                            OLS   Adj. R-squared:                  0.972\n",
       "Method:                 Least Squares   F-statistic:                 1.715e+05\n",
       "Date:                Wed, 13 Jan 2021   Prob (F-statistic):               0.00\n",
       "Time:                        19:46:16   Log-Likelihood:            -1.7363e+05\n",
       "No. Observations:               10000   AIC:                         3.473e+05\n",
       "Df Residuals:                    9997   BIC:                         3.473e+05\n",
       "Df Model:                           2                                         \n",
       "Covariance Type:            nonrobust                                         \n",
       "====================================================================================\n",
       "                       coef    std err          t      P>|t|      [0.025      0.975]\n",
       "------------------------------------------------------------------------------------\n",
       "const             4.044e+08   5.15e+05    785.023      0.000    4.03e+08    4.05e+08\n",
       "Interest         -2.338e+09    4.2e+06   -556.467      0.000   -2.35e+09   -2.33e+09\n",
       "Number of Phones   793.8358      4.194    189.266      0.000     785.614     802.057\n",
       "==============================================================================\n",
       "Omnibus:                     3127.831   Durbin-Watson:                   2.009\n",
       "Prob(Omnibus):                  0.000   Jarque-Bera (JB):            49573.287\n",
       "Skew:                           1.072   Prob(JB):                         0.00\n",
       "Kurtosis:                      13.695   Cond. No.                     5.11e+06\n",
       "==============================================================================\n",
       "\n",
       "Notes:\n",
       "[1] Standard Errors assume that the covariance matrix of the errors is correctly specified.\n",
       "[2] The condition number is large, 5.11e+06. This might indicate that there are\n",
       "strong multicollinearity or other numerical problems.\n",
       "\"\"\""
      ]
     },
     "execution_count": 40,
     "metadata": {},
     "output_type": "execute_result"
    }
   ],
   "source": [
    "X = sm.add_constant(df[['Interest', 'Number of Phones']])\n",
    "y = df['NPV']\n",
    "\n",
    "model = sm.OLS(y, X, hasconst=True)\n",
    "result = model.fit()\n",
    "result.summary()"
   ]
  },
  {
   "cell_type": "markdown",
   "metadata": {},
   "source": [
    "Interest is in decimal, so we divide it by 100"
   ]
  },
  {
   "cell_type": "code",
   "execution_count": 31,
   "metadata": {},
   "outputs": [
    {
     "data": {
      "text/plain": [
       "const               4.051945e+06\n",
       "Interest           -2.341282e+07\n",
       "Number of Phones    7.902744e+00\n",
       "dtype: float64"
      ]
     },
     "execution_count": 31,
     "metadata": {},
     "output_type": "execute_result"
    }
   ],
   "source": [
    "result.params / 100"
   ]
  },
  {
   "cell_type": "markdown",
   "metadata": {},
   "source": [
    "Now we can see that NPV will drop 23 million if interest increase by 1%"
   ]
  },
  {
   "cell_type": "markdown",
   "metadata": {},
   "source": [
    "To see which has a stronger impact, we take a look at the standard deviation"
   ]
  },
  {
   "cell_type": "code",
   "execution_count": 32,
   "metadata": {},
   "outputs": [
    {
     "data": {
      "text/plain": [
       "Interest           -4.729861e+07\n",
       "NPV                          NaN\n",
       "Number of Phones    1.551357e+07\n",
       "const                        NaN\n",
       "dtype: float64"
      ]
     },
     "execution_count": 32,
     "metadata": {},
     "output_type": "execute_result"
    }
   ],
   "source": [
    "df.std() * result.params"
   ]
  },
  {
   "cell_type": "markdown",
   "metadata": {},
   "source": [
    "Now we have the standardize coefficients, which makes it more clear, in this case one std increase in number of phones will increase NPV by aprox. 15 million, while one std increase in interest will decrease NPV by aprox. 47 million. <br><br>\n",
    "All else constant and assuming we selected reasonable distribuitions, Interest rate has aprox. 3 times greater impact in the model than Number of Phones. "
   ]
  }
 ],
 "metadata": {
  "kernelspec": {
   "display_name": "Python 3",
   "language": "python",
   "name": "python3"
  },
  "language_info": {
   "codemirror_mode": {
    "name": "ipython",
    "version": 3
   },
   "file_extension": ".py",
   "mimetype": "text/x-python",
   "name": "python",
   "nbconvert_exporter": "python",
   "pygments_lexer": "ipython3",
   "version": "3.7.7"
  }
 },
 "nbformat": 4,
 "nbformat_minor": 4
}
