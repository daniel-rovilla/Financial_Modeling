{
 "cells": [
  {
   "cell_type": "markdown",
   "metadata": {},
   "source": [
    "<center> <h1>Probabilistic Loan Pricing</h1> </center>\n",
    "<center> <h4>Erick Daniel Rodríguez Villafuerte</h4> </center>"
   ]
  },
  {
   "cell_type": "markdown",
   "metadata": {},
   "source": [
    "- [**Overview**](#Overview): Brief description of the problem and the model\n",
    "- [**Setup**](#Setup): Runs any imports and other setup\n",
    "- [**Inputs**](#Inputs): Defines the inputs for the model\n",
    "- [**Default Probability**](#Default-Probability): Function to determine the risk of default by year\n",
    "- [**IRR**](#Internal-Rate-of-Return): Defines IRR and starts model\n",
    "- [**Outputs**](#Outputs): Shows the final output for the model"
   ]
  },
  {
   "cell_type": "markdown",
   "metadata": {},
   "source": [
    "## Overview\n",
    "\n",
    "### Problem Definition\n",
    "<div style=\"text-align: justify\"> You work for a bank who is considering loaning funds to a small manufacturing business. The business needs\n",
    "$price_{machine}$ to buy machinery. The business would like to borrow the funds for $n_{life}$, and at that time it will repay $price_{machine}$ in full. Interest is paid annually at a rate of $r_{interest}$ (in the final period, both $price_{machine}$ and interest at the rate of $r_{interest}$ will be paid). As this is a small business, there is significant default risk, but that default risk decreases over time as the business matures.The probability of default in the first year is $p_1^{default}$ , and then each year thereafter it is:\n",
    "    $$p_t^{default} = p_{t-1}^{default} Decay_{default}$$ <br>\n",
    "\n",
    "<div style=\"text-align: justify\"> Finally, the default probability is different in the final year, as it is the repayment year. The business has to pay a lot more in this period so there is a greater likelihood it can’t come up with the funds. In the final year, (at default year $n_{life}$), the default probability is $p_n^{default}$ . \n",
    "<br><br>\n",
    "<div style=\"text-align: justify\"> When the business defaults, then the default covenants of the loan trigger bankruptcy for the borrower, and the borrower must pay as much as it can on the loan in the bankruptcy process. The bankruptcy process takes two years, and then once it is resolved, the lender will collect $r_{recovery}$% of $price_{machine}$. For the year of default and the year after, the lender will not collect any cash flows, and then two years after default, the lender will collect $r_{recovery}price_{machine}$. Note that this means the number of years of cash flows may be up to two years greater than the life of the loan.\n",
    "\n",
    "### Main Question\n",
    "<div style=\"text-align: justify\">You are the commercial loan analyst trying to decide if this loan makes sense for the bank. You want to give the lending officer all the information she would need to negotiate a rate for this loan.\n",
    "    \n",
    "> Given the inputs, what is the expected IRR of the loan for a variety of interest rates on the loan?\n",
    "\n",
    "- <div style=\"text-align: justify\">The lending officer would like you to evaluate rates in 5% increments from 30% to 40%.\n",
    "- <div style=\"text-align: justify\">The lending officer is also worried that she may have estimated $p_1^{default}$ incorrectly. She is hoping for the answers to the above questions considering that $p_1^{default}$ may vary. Evaluate the above questions for $p_1^{default}$ = 0.1,0.3 in addition to the base case of 0.2.\n",
    "- <div style=\"text-align: justify\">Finally, the lending officer is unsure for how long she should extend the loan. So she would like to see all of the previously mentioned results with loan lifes of 5, 10, and 20 years. \n",
    "<div> "
   ]
  },
  {
   "cell_type": "markdown",
   "metadata": {},
   "source": [
    "## Setup\n",
    "\n",
    "Setup for the later calculations are here. The necessary packages are imported."
   ]
  },
  {
   "cell_type": "code",
   "execution_count": 1,
   "metadata": {},
   "outputs": [],
   "source": [
    "from dataclasses import dataclass\n",
    "import pandas as pd\n",
    "import numpy as np\n",
    "import numpy_financial as npf\n",
    "import random\n",
    "import itertools\n",
    "%matplotlib inline"
   ]
  },
  {
   "cell_type": "markdown",
   "metadata": {},
   "source": [
    "## Inputs\n",
    "\n",
    "All of the inputs for the model are defined here. A class is constructed to manage the data, and an instance of the class containing the default inputs is created."
   ]
  },
  {
   "cell_type": "code",
   "execution_count": 2,
   "metadata": {},
   "outputs": [
    {
     "data": {
      "text/plain": [
       "ModelInputs(price_machine=1000000, loan_life=5, initial_default=0.2, default_decay=0.9, final_default=0.4, recovery_rate=0.4, interest=0.2, num_iterations=1000)"
      ]
     },
     "execution_count": 2,
     "metadata": {},
     "output_type": "execute_result"
    }
   ],
   "source": [
    "@dataclass\n",
    "class ModelInputs:\n",
    "    price_machine: float = 1000000\n",
    "    loan_life: int = 5\n",
    "    initial_default: float = 0.2\n",
    "    default_decay: float = 0.9\n",
    "    final_default: float = 0.4\n",
    "    recovery_rate: float = 0.4\n",
    "    interest: float = 0.2\n",
    "    num_iterations: int = 1000\n",
    "        \n",
    "model_data = ModelInputs()\n",
    "model_data"
   ]
  },
  {
   "cell_type": "markdown",
   "metadata": {},
   "source": [
    "## Default Probability\n",
    "There is an initial default probability $P_t^{default}$, as the years pass-by, the risk of the company to default goes lower by $Decay_{default}$. This is valid until the last year where the probability of default is $P_n^{default}$\n",
    "\n",
    "Loan can be for a maximum of 20 years, if a greater number is given, it will max out at 20."
   ]
  },
  {
   "cell_type": "code",
   "execution_count": 3,
   "metadata": {},
   "outputs": [],
   "source": [
    "def default_prob_by_year(data: ModelInputs, p1_default = ModelInputs.initial_default, years = ModelInputs.loan_life):  \n",
    "    '''\n",
    "    Creates a list of probability of default by year, number of years is\n",
    "    set to the initial input of \"loan_life\", you could set a different \n",
    "    number of years, however, it will max at 20 years\n",
    "    '''\n",
    "    # n_years starts at year 2 since the first year is defined in the problem\n",
    "    n_years = list(range(2, years))\n",
    "    expected_default_list = [p1_default]\n",
    "    if years <= 20:\n",
    "        for year in n_years:\n",
    "            expected_default = expected_default_list[-1] * data.default_decay\n",
    "            expected_default_list.append(expected_default)\n",
    "    elif years > 20:\n",
    "        # same idea as n_years, i will start in 2\n",
    "        i = 2\n",
    "        while i < 20:\n",
    "            expected_default = expected_default_list[-1] * data.default_decay\n",
    "            expected_default_list.append(expected_default)\n",
    "            i += 1\n",
    "    expected_default_list.append(data.final_default)\n",
    "    return expected_default_list\n",
    "# Even if the input is set to n-years, it will only consider a maximum of 20 years\n",
    "# Note that this restriction is specifically for the given model, could be changed to accept longer credit periods"
   ]
  },
  {
   "cell_type": "markdown",
   "metadata": {},
   "source": [
    "Now that we generated a list of default probabilities by year, we proceed to get the probability of repayment by year, which will be just $1 - p_n^{default}$ . "
   ]
  },
  {
   "cell_type": "code",
   "execution_count": 4,
   "metadata": {},
   "outputs": [],
   "source": [
    "def repayment_prob_by_year(prob_list):\n",
    "    '''\n",
    "    Given a list of probability of default per year, calculates\n",
    "    the probability of non-default\n",
    "    '''\n",
    "    repayment_prob_list = []\n",
    "    for i in prob_list:\n",
    "        rep_prob = 1 - i\n",
    "        repayment_prob_list.append(rep_prob)\n",
    "    return repayment_prob_list"
   ]
  },
  {
   "cell_type": "markdown",
   "metadata": {},
   "source": [
    "## Internal Rate of Return"
   ]
  },
  {
   "cell_type": "markdown",
   "metadata": {},
   "source": [
    "The internal rate of return is a metric used in financial analysis to estimate the profitability of potential investments. The internal rate of return is a discount rate that makes the net present value (NPV) of all cash flows equal to zero in a discounted cash flow analysis. \n",
    "\n",
    "\n",
    "$$0 = NPV = \\sum_{t=1}^T \\frac{C_t}{(1 + IRR)^t} - C_0$$\n",
    "**Where**:\n",
    "- $C_t$ = Net cash inflow during the period\n",
    "- $C_0$ = Total Initial investment costs\n",
    "- $IRR$ = The internal rate of return\n",
    "- $t$ = The number of time periods\n",
    "\n",
    "Generally speaking, the higher an internal rate of return, the more desirable an investment is to undertake."
   ]
  },
  {
   "cell_type": "code",
   "execution_count": 5,
   "metadata": {},
   "outputs": [],
   "source": [
    "def get_cash_flows(data: ModelInputs, repayment_prob, default_prob, rate = ModelInputs.interest):\n",
    "    '''\n",
    "    This function generates the cash flows for the model, taking into account\n",
    "    the bankruptcy triggers for the bank\n",
    "    '''\n",
    "    cash_flows = [-data.price_machine]\n",
    "    bankruptcy = 0, 0, data.price_machine * data.recovery_rate\n",
    "    interest = rate * data.price_machine\n",
    "    for i in range(len(repayment_prob)):\n",
    "        repayment_or_default = random.choices(['Repayment', 'Default'], [repayment_prob[i], default_prob[i]])[0]\n",
    "        if repayment_or_default == 'Repayment':\n",
    "            cash_flows.append(interest)\n",
    "        else:\n",
    "            cash_flows.extend(bankruptcy)\n",
    "            break\n",
    "    if cash_flows[-1] == interest and len(cash_flows) == len(repayment_prob)+1:\n",
    "        cash_flows[-1] = cash_flows[-1] + data.price_machine\n",
    "    return cash_flows"
   ]
  },
  {
   "cell_type": "code",
   "execution_count": 6,
   "metadata": {},
   "outputs": [],
   "source": [
    "def full_loan_pricing(data: ModelInputs, rate, years, p1_default, print_cash_flows=False):\n",
    "    '''\n",
    "    Serves as a final function, runs all the previous functions in order\n",
    "    to get the IRR given an intial default probability, number of years\n",
    "    and an interest rate\n",
    "    '''\n",
    "    def_list = default_prob_by_year(data, p1_default, years)\n",
    "    rep_list = repayment_prob_by_year(def_list)\n",
    "    cash_flows = get_cash_flows(data, rep_list, def_list, rate)\n",
    "    # If input is set to True, it will print the cash flows in order to see when \n",
    "    # the company defaulted\n",
    "    if print_cash_flows:\n",
    "        print(cash_flows)\n",
    "        try:\n",
    "            print(f'\\nCompany defaulted at year: {[i for i,x in enumerate(cash_flows) if x == 0][0]}\\nThe IRR is:')\n",
    "        except:\n",
    "            print('\\nCompany did not default \\nThe IRR is:')\n",
    "    return npf.irr(cash_flows)"
   ]
  },
  {
   "cell_type": "markdown",
   "metadata": {},
   "source": [
    "We can run the function to see an example."
   ]
  },
  {
   "cell_type": "code",
   "execution_count": 7,
   "metadata": {},
   "outputs": [
    {
     "name": "stdout",
     "output_type": "stream",
     "text": [
      "[-1000000, 200000.0, 200000.0, 200000.0, 200000.0, 200000.0, 200000.0, 200000.0, 200000.0, 200000.0, 1200000.0]\n",
      "\n",
      "Company did not default \n",
      "The IRR is:\n"
     ]
    },
    {
     "data": {
      "text/plain": [
       "0.20000000000000018"
      ]
     },
     "execution_count": 7,
     "metadata": {},
     "output_type": "execute_result"
    }
   ],
   "source": [
    "full_loan_pricing(model_data, .2, 10, .1, True)"
   ]
  },
  {
   "cell_type": "code",
   "execution_count": 8,
   "metadata": {},
   "outputs": [],
   "source": [
    "def get_irr(data: ModelInputs, rate_list, years_list, def_prob_list, iterations = ModelInputs.num_iterations):\n",
    "    '''\n",
    "    Creates a list of the IRR's for the given list of inputs \n",
    "    '''\n",
    "    tup_list =  [[(x,y,z) for y in years_list for z in def_prob_list]for x in rate_list]\n",
    "    model_tup_list = [[(model_data,x,y,z) for y in years_list for z in def_prob_list]for x in rate_list]\n",
    "    model_list = [t for lst in model_tup_list for t in lst]\n",
    "\n",
    "    lst = []\n",
    "    for i in range(iterations):\n",
    "        lst_lst = []\n",
    "        for i in model_list:\n",
    "            lst_lst.append(full_loan_pricing(*i))\n",
    "        lst.append(lst_lst)\n",
    "    # \n",
    "    arrays = [np.array(x) for x in lst]\n",
    "    irr_lst = [np.mean(k) for k in zip(*arrays)]\n",
    "    return irr_lst"
   ]
  },
  {
   "cell_type": "markdown",
   "metadata": {},
   "source": [
    "## Outputs"
   ]
  },
  {
   "cell_type": "code",
   "execution_count": 9,
   "metadata": {},
   "outputs": [],
   "source": [
    "# Inputs for the model\n",
    "rates =[0.3, 0.35, 0.4]\n",
    "years =[5, 10, 20]\n",
    "p_1= [0.1, 0.2, 0.3]"
   ]
  },
  {
   "cell_type": "code",
   "execution_count": 58,
   "metadata": {},
   "outputs": [
    {
     "data": {
      "text/html": [
       "<style  type=\"text/css\" >\n",
       "#T_033bb894_51f9_11eb_815f_20c9d0b09affrow0_col3{\n",
       "            background-color:  #daf08d;\n",
       "            color:  #000000;\n",
       "        }#T_033bb894_51f9_11eb_815f_20c9d0b09affrow1_col3{\n",
       "            background-color:  #fca85e;\n",
       "            color:  #000000;\n",
       "        }#T_033bb894_51f9_11eb_815f_20c9d0b09affrow2_col3{\n",
       "            background-color:  #a90426;\n",
       "            color:  #f1f1f1;\n",
       "        }#T_033bb894_51f9_11eb_815f_20c9d0b09affrow3_col3{\n",
       "            background-color:  #afdd70;\n",
       "            color:  #000000;\n",
       "        }#T_033bb894_51f9_11eb_815f_20c9d0b09affrow4_col3{\n",
       "            background-color:  #fdaf62;\n",
       "            color:  #000000;\n",
       "        }#T_033bb894_51f9_11eb_815f_20c9d0b09affrow5_col3{\n",
       "            background-color:  #bb1526;\n",
       "            color:  #f1f1f1;\n",
       "        }#T_033bb894_51f9_11eb_815f_20c9d0b09affrow6_col3{\n",
       "            background-color:  #b5df74;\n",
       "            color:  #000000;\n",
       "        }#T_033bb894_51f9_11eb_815f_20c9d0b09affrow7_col3{\n",
       "            background-color:  #fdb768;\n",
       "            color:  #000000;\n",
       "        }#T_033bb894_51f9_11eb_815f_20c9d0b09affrow8_col3{\n",
       "            background-color:  #a50026;\n",
       "            color:  #f1f1f1;\n",
       "        }#T_033bb894_51f9_11eb_815f_20c9d0b09affrow9_col3{\n",
       "            background-color:  #87cb67;\n",
       "            color:  #000000;\n",
       "        }#T_033bb894_51f9_11eb_815f_20c9d0b09affrow10_col3{\n",
       "            background-color:  #feec9f;\n",
       "            color:  #000000;\n",
       "        }#T_033bb894_51f9_11eb_815f_20c9d0b09affrow11_col3{\n",
       "            background-color:  #e44c34;\n",
       "            color:  #000000;\n",
       "        }#T_033bb894_51f9_11eb_815f_20c9d0b09affrow12_col3{\n",
       "            background-color:  #279f53;\n",
       "            color:  #000000;\n",
       "        }#T_033bb894_51f9_11eb_815f_20c9d0b09affrow13_col3{\n",
       "            background-color:  #fee28f;\n",
       "            color:  #000000;\n",
       "        }#T_033bb894_51f9_11eb_815f_20c9d0b09affrow14_col3{\n",
       "            background-color:  #de402e;\n",
       "            color:  #f1f1f1;\n",
       "        }#T_033bb894_51f9_11eb_815f_20c9d0b09affrow15_col3{\n",
       "            background-color:  #5db961;\n",
       "            color:  #000000;\n",
       "        }#T_033bb894_51f9_11eb_815f_20c9d0b09affrow16_col3{\n",
       "            background-color:  #fee695;\n",
       "            color:  #000000;\n",
       "        }#T_033bb894_51f9_11eb_815f_20c9d0b09affrow17_col3{\n",
       "            background-color:  #da362a;\n",
       "            color:  #f1f1f1;\n",
       "        }#T_033bb894_51f9_11eb_815f_20c9d0b09affrow18_col3{\n",
       "            background-color:  #0b7d42;\n",
       "            color:  #f1f1f1;\n",
       "        }#T_033bb894_51f9_11eb_815f_20c9d0b09affrow19_col3{\n",
       "            background-color:  #cdea83;\n",
       "            color:  #000000;\n",
       "        }#T_033bb894_51f9_11eb_815f_20c9d0b09affrow20_col3{\n",
       "            background-color:  #fdb96a;\n",
       "            color:  #000000;\n",
       "        }#T_033bb894_51f9_11eb_815f_20c9d0b09affrow21_col3{\n",
       "            background-color:  #06733d;\n",
       "            color:  #f1f1f1;\n",
       "        }#T_033bb894_51f9_11eb_815f_20c9d0b09affrow22_col3{\n",
       "            background-color:  #e3f399;\n",
       "            color:  #000000;\n",
       "        }#T_033bb894_51f9_11eb_815f_20c9d0b09affrow23_col3{\n",
       "            background-color:  #f88c51;\n",
       "            color:  #000000;\n",
       "        }#T_033bb894_51f9_11eb_815f_20c9d0b09affrow24_col3{\n",
       "            background-color:  #006837;\n",
       "            color:  #f1f1f1;\n",
       "        }#T_033bb894_51f9_11eb_815f_20c9d0b09affrow25_col3{\n",
       "            background-color:  #e6f59d;\n",
       "            color:  #000000;\n",
       "        }#T_033bb894_51f9_11eb_815f_20c9d0b09affrow26_col3{\n",
       "            background-color:  #f57547;\n",
       "            color:  #000000;\n",
       "        }</style><table id=\"T_033bb894_51f9_11eb_815f_20c9d0b09aff\" ><thead>    <tr>        <th class=\"blank level0\" ></th>        <th class=\"col_heading level0 col0\" >Interest Rate</th>        <th class=\"col_heading level0 col1\" >Loan Life</th>        <th class=\"col_heading level0 col2\" >Initial Default Probability</th>        <th class=\"col_heading level0 col3\" >IRR</th>    </tr></thead><tbody>\n",
       "                <tr>\n",
       "                        <th id=\"T_033bb894_51f9_11eb_815f_20c9d0b09afflevel0_row0\" class=\"row_heading level0 row0\" >0</th>\n",
       "                        <td id=\"T_033bb894_51f9_11eb_815f_20c9d0b09affrow0_col0\" class=\"data row0 col0\" >30.00%</td>\n",
       "                        <td id=\"T_033bb894_51f9_11eb_815f_20c9d0b09affrow0_col1\" class=\"data row0 col1\" >5</td>\n",
       "                        <td id=\"T_033bb894_51f9_11eb_815f_20c9d0b09affrow0_col2\" class=\"data row0 col2\" >10.00%</td>\n",
       "                        <td id=\"T_033bb894_51f9_11eb_815f_20c9d0b09affrow0_col3\" class=\"data row0 col3\" >13.43%</td>\n",
       "            </tr>\n",
       "            <tr>\n",
       "                        <th id=\"T_033bb894_51f9_11eb_815f_20c9d0b09afflevel0_row1\" class=\"row_heading level0 row1\" >1</th>\n",
       "                        <td id=\"T_033bb894_51f9_11eb_815f_20c9d0b09affrow1_col0\" class=\"data row1 col0\" >30.00%</td>\n",
       "                        <td id=\"T_033bb894_51f9_11eb_815f_20c9d0b09affrow1_col1\" class=\"data row1 col1\" >5</td>\n",
       "                        <td id=\"T_033bb894_51f9_11eb_815f_20c9d0b09affrow1_col2\" class=\"data row1 col2\" >20.00%</td>\n",
       "                        <td id=\"T_033bb894_51f9_11eb_815f_20c9d0b09affrow1_col3\" class=\"data row1 col3\" >5.00%</td>\n",
       "            </tr>\n",
       "            <tr>\n",
       "                        <th id=\"T_033bb894_51f9_11eb_815f_20c9d0b09afflevel0_row2\" class=\"row_heading level0 row2\" >2</th>\n",
       "                        <td id=\"T_033bb894_51f9_11eb_815f_20c9d0b09affrow2_col0\" class=\"data row2 col0\" >30.00%</td>\n",
       "                        <td id=\"T_033bb894_51f9_11eb_815f_20c9d0b09affrow2_col1\" class=\"data row2 col1\" >5</td>\n",
       "                        <td id=\"T_033bb894_51f9_11eb_815f_20c9d0b09affrow2_col2\" class=\"data row2 col2\" >30.00%</td>\n",
       "                        <td id=\"T_033bb894_51f9_11eb_815f_20c9d0b09affrow2_col3\" class=\"data row2 col3\" >-2.73%</td>\n",
       "            </tr>\n",
       "            <tr>\n",
       "                        <th id=\"T_033bb894_51f9_11eb_815f_20c9d0b09afflevel0_row3\" class=\"row_heading level0 row3\" >3</th>\n",
       "                        <td id=\"T_033bb894_51f9_11eb_815f_20c9d0b09affrow3_col0\" class=\"data row3 col0\" >30.00%</td>\n",
       "                        <td id=\"T_033bb894_51f9_11eb_815f_20c9d0b09affrow3_col1\" class=\"data row3 col1\" >10</td>\n",
       "                        <td id=\"T_033bb894_51f9_11eb_815f_20c9d0b09affrow3_col2\" class=\"data row3 col2\" >10.00%</td>\n",
       "                        <td id=\"T_033bb894_51f9_11eb_815f_20c9d0b09affrow3_col3\" class=\"data row3 col3\" >15.74%</td>\n",
       "            </tr>\n",
       "            <tr>\n",
       "                        <th id=\"T_033bb894_51f9_11eb_815f_20c9d0b09afflevel0_row4\" class=\"row_heading level0 row4\" >4</th>\n",
       "                        <td id=\"T_033bb894_51f9_11eb_815f_20c9d0b09affrow4_col0\" class=\"data row4 col0\" >30.00%</td>\n",
       "                        <td id=\"T_033bb894_51f9_11eb_815f_20c9d0b09affrow4_col1\" class=\"data row4 col1\" >10</td>\n",
       "                        <td id=\"T_033bb894_51f9_11eb_815f_20c9d0b09affrow4_col2\" class=\"data row4 col2\" >20.00%</td>\n",
       "                        <td id=\"T_033bb894_51f9_11eb_815f_20c9d0b09affrow4_col3\" class=\"data row4 col3\" >5.31%</td>\n",
       "            </tr>\n",
       "            <tr>\n",
       "                        <th id=\"T_033bb894_51f9_11eb_815f_20c9d0b09afflevel0_row5\" class=\"row_heading level0 row5\" >5</th>\n",
       "                        <td id=\"T_033bb894_51f9_11eb_815f_20c9d0b09affrow5_col0\" class=\"data row5 col0\" >30.00%</td>\n",
       "                        <td id=\"T_033bb894_51f9_11eb_815f_20c9d0b09affrow5_col1\" class=\"data row5 col1\" >10</td>\n",
       "                        <td id=\"T_033bb894_51f9_11eb_815f_20c9d0b09affrow5_col2\" class=\"data row5 col2\" >30.00%</td>\n",
       "                        <td id=\"T_033bb894_51f9_11eb_815f_20c9d0b09affrow5_col3\" class=\"data row5 col3\" >-1.82%</td>\n",
       "            </tr>\n",
       "            <tr>\n",
       "                        <th id=\"T_033bb894_51f9_11eb_815f_20c9d0b09afflevel0_row6\" class=\"row_heading level0 row6\" >6</th>\n",
       "                        <td id=\"T_033bb894_51f9_11eb_815f_20c9d0b09affrow6_col0\" class=\"data row6 col0\" >30.00%</td>\n",
       "                        <td id=\"T_033bb894_51f9_11eb_815f_20c9d0b09affrow6_col1\" class=\"data row6 col1\" >20</td>\n",
       "                        <td id=\"T_033bb894_51f9_11eb_815f_20c9d0b09affrow6_col2\" class=\"data row6 col2\" >10.00%</td>\n",
       "                        <td id=\"T_033bb894_51f9_11eb_815f_20c9d0b09affrow6_col3\" class=\"data row6 col3\" >15.47%</td>\n",
       "            </tr>\n",
       "            <tr>\n",
       "                        <th id=\"T_033bb894_51f9_11eb_815f_20c9d0b09afflevel0_row7\" class=\"row_heading level0 row7\" >7</th>\n",
       "                        <td id=\"T_033bb894_51f9_11eb_815f_20c9d0b09affrow7_col0\" class=\"data row7 col0\" >30.00%</td>\n",
       "                        <td id=\"T_033bb894_51f9_11eb_815f_20c9d0b09affrow7_col1\" class=\"data row7 col1\" >20</td>\n",
       "                        <td id=\"T_033bb894_51f9_11eb_815f_20c9d0b09affrow7_col2\" class=\"data row7 col2\" >20.00%</td>\n",
       "                        <td id=\"T_033bb894_51f9_11eb_815f_20c9d0b09affrow7_col3\" class=\"data row7 col3\" >5.73%</td>\n",
       "            </tr>\n",
       "            <tr>\n",
       "                        <th id=\"T_033bb894_51f9_11eb_815f_20c9d0b09afflevel0_row8\" class=\"row_heading level0 row8\" >8</th>\n",
       "                        <td id=\"T_033bb894_51f9_11eb_815f_20c9d0b09affrow8_col0\" class=\"data row8 col0\" >30.00%</td>\n",
       "                        <td id=\"T_033bb894_51f9_11eb_815f_20c9d0b09affrow8_col1\" class=\"data row8 col1\" >20</td>\n",
       "                        <td id=\"T_033bb894_51f9_11eb_815f_20c9d0b09affrow8_col2\" class=\"data row8 col2\" >30.00%</td>\n",
       "                        <td id=\"T_033bb894_51f9_11eb_815f_20c9d0b09affrow8_col3\" class=\"data row8 col3\" >-3.03%</td>\n",
       "            </tr>\n",
       "            <tr>\n",
       "                        <th id=\"T_033bb894_51f9_11eb_815f_20c9d0b09afflevel0_row9\" class=\"row_heading level0 row9\" >9</th>\n",
       "                        <td id=\"T_033bb894_51f9_11eb_815f_20c9d0b09affrow9_col0\" class=\"data row9 col0\" >35.00%</td>\n",
       "                        <td id=\"T_033bb894_51f9_11eb_815f_20c9d0b09affrow9_col1\" class=\"data row9 col1\" >5</td>\n",
       "                        <td id=\"T_033bb894_51f9_11eb_815f_20c9d0b09affrow9_col2\" class=\"data row9 col2\" >10.00%</td>\n",
       "                        <td id=\"T_033bb894_51f9_11eb_815f_20c9d0b09affrow9_col3\" class=\"data row9 col3\" >17.63%</td>\n",
       "            </tr>\n",
       "            <tr>\n",
       "                        <th id=\"T_033bb894_51f9_11eb_815f_20c9d0b09afflevel0_row10\" class=\"row_heading level0 row10\" >10</th>\n",
       "                        <td id=\"T_033bb894_51f9_11eb_815f_20c9d0b09affrow10_col0\" class=\"data row10 col0\" >35.00%</td>\n",
       "                        <td id=\"T_033bb894_51f9_11eb_815f_20c9d0b09affrow10_col1\" class=\"data row10 col1\" >5</td>\n",
       "                        <td id=\"T_033bb894_51f9_11eb_815f_20c9d0b09affrow10_col2\" class=\"data row10 col2\" >20.00%</td>\n",
       "                        <td id=\"T_033bb894_51f9_11eb_815f_20c9d0b09affrow10_col3\" class=\"data row10 col3\" >9.03%</td>\n",
       "            </tr>\n",
       "            <tr>\n",
       "                        <th id=\"T_033bb894_51f9_11eb_815f_20c9d0b09afflevel0_row11\" class=\"row_heading level0 row11\" >11</th>\n",
       "                        <td id=\"T_033bb894_51f9_11eb_815f_20c9d0b09affrow11_col0\" class=\"data row11 col0\" >35.00%</td>\n",
       "                        <td id=\"T_033bb894_51f9_11eb_815f_20c9d0b09affrow11_col1\" class=\"data row11 col1\" >5</td>\n",
       "                        <td id=\"T_033bb894_51f9_11eb_815f_20c9d0b09affrow11_col2\" class=\"data row11 col2\" >30.00%</td>\n",
       "                        <td id=\"T_033bb894_51f9_11eb_815f_20c9d0b09affrow11_col3\" class=\"data row11 col3\" >1.06%</td>\n",
       "            </tr>\n",
       "            <tr>\n",
       "                        <th id=\"T_033bb894_51f9_11eb_815f_20c9d0b09afflevel0_row12\" class=\"row_heading level0 row12\" >12</th>\n",
       "                        <td id=\"T_033bb894_51f9_11eb_815f_20c9d0b09affrow12_col0\" class=\"data row12 col0\" >35.00%</td>\n",
       "                        <td id=\"T_033bb894_51f9_11eb_815f_20c9d0b09affrow12_col1\" class=\"data row12 col1\" >10</td>\n",
       "                        <td id=\"T_033bb894_51f9_11eb_815f_20c9d0b09affrow12_col2\" class=\"data row12 col2\" >10.00%</td>\n",
       "                        <td id=\"T_033bb894_51f9_11eb_815f_20c9d0b09affrow12_col3\" class=\"data row12 col3\" >21.24%</td>\n",
       "            </tr>\n",
       "            <tr>\n",
       "                        <th id=\"T_033bb894_51f9_11eb_815f_20c9d0b09afflevel0_row13\" class=\"row_heading level0 row13\" >13</th>\n",
       "                        <td id=\"T_033bb894_51f9_11eb_815f_20c9d0b09affrow13_col0\" class=\"data row13 col0\" >35.00%</td>\n",
       "                        <td id=\"T_033bb894_51f9_11eb_815f_20c9d0b09affrow13_col1\" class=\"data row13 col1\" >10</td>\n",
       "                        <td id=\"T_033bb894_51f9_11eb_815f_20c9d0b09affrow13_col2\" class=\"data row13 col2\" >20.00%</td>\n",
       "                        <td id=\"T_033bb894_51f9_11eb_815f_20c9d0b09affrow13_col3\" class=\"data row13 col3\" >8.27%</td>\n",
       "            </tr>\n",
       "            <tr>\n",
       "                        <th id=\"T_033bb894_51f9_11eb_815f_20c9d0b09afflevel0_row14\" class=\"row_heading level0 row14\" >14</th>\n",
       "                        <td id=\"T_033bb894_51f9_11eb_815f_20c9d0b09affrow14_col0\" class=\"data row14 col0\" >35.00%</td>\n",
       "                        <td id=\"T_033bb894_51f9_11eb_815f_20c9d0b09affrow14_col1\" class=\"data row14 col1\" >10</td>\n",
       "                        <td id=\"T_033bb894_51f9_11eb_815f_20c9d0b09affrow14_col2\" class=\"data row14 col2\" >30.00%</td>\n",
       "                        <td id=\"T_033bb894_51f9_11eb_815f_20c9d0b09affrow14_col3\" class=\"data row14 col3\" >0.45%</td>\n",
       "            </tr>\n",
       "            <tr>\n",
       "                        <th id=\"T_033bb894_51f9_11eb_815f_20c9d0b09afflevel0_row15\" class=\"row_heading level0 row15\" >15</th>\n",
       "                        <td id=\"T_033bb894_51f9_11eb_815f_20c9d0b09affrow15_col0\" class=\"data row15 col0\" >35.00%</td>\n",
       "                        <td id=\"T_033bb894_51f9_11eb_815f_20c9d0b09affrow15_col1\" class=\"data row15 col1\" >20</td>\n",
       "                        <td id=\"T_033bb894_51f9_11eb_815f_20c9d0b09affrow15_col2\" class=\"data row15 col2\" >10.00%</td>\n",
       "                        <td id=\"T_033bb894_51f9_11eb_815f_20c9d0b09affrow15_col3\" class=\"data row15 col3\" >19.34%</td>\n",
       "            </tr>\n",
       "            <tr>\n",
       "                        <th id=\"T_033bb894_51f9_11eb_815f_20c9d0b09afflevel0_row16\" class=\"row_heading level0 row16\" >16</th>\n",
       "                        <td id=\"T_033bb894_51f9_11eb_815f_20c9d0b09affrow16_col0\" class=\"data row16 col0\" >35.00%</td>\n",
       "                        <td id=\"T_033bb894_51f9_11eb_815f_20c9d0b09affrow16_col1\" class=\"data row16 col1\" >20</td>\n",
       "                        <td id=\"T_033bb894_51f9_11eb_815f_20c9d0b09affrow16_col2\" class=\"data row16 col2\" >20.00%</td>\n",
       "                        <td id=\"T_033bb894_51f9_11eb_815f_20c9d0b09affrow16_col3\" class=\"data row16 col3\" >8.59%</td>\n",
       "            </tr>\n",
       "            <tr>\n",
       "                        <th id=\"T_033bb894_51f9_11eb_815f_20c9d0b09afflevel0_row17\" class=\"row_heading level0 row17\" >17</th>\n",
       "                        <td id=\"T_033bb894_51f9_11eb_815f_20c9d0b09affrow17_col0\" class=\"data row17 col0\" >35.00%</td>\n",
       "                        <td id=\"T_033bb894_51f9_11eb_815f_20c9d0b09affrow17_col1\" class=\"data row17 col1\" >20</td>\n",
       "                        <td id=\"T_033bb894_51f9_11eb_815f_20c9d0b09affrow17_col2\" class=\"data row17 col2\" >30.00%</td>\n",
       "                        <td id=\"T_033bb894_51f9_11eb_815f_20c9d0b09affrow17_col3\" class=\"data row17 col3\" >0.06%</td>\n",
       "            </tr>\n",
       "            <tr>\n",
       "                        <th id=\"T_033bb894_51f9_11eb_815f_20c9d0b09afflevel0_row18\" class=\"row_heading level0 row18\" >18</th>\n",
       "                        <td id=\"T_033bb894_51f9_11eb_815f_20c9d0b09affrow18_col0\" class=\"data row18 col0\" >40.00%</td>\n",
       "                        <td id=\"T_033bb894_51f9_11eb_815f_20c9d0b09affrow18_col1\" class=\"data row18 col1\" >5</td>\n",
       "                        <td id=\"T_033bb894_51f9_11eb_815f_20c9d0b09affrow18_col2\" class=\"data row18 col2\" >10.00%</td>\n",
       "                        <td id=\"T_033bb894_51f9_11eb_815f_20c9d0b09affrow18_col3\" class=\"data row18 col3\" >23.31%</td>\n",
       "            </tr>\n",
       "            <tr>\n",
       "                        <th id=\"T_033bb894_51f9_11eb_815f_20c9d0b09afflevel0_row19\" class=\"row_heading level0 row19\" >19</th>\n",
       "                        <td id=\"T_033bb894_51f9_11eb_815f_20c9d0b09affrow19_col0\" class=\"data row19 col0\" >40.00%</td>\n",
       "                        <td id=\"T_033bb894_51f9_11eb_815f_20c9d0b09affrow19_col1\" class=\"data row19 col1\" >5</td>\n",
       "                        <td id=\"T_033bb894_51f9_11eb_815f_20c9d0b09affrow19_col2\" class=\"data row19 col2\" >20.00%</td>\n",
       "                        <td id=\"T_033bb894_51f9_11eb_815f_20c9d0b09affrow19_col3\" class=\"data row19 col3\" >14.13%</td>\n",
       "            </tr>\n",
       "            <tr>\n",
       "                        <th id=\"T_033bb894_51f9_11eb_815f_20c9d0b09afflevel0_row20\" class=\"row_heading level0 row20\" >20</th>\n",
       "                        <td id=\"T_033bb894_51f9_11eb_815f_20c9d0b09affrow20_col0\" class=\"data row20 col0\" >40.00%</td>\n",
       "                        <td id=\"T_033bb894_51f9_11eb_815f_20c9d0b09affrow20_col1\" class=\"data row20 col1\" >5</td>\n",
       "                        <td id=\"T_033bb894_51f9_11eb_815f_20c9d0b09affrow20_col2\" class=\"data row20 col2\" >30.00%</td>\n",
       "                        <td id=\"T_033bb894_51f9_11eb_815f_20c9d0b09affrow20_col3\" class=\"data row20 col3\" >5.89%</td>\n",
       "            </tr>\n",
       "            <tr>\n",
       "                        <th id=\"T_033bb894_51f9_11eb_815f_20c9d0b09afflevel0_row21\" class=\"row_heading level0 row21\" >21</th>\n",
       "                        <td id=\"T_033bb894_51f9_11eb_815f_20c9d0b09affrow21_col0\" class=\"data row21 col0\" >40.00%</td>\n",
       "                        <td id=\"T_033bb894_51f9_11eb_815f_20c9d0b09affrow21_col1\" class=\"data row21 col1\" >10</td>\n",
       "                        <td id=\"T_033bb894_51f9_11eb_815f_20c9d0b09affrow21_col2\" class=\"data row21 col2\" >10.00%</td>\n",
       "                        <td id=\"T_033bb894_51f9_11eb_815f_20c9d0b09affrow21_col3\" class=\"data row21 col3\" >23.82%</td>\n",
       "            </tr>\n",
       "            <tr>\n",
       "                        <th id=\"T_033bb894_51f9_11eb_815f_20c9d0b09afflevel0_row22\" class=\"row_heading level0 row22\" >22</th>\n",
       "                        <td id=\"T_033bb894_51f9_11eb_815f_20c9d0b09affrow22_col0\" class=\"data row22 col0\" >40.00%</td>\n",
       "                        <td id=\"T_033bb894_51f9_11eb_815f_20c9d0b09affrow22_col1\" class=\"data row22 col1\" >10</td>\n",
       "                        <td id=\"T_033bb894_51f9_11eb_815f_20c9d0b09affrow22_col2\" class=\"data row22 col2\" >20.00%</td>\n",
       "                        <td id=\"T_033bb894_51f9_11eb_815f_20c9d0b09affrow22_col3\" class=\"data row22 col3\" >12.74%</td>\n",
       "            </tr>\n",
       "            <tr>\n",
       "                        <th id=\"T_033bb894_51f9_11eb_815f_20c9d0b09afflevel0_row23\" class=\"row_heading level0 row23\" >23</th>\n",
       "                        <td id=\"T_033bb894_51f9_11eb_815f_20c9d0b09affrow23_col0\" class=\"data row23 col0\" >40.00%</td>\n",
       "                        <td id=\"T_033bb894_51f9_11eb_815f_20c9d0b09affrow23_col1\" class=\"data row23 col1\" >10</td>\n",
       "                        <td id=\"T_033bb894_51f9_11eb_815f_20c9d0b09affrow23_col2\" class=\"data row23 col2\" >30.00%</td>\n",
       "                        <td id=\"T_033bb894_51f9_11eb_815f_20c9d0b09affrow23_col3\" class=\"data row23 col3\" >3.76%</td>\n",
       "            </tr>\n",
       "            <tr>\n",
       "                        <th id=\"T_033bb894_51f9_11eb_815f_20c9d0b09afflevel0_row24\" class=\"row_heading level0 row24\" >24</th>\n",
       "                        <td id=\"T_033bb894_51f9_11eb_815f_20c9d0b09affrow24_col0\" class=\"data row24 col0\" >40.00%</td>\n",
       "                        <td id=\"T_033bb894_51f9_11eb_815f_20c9d0b09affrow24_col1\" class=\"data row24 col1\" >20</td>\n",
       "                        <td id=\"T_033bb894_51f9_11eb_815f_20c9d0b09affrow24_col2\" class=\"data row24 col2\" >10.00%</td>\n",
       "                        <td id=\"T_033bb894_51f9_11eb_815f_20c9d0b09affrow24_col3\" class=\"data row24 col3\" >24.55%</td>\n",
       "            </tr>\n",
       "            <tr>\n",
       "                        <th id=\"T_033bb894_51f9_11eb_815f_20c9d0b09afflevel0_row25\" class=\"row_heading level0 row25\" >25</th>\n",
       "                        <td id=\"T_033bb894_51f9_11eb_815f_20c9d0b09affrow25_col0\" class=\"data row25 col0\" >40.00%</td>\n",
       "                        <td id=\"T_033bb894_51f9_11eb_815f_20c9d0b09affrow25_col1\" class=\"data row25 col1\" >20</td>\n",
       "                        <td id=\"T_033bb894_51f9_11eb_815f_20c9d0b09affrow25_col2\" class=\"data row25 col2\" >20.00%</td>\n",
       "                        <td id=\"T_033bb894_51f9_11eb_815f_20c9d0b09affrow25_col3\" class=\"data row25 col3\" >12.51%</td>\n",
       "            </tr>\n",
       "            <tr>\n",
       "                        <th id=\"T_033bb894_51f9_11eb_815f_20c9d0b09afflevel0_row26\" class=\"row_heading level0 row26\" >26</th>\n",
       "                        <td id=\"T_033bb894_51f9_11eb_815f_20c9d0b09affrow26_col0\" class=\"data row26 col0\" >40.00%</td>\n",
       "                        <td id=\"T_033bb894_51f9_11eb_815f_20c9d0b09affrow26_col1\" class=\"data row26 col1\" >20</td>\n",
       "                        <td id=\"T_033bb894_51f9_11eb_815f_20c9d0b09affrow26_col2\" class=\"data row26 col2\" >30.00%</td>\n",
       "                        <td id=\"T_033bb894_51f9_11eb_815f_20c9d0b09affrow26_col3\" class=\"data row26 col3\" >2.81%</td>\n",
       "            </tr>\n",
       "    </tbody></table>"
      ],
      "text/plain": [
       "<pandas.io.formats.style.Styler at 0x7fb2e175a550>"
      ]
     },
     "execution_count": 58,
     "metadata": {},
     "output_type": "execute_result"
    },
    {
     "data": {
      "image/png": "[encoded data removed]",
      "text/plain": [
       "<Figure size 432x288 with 1 Axes>"
      ]
     },
     "metadata": {
      "needs_background": "light"
     },
     "output_type": "display_data"
    },
    {
     "data": {
      "image/png": "[encoded data removed]",
      "text/plain": [
       "<Figure size 432x288 with 1 Axes>"
      ]
     },
     "metadata": {
      "needs_background": "light"
     },
     "output_type": "display_data"
    },
    {
     "data": {
      "image/png": "[encoded data removed]",
      "text/plain": [
       "<Figure size 432x288 with 1 Axes>"
      ]
     },
     "metadata": {
      "needs_background": "light"
     },
     "output_type": "display_data"
    }
   ],
   "source": [
    "def df_irr(data: ModelInputs, rate_list, years_list, def_prob_list):\n",
    "    '''\n",
    "    Creates a dataframe with the different IRR's for the given inputs\n",
    "    '''\n",
    "    tup_list =  [[(x,y,z) for y in years_list for z in def_prob_list]for x in rate_list]\n",
    "    irr_df = pd.DataFrame([t for lst in tup_list for t in lst],\n",
    "                      columns=['Interest Rate',\n",
    "                               'Loan Life',\n",
    "                               'Initial Default Probability'])\n",
    "    irr_df['IRR'] = get_irr(data, rates, years, p_1)\n",
    "    return irr_df\n",
    "\n",
    "def formatted_df_irr(data: ModelInputs, rate_list, years_list, def_prob_list):\n",
    "    '''\n",
    "    Adds format to the different columns\n",
    "    '''\n",
    "    df = df_irr(data, rate_list, years_list, def_prob_list)\n",
    "    df = df.style.background_gradient(cmap ='RdYlGn', subset='IRR').format({\n",
    "        'Interest Rate': '{:,.2%}',\n",
    "        'Initial Default Probability': '{:,.2%}',\n",
    "        'IRR': '{:,.2%}'\n",
    "    })\n",
    "    return df\n",
    "\n",
    "def formatted_and_display(data: ModelInputs, rate_list, years_list, def_prob_list):\n",
    "    '''\n",
    "    Shows plot and formatted DataFrame\n",
    "    '''\n",
    "    df = df_irr(data, rate_list, years_list, def_prob_list)\n",
    "    colors = ['green', 'blue', 'orange']\n",
    "    for col_name, color in zip(df.columns, colors):\n",
    "        if col_name != 'IRR':\n",
    "            df.groupby(col_name).mean().reset_index().plot.bar(x = col_name,\n",
    "                                                               y = 'IRR',\n",
    "                                                               title = f'{col_name} vs IRR',\n",
    "                                                               color = color)\n",
    "        else:\n",
    "            break\n",
    "    df_formatted = formatted_df_irr(data, rate_list, years_list, def_prob_list)\n",
    "    return df_formatted\n",
    "\n",
    "formatted_and_display(model_data, rates, years, p_1)"
   ]
  },
  {
   "cell_type": "markdown",
   "metadata": {},
   "source": [
    "With the formatted DataFrame we can take a look at which combinations work better for the IRR. <br><br>\n",
    "The plots show an average of IRR for the different scenarios, interesting to see that:\n",
    "- Loan Life has not such a great impact on the IRR\n",
    "- The greater the Interest Rate the greater then IRR\n",
    "- The lower Initial Default Probability is, the higher the IRR\n",
    "\n",
    "`Initial Default Probabilit` carries a huge impact on the IRR, generatting another model to determine `Initial Probability Default` could be quite helpful, another idea could be to assume that it has a normal distribuition with a given mean and standard deviation and apply Monte Carlo Simulation to it. Mean and Standard deviation could be based on several assumptions:\n",
    "- Company's credit history.\n",
    "- If company is new, perhaps look at similar companies to determine an initial default probability.\n",
    "- Forecasting future cash flows of the company."
   ]
  },
  {
   "cell_type": "markdown",
   "metadata": {},
   "source": [
    "---"
   ]
  },
  {
   "cell_type": "markdown",
   "metadata": {},
   "source": [
    "[**Back to Top**](#Probabilistic-Loan-Pricing)"
   ]
  }
 ],
 "metadata": {
  "kernelspec": {
   "display_name": "Python 3",
   "language": "python",
   "name": "python3"
  },
  "language_info": {
   "codemirror_mode": {
    "name": "ipython",
    "version": 3
   },
   "file_extension": ".py",
   "mimetype": "text/x-python",
   "name": "python",
   "nbconvert_exporter": "python",
   "pygments_lexer": "ipython3",
   "version": "3.7.7"
  }
 },
 "nbformat": 4,
 "nbformat_minor": 4
}
