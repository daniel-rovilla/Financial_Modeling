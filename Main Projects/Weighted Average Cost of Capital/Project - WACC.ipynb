{
 "cells": [
  {
   "cell_type": "markdown",
   "metadata": {},
   "source": [
    "<center> <h1>Weighted Average Cost of Capital</h1> </center>\n",
    "<center> <h4>Erick Daniel Rodríguez Villafuerte</h4> </center>"
   ]
  },
  {
   "cell_type": "markdown",
   "metadata": {},
   "source": [
    "- [**Overview**](#Overview): Brief description of the problem and the model\n",
    "- [**Setup**](#Setup): Runs any imports and other setup\n",
    "- [**Inputs**](#Inputs): Defines the inputs for the model\n",
    "- [**Cost of Equity**](#Cost-of-Equity): Model to get the CoE, calculated with a CAPM and the Market Value of Equity\n",
    "- [**Cost of Debt**](#Cost-of-Debt): Model to get CoD and the Market Value of Debt based on the market rate of bonds approach\n",
    "- [**WACC**](#WACC): Model to get the average rate that a company expects to pay to finance its assets\n",
    "- [**Monte Carlo Simulations**](#Monte-Carlo-Simulations): Monte Carlo Simulations for the WACC \n",
    "- [**Outputs**](#Outputs): Shows the final output for the model"
   ]
  },
  {
   "cell_type": "markdown",
   "metadata": {},
   "source": [
    "## Overview \n",
    "\n",
    "### Introduction\n",
    "The goal of cost of capital estimation is to determine the weighted average cost of capital (WACC). This can broadly be broken down into two components: estimating the cost of equity and estimating the cost of debt.\n",
    "- Cost of debt is usually estimated from the interest payments and book value of debt\n",
    "\n",
    "### Problem Definition\n",
    " \"X\" fund is considering an investment in Walmart. As part of the decision-making process, our team is building a DCF model to value the stock. Another analyst is working on getting the free cash flows. This project's job is to determine the cost of capital for Walmart.\n",
    "\n",
    "### Main Question\n",
    "> Determine the WACC for Walmart. \n",
    "\n",
    "<div style=\"text-align: justify\">  The market value of debt is estimated by valuing the individual debt instruments. Once we have a baseline estimate, we want to figure out the variability of that estimate. <br>Given the standard deviations in the Monte Carlo Inputs section, and assuming these variables all follow normal distributions, visualize the probability distribution of the WACC via a histogram and a probability table. Which of the variables has the greatest contribution to the WACC? We will run at least 10,000 Monte Carlo simulations</div>\n",
    "\n",
    "### Notes\n",
    "- **Returns are daily.** We will need to divide the risk free rate by 252 to get a daily rate.\n",
    "    - After we get an estimate from CAPM, we will need to multiply it by 252.\n",
    "- If there is not a specific day associated with a debt maturity, only a year, assume it is December 31st.\n",
    "- If there is a range of coupons given, you can assume the midpoint of the range is the coupon.\n",
    "- If there is not enough information to calculate a bond price, or the bond already expired, just use the principal as the market price of the bond.\n",
    "- In addition to the information in the spreadsheets, we need to consider the following:\n",
    "    - Walmart currently has a coupon bond trading in the market (details below).\n",
    "    - The risk-free rate and LIBOR rates are also given in the inputs table. \n",
    "    - Also reference Walmart’s stock information in the inputs table."
   ]
  },
  {
   "cell_type": "markdown",
   "metadata": {},
   "source": [
    "## Setup"
   ]
  },
  {
   "cell_type": "code",
   "execution_count": 1,
   "metadata": {},
   "outputs": [],
   "source": [
    "from dataclasses import dataclass\n",
    "import numpy as np\n",
    "import numpy_financial as npf\n",
    "import pandas as pd\n",
    "import statsmodels.api as sm\n",
    "import datetime as dt\n",
    "import random\n",
    "import matplotlib.pyplot as plt\n",
    "%matplotlib inline"
   ]
  },
  {
   "cell_type": "markdown",
   "metadata": {},
   "source": [
    "## Inputs"
   ]
  },
  {
   "cell_type": "code",
   "execution_count": 2,
   "metadata": {},
   "outputs": [],
   "source": [
    "@dataclass\n",
    "class ModelInputs:\n",
    "    bond_years: int = 15\n",
    "    bond_coupon: float = .0525\n",
    "    bond_price: float = 130.58\n",
    "    bond_par: float = 100\n",
    "    risk_free: float = 0.005\n",
    "    price: float = 119.51\n",
    "    shares_outstanding: int = 2850000000\n",
    "    libor_rate: float = 0.0196\n",
    "    sp_500_file: str = 'SP500 Prices.xlsx'\n",
    "    stock_prices_file: str = 'WMT Prices.xlsx'\n",
    "    stock_ticker: str = 'WMT'\n",
    "    balance_sheet_file: str = 'WMT Balance Sheet.xlsx'\n",
    "    income_statement_file: str = 'WMT Income Statement.xlsx'\n",
    "    mv_debt_details_file: str = 'WMT Debt Details.xls'\n",
    "        \n",
    "        \n",
    "@dataclass\n",
    "class SimulationInputs:\n",
    "    num_iter: int = 10000\n",
    "    beta_std: float = 0.2\n",
    "    mkt_ret_std: float = 0.03\n",
    "    bond_price_std: float = 30\n",
    "    tax_rate_std: float = 0.05\n",
    "\n",
    "model_data = ModelInputs()\n",
    "sim_data = SimulationInputs()"
   ]
  },
  {
   "cell_type": "markdown",
   "metadata": {},
   "source": [
    "## Cost of Equity"
   ]
  },
  {
   "cell_type": "markdown",
   "metadata": {},
   "source": [
    "Cost of equity is typically estimated using the Capital Asset Pricing Model (CAPM) <br><br>\n",
    "$$r_i =r_f +\\beta(r_m −r_f)+ \\epsilon$$\n",
    "Where:\n",
    "- $r_i$ : Return on stock $i$\n",
    "- $r_f$ : Return on risk free asset\n",
    "- $r_m$: Return on market portfolio\n",
    "- $\\beta$: Covariance of stock returns with market risk premium\n",
    "- $\\epsilon$: Idiosyncratic return, mean 0"
   ]
  },
  {
   "cell_type": "markdown",
   "metadata": {},
   "source": [
    "First step will be to convert into a DataFrame the values for the market and WMT stock."
   ]
  },
  {
   "cell_type": "code",
   "execution_count": 3,
   "metadata": {},
   "outputs": [],
   "source": [
    "df_m = pd.read_excel(model_data.sp_500_file)\n",
    "df_i = pd.read_excel(model_data.stock_prices_file)"
   ]
  },
  {
   "cell_type": "markdown",
   "metadata": {},
   "source": [
    "Now that we have both `DataFrames` we will just do a small sanity check. Dates should be the same, since WMT ticker operates in the same days as the SP500 does."
   ]
  },
  {
   "cell_type": "code",
   "execution_count": 4,
   "metadata": {},
   "outputs": [
    {
     "data": {
      "text/plain": [
       "True"
      ]
     },
     "execution_count": 4,
     "metadata": {},
     "output_type": "execute_result"
    }
   ],
   "source": [
    "df_m['Date'].equals(df_i['Date'])"
   ]
  },
  {
   "cell_type": "markdown",
   "metadata": {},
   "source": [
    "We confirm this and proceed to create a new `DataFrame` with only the columns that we need: Date and Adj Close for both the market and the asset, these last two will be renamed to avoid confusion and the first one (Date) will be used as index."
   ]
  },
  {
   "cell_type": "code",
   "execution_count": 5,
   "metadata": {},
   "outputs": [
    {
     "data": {
      "text/html": [
       "<div>\n",
       "<style scoped>\n",
       "    .dataframe tbody tr th:only-of-type {\n",
       "        vertical-align: middle;\n",
       "    }\n",
       "\n",
       "    .dataframe tbody tr th {\n",
       "        vertical-align: top;\n",
       "    }\n",
       "\n",
       "    .dataframe thead th {\n",
       "        text-align: right;\n",
       "    }\n",
       "</style>\n",
       "<table border=\"1\" class=\"dataframe\">\n",
       "  <thead>\n",
       "    <tr style=\"text-align: right;\">\n",
       "      <th></th>\n",
       "      <th>Mkt Price</th>\n",
       "      <th>WMT Price</th>\n",
       "    </tr>\n",
       "    <tr>\n",
       "      <th>Date</th>\n",
       "      <th></th>\n",
       "      <th></th>\n",
       "    </tr>\n",
       "  </thead>\n",
       "  <tbody>\n",
       "    <tr>\n",
       "      <th>2014-11-06</th>\n",
       "      <td>2031.209961</td>\n",
       "      <td>68.586304</td>\n",
       "    </tr>\n",
       "    <tr>\n",
       "      <th>2014-11-07</th>\n",
       "      <td>2031.920044</td>\n",
       "      <td>69.432503</td>\n",
       "    </tr>\n",
       "    <tr>\n",
       "      <th>2014-11-10</th>\n",
       "      <td>2038.260010</td>\n",
       "      <td>70.023087</td>\n",
       "    </tr>\n",
       "    <tr>\n",
       "      <th>2014-11-11</th>\n",
       "      <td>2039.680054</td>\n",
       "      <td>69.644073</td>\n",
       "    </tr>\n",
       "    <tr>\n",
       "      <th>2014-11-12</th>\n",
       "      <td>2038.250000</td>\n",
       "      <td>69.811539</td>\n",
       "    </tr>\n",
       "    <tr>\n",
       "      <th>...</th>\n",
       "      <td>...</td>\n",
       "      <td>...</td>\n",
       "    </tr>\n",
       "    <tr>\n",
       "      <th>2019-10-30</th>\n",
       "      <td>3046.770020</td>\n",
       "      <td>118.099998</td>\n",
       "    </tr>\n",
       "    <tr>\n",
       "      <th>2019-10-31</th>\n",
       "      <td>3037.560059</td>\n",
       "      <td>117.260002</td>\n",
       "    </tr>\n",
       "    <tr>\n",
       "      <th>2019-11-01</th>\n",
       "      <td>3066.909912</td>\n",
       "      <td>117.620003</td>\n",
       "    </tr>\n",
       "    <tr>\n",
       "      <th>2019-11-04</th>\n",
       "      <td>3078.270020</td>\n",
       "      <td>117.570000</td>\n",
       "    </tr>\n",
       "    <tr>\n",
       "      <th>2019-11-05</th>\n",
       "      <td>3074.620117</td>\n",
       "      <td>118.860001</td>\n",
       "    </tr>\n",
       "  </tbody>\n",
       "</table>\n",
       "<p>1258 rows × 2 columns</p>\n",
       "</div>"
      ],
      "text/plain": [
       "              Mkt Price   WMT Price\n",
       "Date                               \n",
       "2014-11-06  2031.209961   68.586304\n",
       "2014-11-07  2031.920044   69.432503\n",
       "2014-11-10  2038.260010   70.023087\n",
       "2014-11-11  2039.680054   69.644073\n",
       "2014-11-12  2038.250000   69.811539\n",
       "...                 ...         ...\n",
       "2019-10-30  3046.770020  118.099998\n",
       "2019-10-31  3037.560059  117.260002\n",
       "2019-11-01  3066.909912  117.620003\n",
       "2019-11-04  3078.270020  117.570000\n",
       "2019-11-05  3074.620117  118.860001\n",
       "\n",
       "[1258 rows x 2 columns]"
      ]
     },
     "execution_count": 5,
     "metadata": {},
     "output_type": "execute_result"
    }
   ],
   "source": [
    "def combine_ohlc_dfs(data: ModelInputs, df_market, df_stock):\n",
    "    '''\n",
    "    Combines two DataFrames with OHLC format to just one DataFrame that keeps\n",
    "    the same Date and the Adjusted Prices for the market and stock\n",
    "    '''\n",
    "    df = pd.concat([df_market['Date'], df_market['Adj Close'], df_stock['Adj Close']],\n",
    "                   axis=1,\n",
    "                   keys=['Date', 'Mkt Price', f'{data.stock_ticker} Price'])\n",
    "    df = df.set_index('Date')\n",
    "    return df\n",
    "df_ohlc = combine_ohlc_dfs(model_data, df_m, df_i)\n",
    "df_ohlc"
   ]
  },
  {
   "cell_type": "markdown",
   "metadata": {},
   "source": [
    "Beta will be calculated as the coefficient of the market risk premium in the regression of the historical stock returns and the historical market risk premiums."
   ]
  },
  {
   "cell_type": "code",
   "execution_count": 6,
   "metadata": {},
   "outputs": [
    {
     "data": {
      "text/plain": [
       "0.6248324465315513"
      ]
     },
     "execution_count": 6,
     "metadata": {},
     "output_type": "execute_result"
    }
   ],
   "source": [
    "def calculate_beta(data: ModelInputs, df):\n",
    "    '''\n",
    "    Given a df, calculates the beta of a stock by regressing the historical\n",
    "    stock returns of the company on the historical market risk premiums\n",
    "    '''\n",
    "    returns = df.pct_change() # df has prices, this will change it to delta percentage\n",
    "    # As stated before, risk free needs to be adjusted to daily values\n",
    "    returns['MRP'] = returns['Mkt Price'] - (data.risk_free / 252) # MRP = Market Risk Premium\n",
    "    returns = returns.dropna() # first value will be NA, needs to be dropped\n",
    "    # Assign variables and fit the Ordinary Least Squares Model\n",
    "    X = sm.add_constant(returns['MRP'])\n",
    "    y = returns[f'{data.stock_ticker} Price']\n",
    "    model = sm.OLS(y, X)\n",
    "    results = model.fit()\n",
    "    # Beta will be the coefficient of the market risk premium in the regression\n",
    "    beta = results.params['MRP']\n",
    "    return beta\n",
    "beta = calculate_beta(model_data, df_ohlc)\n",
    "beta"
   ]
  },
  {
   "cell_type": "markdown",
   "metadata": {},
   "source": [
    "This will be the first Capital Asset Princing Model, based on static inputs, later it will be changed to adapt variability."
   ]
  },
  {
   "cell_type": "code",
   "execution_count": 7,
   "metadata": {},
   "outputs": [
    {
     "data": {
      "text/plain": [
       "0.0923072636525422"
      ]
     },
     "execution_count": 7,
     "metadata": {},
     "output_type": "execute_result"
    }
   ],
   "source": [
    "def market_returns_average(data: ModelInputs, df):\n",
    "    '''\n",
    "    Given a df with market and stock prices, calculates the\n",
    "    market returns average, will be used next for the capm\n",
    "    '''\n",
    "    returns = df.pct_change()\n",
    "    returns['MRP'] = returns['Mkt Price'] - (data.risk_free / 252)\n",
    "    MR_avg = returns['Mkt Price'].mean()\n",
    "    return MR_avg * 252\n",
    "\n",
    "mkt_ret_avg = market_returns_average(model_data, df_ohlc)\n",
    "mkt_ret_avg"
   ]
  },
  {
   "cell_type": "code",
   "execution_count": 8,
   "metadata": {},
   "outputs": [
    {
     "data": {
      "text/plain": [
       "0.05955241114799313"
      ]
     },
     "execution_count": 8,
     "metadata": {},
     "output_type": "execute_result"
    }
   ],
   "source": [
    "def capm(data: ModelInputs, mkt_ret_avg, beta):\n",
    "    '''\n",
    "    Given an average of market returns, calculates the capital\n",
    "    asset pricing model to get the cost of equity\n",
    "    '''\n",
    "    # Apply CAPM formula\n",
    "    CoE = (data.risk_free / 252) + beta * (mkt_ret_avg / 252 - (data.risk_free / 252))\n",
    "    # Adjust for anual cost of equity\n",
    "    return CoE * 252\n",
    "\n",
    "CoE = capm(model_data, mkt_ret_avg, beta)\n",
    "CoE"
   ]
  },
  {
   "cell_type": "markdown",
   "metadata": {},
   "source": [
    "Lastly, we will get the market value of equity"
   ]
  },
  {
   "cell_type": "code",
   "execution_count": 9,
   "metadata": {},
   "outputs": [],
   "source": [
    "equity_mv = model_data.shares_outstanding * model_data.price"
   ]
  },
  {
   "cell_type": "markdown",
   "metadata": {},
   "source": [
    "---"
   ]
  },
  {
   "cell_type": "markdown",
   "metadata": {},
   "source": [
    "## Cost of Debt"
   ]
  },
  {
   "cell_type": "markdown",
   "metadata": {},
   "source": [
    "First we will load the necessary dataframes and assign a date variable to work with. For simplicity on this part, we will only be working with  Principal Due, Coupon Rate and Maturity on the Debt Details `DataFrame`, the rest of the columns will not be cleaned-up"
   ]
  },
  {
   "cell_type": "code",
   "execution_count": 10,
   "metadata": {},
   "outputs": [],
   "source": [
    "df_bs = pd.read_excel(model_data.balance_sheet_file, index_col = 0) # balance sheet\n",
    "df_is = pd.read_excel(model_data.income_statement_file, index_col = 0) # income statement \n",
    "df_dd = pd.read_excel(model_data.mv_debt_details_file, skiprows=12, nrows=62) # debt details\n",
    "date = pd.to_datetime('2019-07-31')"
   ]
  },
  {
   "cell_type": "markdown",
   "metadata": {},
   "source": [
    "First, we will replace '-' to `NaN` values in the Principal Due column, on the Coupon/Base Rate column, we will change the `NaN` vaelue to a space, this last change needs to be made for the next function `coupon_to_float`, which will take a string and convert it to a floating coupon rate."
   ]
  },
  {
   "cell_type": "code",
   "execution_count": 11,
   "metadata": {},
   "outputs": [],
   "source": [
    "df_dd['Principal Due (USD)'].replace('-', np.nan, inplace=True)\n",
    "df_dd['Coupon/Base Rate'].fillna(value = '', inplace = True)"
   ]
  },
  {
   "cell_type": "code",
   "execution_count": 12,
   "metadata": {},
   "outputs": [],
   "source": [
    "def coupon_to_float(string):\n",
    "    '''\n",
    "    Takes a string and converts '-' to '%', then it will convert the number \n",
    "    of the coupon as a float and divide it by 100, if there are two numbers, \n",
    "    it will take the average\n",
    "    '''\n",
    "    coupon = string.replace('-', '%').split('%')\n",
    "    if len(coupon) == 2:\n",
    "        cpn_r = float(coupon[0])\n",
    "    elif len(coupon) == 4:\n",
    "        high = float(coupon[2])\n",
    "        low = float(coupon[0])\n",
    "        cpn_r = (high + low) / 2\n",
    "    else:\n",
    "        cpn_r = 0\n",
    "    return cpn_r / 100\n",
    "\n",
    "def coupon_to_float_for_apply(series):\n",
    "    \"\"\"\n",
    "    String to float in coupon rates.\n",
    "    This version to be used with DataFrame.apply\n",
    "    \"\"\"\n",
    "    coupon_rate = series['Coupon/Base Rate']\n",
    "    return coupon_to_float(coupon_rate)"
   ]
  },
  {
   "cell_type": "markdown",
   "metadata": {},
   "source": [
    "We apply the function and create a new column, 'Coupon Rate'"
   ]
  },
  {
   "cell_type": "code",
   "execution_count": 13,
   "metadata": {},
   "outputs": [],
   "source": [
    "df_dd['Coupon Rate'] = df_dd.apply(coupon_to_float_for_apply, axis=1)"
   ]
  },
  {
   "cell_type": "markdown",
   "metadata": {},
   "source": [
    "Now, the following functions two will take a value from the Maturity column, if it's a `datetime` then it will pass the same value, if it's an `integer`, it will convert it to a `datetime` and if there is no date (which in the table is a string value '-') it will pass it as `NaN`"
   ]
  },
  {
   "cell_type": "code",
   "execution_count": 14,
   "metadata": {},
   "outputs": [],
   "source": [
    "def maturity_to_years(date):\n",
    "    if isinstance(date, int):\n",
    "        return dt.datetime.fromisoformat(f'{date}-12-31')\n",
    "    elif isinstance(date, str):\n",
    "        return np.NaN\n",
    "    else:\n",
    "        return date\n",
    "    \n",
    "def maturity_to_years_for_apply(series, date_col='Maturity'):\n",
    "    \"\"\"\n",
    "    Integer to Datetime in Maturity column.\n",
    "    This version to be used with DataFrame.apply\n",
    "    \"\"\"\n",
    "    date = series[date_col]\n",
    "    return maturity_to_years(date)"
   ]
  },
  {
   "cell_type": "markdown",
   "metadata": {},
   "source": [
    "We apply the function and modify the 'Maturity' column"
   ]
  },
  {
   "cell_type": "code",
   "execution_count": 15,
   "metadata": {},
   "outputs": [],
   "source": [
    "df_dd['Maturity'] = df_dd.apply(maturity_to_years_for_apply, axis=1)"
   ]
  },
  {
   "cell_type": "markdown",
   "metadata": {},
   "source": [
    "The following two functions will determine the difference in years between today and a given date, in this case, the given date will be the Maturity date of each type of debt from WMT"
   ]
  },
  {
   "cell_type": "code",
   "execution_count": 16,
   "metadata": {},
   "outputs": [],
   "source": [
    "def years_until_from_date(date):\n",
    "    \"\"\"\n",
    "    Calculate the number of years until a date, starting from today.\n",
    "    \"\"\"\n",
    "    today = dt.datetime.today()\n",
    "    diff = date - today\n",
    "    seconds = diff.total_seconds()\n",
    "    seconds_per_year = 60 * 60 * 24 * 365\n",
    "    years_elapsed = seconds / seconds_per_year\n",
    "    return years_elapsed\n",
    "\n",
    "def years_until_from_date_for_apply(series, date_col = 'Maturity'):\n",
    "    date = series[date_col]\n",
    "    return years_until_from_date(date)"
   ]
  },
  {
   "cell_type": "markdown",
   "metadata": {},
   "source": [
    "We apply the function and create a new column, 'Maturity (years)'"
   ]
  },
  {
   "cell_type": "code",
   "execution_count": 17,
   "metadata": {},
   "outputs": [],
   "source": [
    "df_dd['Maturity (years)'] = df_dd.apply(years_until_from_date_for_apply, axis=1)"
   ]
  },
  {
   "cell_type": "markdown",
   "metadata": {},
   "source": [
    "Some of the years are negative and other some are `NaN`, we will not make a calculation for the market value of those bonds, we will create a new column to determine if we can apply the market value function (this function will be presented later)"
   ]
  },
  {
   "cell_type": "code",
   "execution_count": 18,
   "metadata": {},
   "outputs": [],
   "source": [
    "def apply_mv_func(year):\n",
    "    if year > 0:\n",
    "        return True\n",
    "    else:\n",
    "        return False"
   ]
  },
  {
   "cell_type": "markdown",
   "metadata": {},
   "source": [
    "We apply the function and create a new column, 'Apply MV Func'"
   ]
  },
  {
   "cell_type": "code",
   "execution_count": 19,
   "metadata": {},
   "outputs": [],
   "source": [
    "df_dd['Apply MV Func'] = df_dd['Maturity (years)'].apply(lambda x: apply_mv_func(x))"
   ]
  },
  {
   "cell_type": "markdown",
   "metadata": {},
   "source": [
    "We can now take a look at a DataFrame with the columns that will be used"
   ]
  },
  {
   "cell_type": "code",
   "execution_count": 20,
   "metadata": {},
   "outputs": [
    {
     "data": {
      "text/html": [
       "<div>\n",
       "<style scoped>\n",
       "    .dataframe tbody tr th:only-of-type {\n",
       "        vertical-align: middle;\n",
       "    }\n",
       "\n",
       "    .dataframe tbody tr th {\n",
       "        vertical-align: top;\n",
       "    }\n",
       "\n",
       "    .dataframe thead th {\n",
       "        text-align: right;\n",
       "    }\n",
       "</style>\n",
       "<table border=\"1\" class=\"dataframe\">\n",
       "  <thead>\n",
       "    <tr style=\"text-align: right;\">\n",
       "      <th></th>\n",
       "      <th>Principal Due (USD)</th>\n",
       "      <th>Coupon Rate</th>\n",
       "      <th>Maturity (years)</th>\n",
       "      <th>Apply MV Func</th>\n",
       "    </tr>\n",
       "  </thead>\n",
       "  <tbody>\n",
       "    <tr>\n",
       "      <th>0</th>\n",
       "      <td>619.0</td>\n",
       "      <td>0.00183</td>\n",
       "      <td>1.499670</td>\n",
       "      <td>True</td>\n",
       "    </tr>\n",
       "    <tr>\n",
       "      <th>1</th>\n",
       "      <td>354.0</td>\n",
       "      <td>0.00298</td>\n",
       "      <td>3.510629</td>\n",
       "      <td>True</td>\n",
       "    </tr>\n",
       "    <tr>\n",
       "      <th>2</th>\n",
       "      <td>530.0</td>\n",
       "      <td>0.00520</td>\n",
       "      <td>6.505149</td>\n",
       "      <td>True</td>\n",
       "    </tr>\n",
       "    <tr>\n",
       "      <th>3</th>\n",
       "      <td>88.0</td>\n",
       "      <td>0.01600</td>\n",
       "      <td>-0.464714</td>\n",
       "      <td>False</td>\n",
       "    </tr>\n",
       "    <tr>\n",
       "      <th>4</th>\n",
       "      <td>1198.0</td>\n",
       "      <td>0.01750</td>\n",
       "      <td>-1.267454</td>\n",
       "      <td>False</td>\n",
       "    </tr>\n",
       "    <tr>\n",
       "      <th>...</th>\n",
       "      <td>...</td>\n",
       "      <td>...</td>\n",
       "      <td>...</td>\n",
       "      <td>...</td>\n",
       "    </tr>\n",
       "    <tr>\n",
       "      <th>57</th>\n",
       "      <td>42.0</td>\n",
       "      <td>0.00000</td>\n",
       "      <td>NaN</td>\n",
       "      <td>False</td>\n",
       "    </tr>\n",
       "    <tr>\n",
       "      <th>58</th>\n",
       "      <td>1243.0</td>\n",
       "      <td>0.03250</td>\n",
       "      <td>8.485971</td>\n",
       "      <td>True</td>\n",
       "    </tr>\n",
       "    <tr>\n",
       "      <th>59</th>\n",
       "      <td>1242.0</td>\n",
       "      <td>0.03050</td>\n",
       "      <td>5.483231</td>\n",
       "      <td>True</td>\n",
       "    </tr>\n",
       "    <tr>\n",
       "      <th>60</th>\n",
       "      <td>1493.0</td>\n",
       "      <td>0.02850</td>\n",
       "      <td>3.483231</td>\n",
       "      <td>True</td>\n",
       "    </tr>\n",
       "    <tr>\n",
       "      <th>61</th>\n",
       "      <td>3681.0</td>\n",
       "      <td>0.00000</td>\n",
       "      <td>-0.456495</td>\n",
       "      <td>False</td>\n",
       "    </tr>\n",
       "  </tbody>\n",
       "</table>\n",
       "<p>62 rows × 4 columns</p>\n",
       "</div>"
      ],
      "text/plain": [
       "    Principal Due (USD)  Coupon Rate  Maturity (years)  Apply MV Func\n",
       "0                 619.0      0.00183          1.499670           True\n",
       "1                 354.0      0.00298          3.510629           True\n",
       "2                 530.0      0.00520          6.505149           True\n",
       "3                  88.0      0.01600         -0.464714          False\n",
       "4                1198.0      0.01750         -1.267454          False\n",
       "..                  ...          ...               ...            ...\n",
       "57                 42.0      0.00000               NaN          False\n",
       "58               1243.0      0.03250          8.485971           True\n",
       "59               1242.0      0.03050          5.483231           True\n",
       "60               1493.0      0.02850          3.483231           True\n",
       "61               3681.0      0.00000         -0.456495          False\n",
       "\n",
       "[62 rows x 4 columns]"
      ]
     },
     "execution_count": 20,
     "metadata": {},
     "output_type": "execute_result"
    }
   ],
   "source": [
    "df_dd[['Principal Due (USD)', 'Coupon Rate', 'Maturity (years)', 'Apply MV Func']]"
   ]
  },
  {
   "cell_type": "markdown",
   "metadata": {},
   "source": [
    "The following functions will calculate the market value of debt based on the market rate of bonds approach. For this we need to have:\n",
    "- Price\n",
    "- Coupon\n",
    "- Maturity\n",
    "- Cost of debt\n",
    "\n",
    "The first three elements will be taken from the cleaned-up dataframe, cost of debt will be calculated below with the rate formula based on the market bond inputs."
   ]
  },
  {
   "cell_type": "code",
   "execution_count": 21,
   "metadata": {},
   "outputs": [
    {
     "data": {
      "text/plain": [
       "'The pre-tax cost of debt for WMT is 2.74%'"
      ]
     },
     "execution_count": 21,
     "metadata": {},
     "output_type": "execute_result"
    }
   ],
   "source": [
    "CoD = npf.rate(nper = model_data.bond_years, pmt = model_data.bond_coupon*model_data.bond_par, pv = -model_data.bond_price, fv = model_data.bond_par)\n",
    "f'The pre-tax cost of debt for WMT is {CoD:.02%}'"
   ]
  },
  {
   "cell_type": "code",
   "execution_count": 22,
   "metadata": {},
   "outputs": [],
   "source": [
    "def mv_bond_annuity_approach(principal, coupon_rate, maturity, cost_of_debt):\n",
    "    \"\"\"\n",
    "    Calculate the market value of bond with non-integer maturity\n",
    "    \"\"\"\n",
    "    coupon_payment = coupon_rate * principal\n",
    "    return coupon_payment * ((1 - (1 + cost_of_debt)**(-maturity))/cost_of_debt) + principal/(1 + cost_of_debt)**maturity\n",
    "\n",
    "\n",
    "def mv_bond_annuity_approach_for_apply(series, cost_of_debt):\n",
    "    \"\"\"\n",
    "    Calculate market value of a bond with non-integer maturity. This version to be used with DataFrame.apply\n",
    "    \"\"\"\n",
    "    principal = series['Principal Due (USD)']\n",
    "    coupon_rate = series['Coupon Rate']\n",
    "    maturity = series['Maturity (years)']\n",
    "    return mv_bond_annuity_approach(principal, coupon_rate, maturity, cost_of_debt)"
   ]
  },
  {
   "cell_type": "markdown",
   "metadata": {},
   "source": [
    "As stated before f `Maturity (years)` is negative we will not make a calculation for the market value of that bond, a column with a `bool`value has been created, this column will be set as an input for the following function `valid_value` check if the function will apply to that row."
   ]
  },
  {
   "cell_type": "code",
   "execution_count": 23,
   "metadata": {},
   "outputs": [],
   "source": [
    "def valid_mv_value(row):\n",
    "    if row['Apply MV Func'] == False:\n",
    "        row = row['Principal Due (USD)']\n",
    "    else:\n",
    "        row = mv_bond_annuity_approach_for_apply(row, CoD)\n",
    "    return row"
   ]
  },
  {
   "cell_type": "code",
   "execution_count": 24,
   "metadata": {},
   "outputs": [],
   "source": [
    "df_dd['Market Value'] = df_dd.apply(lambda row : valid_mv_value(row), axis=1) "
   ]
  },
  {
   "cell_type": "markdown",
   "metadata": {},
   "source": [
    "A last look at the DataFrame with the used columns"
   ]
  },
  {
   "cell_type": "code",
   "execution_count": 25,
   "metadata": {},
   "outputs": [
    {
     "data": {
      "text/html": [
       "<div>\n",
       "<style scoped>\n",
       "    .dataframe tbody tr th:only-of-type {\n",
       "        vertical-align: middle;\n",
       "    }\n",
       "\n",
       "    .dataframe tbody tr th {\n",
       "        vertical-align: top;\n",
       "    }\n",
       "\n",
       "    .dataframe thead th {\n",
       "        text-align: right;\n",
       "    }\n",
       "</style>\n",
       "<table border=\"1\" class=\"dataframe\">\n",
       "  <thead>\n",
       "    <tr style=\"text-align: right;\">\n",
       "      <th></th>\n",
       "      <th>Principal Due (USD)</th>\n",
       "      <th>Coupon Rate</th>\n",
       "      <th>Maturity (years)</th>\n",
       "      <th>Apply MV Func</th>\n",
       "      <th>Market Value</th>\n",
       "    </tr>\n",
       "  </thead>\n",
       "  <tbody>\n",
       "    <tr>\n",
       "      <th>0</th>\n",
       "      <td>619.0</td>\n",
       "      <td>0.00183</td>\n",
       "      <td>1.499670</td>\n",
       "      <td>True</td>\n",
       "      <td>596.077978</td>\n",
       "    </tr>\n",
       "    <tr>\n",
       "      <th>1</th>\n",
       "      <td>354.0</td>\n",
       "      <td>0.00298</td>\n",
       "      <td>3.510629</td>\n",
       "      <td>True</td>\n",
       "      <td>325.470958</td>\n",
       "    </tr>\n",
       "    <tr>\n",
       "      <th>2</th>\n",
       "      <td>530.0</td>\n",
       "      <td>0.00520</td>\n",
       "      <td>6.505149</td>\n",
       "      <td>True</td>\n",
       "      <td>460.845181</td>\n",
       "    </tr>\n",
       "    <tr>\n",
       "      <th>3</th>\n",
       "      <td>88.0</td>\n",
       "      <td>0.01600</td>\n",
       "      <td>-0.464714</td>\n",
       "      <td>False</td>\n",
       "      <td>88.000000</td>\n",
       "    </tr>\n",
       "    <tr>\n",
       "      <th>4</th>\n",
       "      <td>1198.0</td>\n",
       "      <td>0.01750</td>\n",
       "      <td>-1.267454</td>\n",
       "      <td>False</td>\n",
       "      <td>1198.000000</td>\n",
       "    </tr>\n",
       "    <tr>\n",
       "      <th>...</th>\n",
       "      <td>...</td>\n",
       "      <td>...</td>\n",
       "      <td>...</td>\n",
       "      <td>...</td>\n",
       "      <td>...</td>\n",
       "    </tr>\n",
       "    <tr>\n",
       "      <th>57</th>\n",
       "      <td>42.0</td>\n",
       "      <td>0.00000</td>\n",
       "      <td>NaN</td>\n",
       "      <td>False</td>\n",
       "      <td>42.000000</td>\n",
       "    </tr>\n",
       "    <tr>\n",
       "      <th>58</th>\n",
       "      <td>1243.0</td>\n",
       "      <td>0.03250</td>\n",
       "      <td>8.485971</td>\n",
       "      <td>True</td>\n",
       "      <td>1290.717737</td>\n",
       "    </tr>\n",
       "    <tr>\n",
       "      <th>59</th>\n",
       "      <td>1242.0</td>\n",
       "      <td>0.03050</td>\n",
       "      <td>5.483231</td>\n",
       "      <td>True</td>\n",
       "      <td>1261.551998</td>\n",
       "    </tr>\n",
       "    <tr>\n",
       "      <th>60</th>\n",
       "      <td>1493.0</td>\n",
       "      <td>0.02850</td>\n",
       "      <td>3.483231</td>\n",
       "      <td>True</td>\n",
       "      <td>1498.537429</td>\n",
       "    </tr>\n",
       "    <tr>\n",
       "      <th>61</th>\n",
       "      <td>3681.0</td>\n",
       "      <td>0.00000</td>\n",
       "      <td>-0.456495</td>\n",
       "      <td>False</td>\n",
       "      <td>3681.000000</td>\n",
       "    </tr>\n",
       "  </tbody>\n",
       "</table>\n",
       "<p>62 rows × 5 columns</p>\n",
       "</div>"
      ],
      "text/plain": [
       "    Principal Due (USD)  Coupon Rate  Maturity (years)  Apply MV Func  \\\n",
       "0                 619.0      0.00183          1.499670           True   \n",
       "1                 354.0      0.00298          3.510629           True   \n",
       "2                 530.0      0.00520          6.505149           True   \n",
       "3                  88.0      0.01600         -0.464714          False   \n",
       "4                1198.0      0.01750         -1.267454          False   \n",
       "..                  ...          ...               ...            ...   \n",
       "57                 42.0      0.00000               NaN          False   \n",
       "58               1243.0      0.03250          8.485971           True   \n",
       "59               1242.0      0.03050          5.483231           True   \n",
       "60               1493.0      0.02850          3.483231           True   \n",
       "61               3681.0      0.00000         -0.456495          False   \n",
       "\n",
       "    Market Value  \n",
       "0     596.077978  \n",
       "1     325.470958  \n",
       "2     460.845181  \n",
       "3      88.000000  \n",
       "4    1198.000000  \n",
       "..           ...  \n",
       "57     42.000000  \n",
       "58   1290.717737  \n",
       "59   1261.551998  \n",
       "60   1498.537429  \n",
       "61   3681.000000  \n",
       "\n",
       "[62 rows x 5 columns]"
      ]
     },
     "execution_count": 25,
     "metadata": {},
     "output_type": "execute_result"
    }
   ],
   "source": [
    "df_dd[['Principal Due (USD)', 'Coupon Rate', 'Maturity (years)', 'Apply MV Func', 'Market Value']]"
   ]
  },
  {
   "cell_type": "markdown",
   "metadata": {},
   "source": [
    "Now we simply get the sum of all the bonds to get the debt market value"
   ]
  },
  {
   "cell_type": "code",
   "execution_count": 26,
   "metadata": {},
   "outputs": [
    {
     "data": {
      "text/plain": [
       "82605.64576688924"
      ]
     },
     "execution_count": 26,
     "metadata": {},
     "output_type": "execute_result"
    }
   ],
   "source": [
    "debt_mv = df_dd['Market Value'].sum()\n",
    "debt_mv"
   ]
  },
  {
   "cell_type": "markdown",
   "metadata": {},
   "source": [
    "---"
   ]
  },
  {
   "cell_type": "markdown",
   "metadata": {},
   "source": [
    "## WACC"
   ]
  },
  {
   "cell_type": "markdown",
   "metadata": {},
   "source": [
    "WACC is the average after-tax cost of a company’s various capital sources, including common stock, preferred stock, bonds, and any other long-term debt. In other words, WACC is the average rate a company expects to pay to finance its assets. \n",
    "> Note: preferred stock is not being considered for this project\n",
    "\n",
    "$${WACC} = \\biggl(\\frac{E}{V} * R_e\\biggr) + \\biggl(\\frac{D}{V} * R_d * (1 - T_c)\\biggr)$$\n",
    "\n",
    "Where:\n",
    "- $E$ = Market value of the firm’s equity\n",
    "- $D$ = Market value of the firm’s debt\n",
    "- $V$ = $E + D$\n",
    "- $R_e$ = Cost of equity\n",
    "- $R_d$ = Cost of debt\n",
    "- $T_c$ = Corporate tax rate\n",
    "\n",
    "So far, we've calculated:\n",
    "- [X] E\n",
    "- [X] D\n",
    "- [ ] V\n",
    "- [X] $R_e$\n",
    "- [X] $R_d$\n",
    "- [ ] $T_c$\n",
    "\n",
    "To get $V$ we will just add $E$ and $D$, important to notice that $D$ was given in millions, we need to multiply it so we have the same units as we got in $E$. <br>\n",
    "To get $T_c$ we determine the effective tax rate using actual tax paid and EBT from the Income Statement"
   ]
  },
  {
   "cell_type": "code",
   "execution_count": 27,
   "metadata": {},
   "outputs": [],
   "source": [
    "debt_mv = debt_mv * 1000000"
   ]
  },
  {
   "cell_type": "code",
   "execution_count": 28,
   "metadata": {},
   "outputs": [
    {
     "data": {
      "text/plain": [
       "'The effective tax rate for WMT is 25.46%'"
      ]
     },
     "execution_count": 28,
     "metadata": {},
     "output_type": "execute_result"
    }
   ],
   "source": [
    "tax_paid = df_is[date]['Income Tax Expense']\n",
    "ebt = df_is[date]['Earnings before Tax']\n",
    "tax_rate = tax_paid / ebt\n",
    "f'The effective tax rate for {model_data.stock_ticker} is {tax_rate:.02%}'"
   ]
  },
  {
   "cell_type": "markdown",
   "metadata": {},
   "source": [
    "We can now apply the complete WACC formula to a function and calculate it"
   ]
  },
  {
   "cell_type": "code",
   "execution_count": 29,
   "metadata": {},
   "outputs": [
    {
     "name": "stdout",
     "output_type": "stream",
     "text": [
      "WACC value for WMT is 5.19%\n"
     ]
    }
   ],
   "source": [
    "def wacc_func(equity_mv, debt_mv, equity_cost, debt_cost, tax_rate):\n",
    "    company_mv = equity_mv + debt_mv\n",
    "    wacc = ((equity_mv/company_mv * equity_cost) + (debt_mv/company_mv * debt_cost * (1 - tax_rate)))\n",
    "    return wacc\n",
    "wacc = wacc_func(equity_mv, debt_mv, CoE, CoD, tax_rate)\n",
    "print(f'WACC value for {model_data.stock_ticker} is {wacc:.2%}')"
   ]
  },
  {
   "cell_type": "markdown",
   "metadata": {},
   "source": [
    "---"
   ]
  },
  {
   "cell_type": "markdown",
   "metadata": {},
   "source": [
    "## Monte Carlo Simulations"
   ]
  },
  {
   "cell_type": "markdown",
   "metadata": {},
   "source": [
    "We run a Monte Carlo Simulation to predict the probability of different outcomes (in this case the WACC) when the intervention of random variables is present."
   ]
  },
  {
   "cell_type": "code",
   "execution_count": 30,
   "metadata": {},
   "outputs": [],
   "source": [
    "def wacc_simulations(data: ModelInputs, sdata: SimulationInputs, beta, mkt_ret, tax_rate, equity_mv, debt_mv):\n",
    "    '''\n",
    "    Creates a monte carlo simulation for the wacc value. The mean for the simulated values will be\n",
    "    the already calculated value and their respective std will be the one given in the inputs\n",
    "    '''\n",
    "    beta_list = []\n",
    "    mkt_ret_list = []\n",
    "    bond_list = []\n",
    "    tax_list = []\n",
    "    wacc_list = []\n",
    "    \n",
    "    for i in range(sdata.num_iter):\n",
    "        # random beta values based on the original value and the input std\n",
    "        # then append them to a list\n",
    "        beta_std = sdata.beta_std\n",
    "        beta_mc = random.normalvariate(beta, beta_std)\n",
    "        beta_list.append(beta_mc)\n",
    "        \n",
    "        # random market return values based on the original value and the input std\n",
    "        # then append them to a list\n",
    "        mkt_ret_avg_std = sdata.mkt_ret_std\n",
    "        returns_mc = random.normalvariate(mkt_ret, mkt_ret_avg_std)\n",
    "        mkt_ret_list.append(returns_mc)\n",
    "\n",
    "        # capm model based on the simulated market return and beta\n",
    "        coe_mc = capm(data, returns_mc, beta_mc)\n",
    "        \n",
    "        # random bond price values based on the original value and the input std\n",
    "        # then append them to a list\n",
    "        rand_bond_price = random.normalvariate(data.bond_price, sdata.bond_price_std)\n",
    "        cod_mc = npf.rate(nper = data.bond_years,\n",
    "                         pmt = data.bond_coupon * data.bond_par,\n",
    "                         pv = -rand_bond_price,\n",
    "                         fv = data.bond_par)\n",
    "        bond_list.append(rand_bond_price)\n",
    "        \n",
    "        # random tax rate values based on the original value and the input std\n",
    "        # then append them to a list\n",
    "        tax_rate_std = sdata.tax_rate_std\n",
    "        tax_rate_mc = random.normalvariate(tax_rate, tax_rate_std)\n",
    "        tax_list.append(tax_rate_mc)\n",
    "        \n",
    "        # runs a wacc model based on the simulated data, then it appends\n",
    "        # the values to a list\n",
    "        wacc_mc = wacc_func(equity_mv, debt_mv, coe_mc, cod_mc, tax_rate_mc)\n",
    "        wacc_list.append(wacc_mc)\n",
    "        \n",
    "        # Create a DataFrame based on all the simulated values\n",
    "        wacc_df = pd.DataFrame(\n",
    "            {'Beta': beta_list,\n",
    "             'Market Return': mkt_ret_list,\n",
    "             'Bond Price': bond_list,\n",
    "             'Tax Rate': tax_list,\n",
    "             'WACC': wacc_list\n",
    "            })\n",
    "    return wacc_df\n",
    "\n",
    "wacc_df = wacc_simulations(model_data, sim_data, beta, mkt_ret_avg, tax_rate, equity_mv, debt_mv)"
   ]
  },
  {
   "cell_type": "markdown",
   "metadata": {},
   "source": [
    "After running the monte carlo model, we can take a look at some of the simulation values."
   ]
  },
  {
   "cell_type": "code",
   "execution_count": 31,
   "metadata": {},
   "outputs": [
    {
     "data": {
      "text/html": [
       "<div>\n",
       "<style scoped>\n",
       "    .dataframe tbody tr th:only-of-type {\n",
       "        vertical-align: middle;\n",
       "    }\n",
       "\n",
       "    .dataframe tbody tr th {\n",
       "        vertical-align: top;\n",
       "    }\n",
       "\n",
       "    .dataframe thead th {\n",
       "        text-align: right;\n",
       "    }\n",
       "</style>\n",
       "<table border=\"1\" class=\"dataframe\">\n",
       "  <thead>\n",
       "    <tr style=\"text-align: right;\">\n",
       "      <th></th>\n",
       "      <th>Beta</th>\n",
       "      <th>Market Return</th>\n",
       "      <th>Bond Price</th>\n",
       "      <th>Tax Rate</th>\n",
       "      <th>WACC</th>\n",
       "    </tr>\n",
       "  </thead>\n",
       "  <tbody>\n",
       "    <tr>\n",
       "      <th>0</th>\n",
       "      <td>0.335373</td>\n",
       "      <td>0.081761</td>\n",
       "      <td>151.527937</td>\n",
       "      <td>0.151832</td>\n",
       "      <td>0.027083</td>\n",
       "    </tr>\n",
       "    <tr>\n",
       "      <th>1</th>\n",
       "      <td>0.712225</td>\n",
       "      <td>0.124410</td>\n",
       "      <td>118.904959</td>\n",
       "      <td>0.269812</td>\n",
       "      <td>0.077598</td>\n",
       "    </tr>\n",
       "    <tr>\n",
       "      <th>2</th>\n",
       "      <td>0.640917</td>\n",
       "      <td>0.079819</td>\n",
       "      <td>175.535828</td>\n",
       "      <td>0.260077</td>\n",
       "      <td>0.042837</td>\n",
       "    </tr>\n",
       "    <tr>\n",
       "      <th>3</th>\n",
       "      <td>0.874931</td>\n",
       "      <td>0.108511</td>\n",
       "      <td>199.516045</td>\n",
       "      <td>0.415302</td>\n",
       "      <td>0.075872</td>\n",
       "    </tr>\n",
       "    <tr>\n",
       "      <th>4</th>\n",
       "      <td>0.141387</td>\n",
       "      <td>0.067778</td>\n",
       "      <td>155.164354</td>\n",
       "      <td>0.281583</td>\n",
       "      <td>0.012860</td>\n",
       "    </tr>\n",
       "  </tbody>\n",
       "</table>\n",
       "</div>"
      ],
      "text/plain": [
       "       Beta  Market Return  Bond Price  Tax Rate      WACC\n",
       "0  0.335373       0.081761  151.527937  0.151832  0.027083\n",
       "1  0.712225       0.124410  118.904959  0.269812  0.077598\n",
       "2  0.640917       0.079819  175.535828  0.260077  0.042837\n",
       "3  0.874931       0.108511  199.516045  0.415302  0.075872\n",
       "4  0.141387       0.067778  155.164354  0.281583  0.012860"
      ]
     },
     "metadata": {},
     "output_type": "display_data"
    },
    {
     "name": "stdout",
     "output_type": "stream",
     "text": [
      "Number of simulations run: 10,000\n"
     ]
    }
   ],
   "source": [
    "display(wacc_df.head())\n",
    "print(f'Number of simulations run: {len(wacc_df):,}')"
   ]
  },
  {
   "cell_type": "markdown",
   "metadata": {},
   "source": [
    "---"
   ]
  },
  {
   "cell_type": "markdown",
   "metadata": {},
   "source": [
    "## Outputs"
   ]
  },
  {
   "cell_type": "markdown",
   "metadata": {},
   "source": [
    "### Visualize\n",
    "The following functions will display a histogram for the WACC and the probabilities "
   ]
  },
  {
   "cell_type": "code",
   "execution_count": 32,
   "metadata": {},
   "outputs": [],
   "source": [
    "def visualize_results(df):\n",
    "    df.plot.hist(bins=100)\n",
    "    plt.show()\n",
    "\n",
    "def probability_table(df):\n",
    "    percentiles = [i/20 for i in range(1, 20)]\n",
    "    return df.quantile(percentiles)\n",
    "\n",
    "def model_outputs(df):\n",
    "    visualize_results(df)\n",
    "    prob_table = probability_table(df)\n",
    "    return prob_table\n",
    "\n",
    "def display_model_summary(df):\n",
    "    prob_table = model_outputs(df)\n",
    "    print('Probability Table')\n",
    "    print(prob_table.apply(lambda x: f'{x:.4%}'))"
   ]
  },
  {
   "cell_type": "code",
   "execution_count": 33,
   "metadata": {},
   "outputs": [
    {
     "data": {
      "image/png": "[encoded data removed]",
      "text/plain": [
       "<Figure size 432x288 with 1 Axes>"
      ]
     },
     "metadata": {
      "needs_background": "light"
     },
     "output_type": "display_data"
    },
    {
     "name": "stdout",
     "output_type": "stream",
     "text": [
      "Probability Table\n",
      "0.05    2.1192%\n",
      "0.10    2.6761%\n",
      "0.15    3.0563%\n",
      "0.20    3.3948%\n",
      "0.25    3.6769%\n",
      "0.30    3.9604%\n",
      "0.35    4.2192%\n",
      "0.40    4.4665%\n",
      "0.45    4.7297%\n",
      "0.50    4.9872%\n",
      "0.55    5.2476%\n",
      "0.60    5.5396%\n",
      "0.65    5.8494%\n",
      "0.70    6.1499%\n",
      "0.75    6.5174%\n",
      "0.80    6.9345%\n",
      "0.85    7.4591%\n",
      "0.90    8.0679%\n",
      "0.95    9.0730%\n",
      "Name: WACC, dtype: object\n"
     ]
    }
   ],
   "source": [
    "display_model_summary(wacc_df['WACC'])"
   ]
  },
  {
   "cell_type": "markdown",
   "metadata": {},
   "source": [
    "We can visualize the relationship of each variable with the WACC with a scatter plot"
   ]
  },
  {
   "cell_type": "code",
   "execution_count": 34,
   "metadata": {},
   "outputs": [
    {
     "data": {
      "image/png": "[encoded data removed]",
      "text/plain": [
       "<Figure size 432x288 with 1 Axes>"
      ]
     },
     "metadata": {
      "needs_background": "light"
     },
     "output_type": "display_data"
    },
    {
     "data": {
      "image/png": "[encoded data removed]",
      "text/plain": [
       "<Figure size 432x288 with 1 Axes>"
      ]
     },
     "metadata": {
      "needs_background": "light"
     },
     "output_type": "display_data"
    },
    {
     "data": {
      "image/png": "[encoded data removed]",
      "text/plain": [
       "<Figure size 432x288 with 1 Axes>"
      ]
     },
     "metadata": {
      "needs_background": "light"
     },
     "output_type": "display_data"
    },
    {
     "data": {
      "image/png": "[encoded data removed]",
      "text/plain": [
       "<Figure size 432x288 with 1 Axes>"
      ]
     },
     "metadata": {
      "needs_background": "light"
     },
     "output_type": "display_data"
    }
   ],
   "source": [
    "for col in ['Beta', 'Market Return', 'Bond Price', 'Tax Rate']:\n",
    "    wacc_df.plot.scatter(x=col, y='WACC')"
   ]
  },
  {
   "cell_type": "markdown",
   "metadata": {},
   "source": [
    "From the scatter plots we can infer that variables Beta and Market Return have a stronger impact on the WACC. <br>\n",
    "We can take run a multilinear regression model to have a better understanding of the variables."
   ]
  },
  {
   "cell_type": "code",
   "execution_count": 35,
   "metadata": {},
   "outputs": [
    {
     "data": {
      "text/html": [
       "<table class=\"simpletable\">\n",
       "<caption>OLS Regression Results</caption>\n",
       "<tr>\n",
       "  <th>Dep. Variable:</th>          <td>WACC</td>       <th>  R-squared:         </th>  <td>   0.947</td> \n",
       "</tr>\n",
       "<tr>\n",
       "  <th>Model:</th>                   <td>OLS</td>       <th>  Adj. R-squared:    </th>  <td>   0.947</td> \n",
       "</tr>\n",
       "<tr>\n",
       "  <th>Method:</th>             <td>Least Squares</td>  <th>  F-statistic:       </th>  <td>4.441e+04</td>\n",
       "</tr>\n",
       "<tr>\n",
       "  <th>Date:</th>             <td>Wed, 13 Jan 2021</td> <th>  Prob (F-statistic):</th>   <td>  0.00</td>  \n",
       "</tr>\n",
       "<tr>\n",
       "  <th>Time:</th>                 <td>14:54:24</td>     <th>  Log-Likelihood:    </th>  <td>  38955.</td> \n",
       "</tr>\n",
       "<tr>\n",
       "  <th>No. Observations:</th>      <td>  9998</td>      <th>  AIC:               </th> <td>-7.790e+04</td>\n",
       "</tr>\n",
       "<tr>\n",
       "  <th>Df Residuals:</th>          <td>  9993</td>      <th>  BIC:               </th> <td>-7.786e+04</td>\n",
       "</tr>\n",
       "<tr>\n",
       "  <th>Df Model:</th>              <td>     4</td>      <th>                     </th>      <td> </td>    \n",
       "</tr>\n",
       "<tr>\n",
       "  <th>Covariance Type:</th>      <td>nonrobust</td>    <th>                     </th>      <td> </td>    \n",
       "</tr>\n",
       "</table>\n",
       "<table class=\"simpletable\">\n",
       "<tr>\n",
       "        <td></td>           <th>coef</th>     <th>std err</th>      <th>t</th>      <th>P>|t|</th>  <th>[0.025</th>    <th>0.975]</th>  \n",
       "</tr>\n",
       "<tr>\n",
       "  <th>const</th>         <td>   -0.0213</td> <td>    0.000</td> <td>  -53.820</td> <td> 0.000</td> <td>   -0.022</td> <td>   -0.020</td>\n",
       "</tr>\n",
       "<tr>\n",
       "  <th>Beta</th>          <td>    0.0698</td> <td>    0.000</td> <td>  282.828</td> <td> 0.000</td> <td>    0.069</td> <td>    0.070</td>\n",
       "</tr>\n",
       "<tr>\n",
       "  <th>Market Return</th> <td>    0.4973</td> <td>    0.002</td> <td>  304.643</td> <td> 0.000</td> <td>    0.494</td> <td>    0.501</td>\n",
       "</tr>\n",
       "<tr>\n",
       "  <th>Bond Price</th>    <td>   -0.0001</td> <td> 1.64e-06</td> <td>  -68.514</td> <td> 0.000</td> <td>   -0.000</td> <td>   -0.000</td>\n",
       "</tr>\n",
       "<tr>\n",
       "  <th>Tax Rate</th>      <td>   -0.0048</td> <td>    0.001</td> <td>   -4.939</td> <td> 0.000</td> <td>   -0.007</td> <td>   -0.003</td>\n",
       "</tr>\n",
       "</table>\n",
       "<table class=\"simpletable\">\n",
       "<tr>\n",
       "  <th>Omnibus:</th>       <td>998.376</td> <th>  Durbin-Watson:     </th> <td>   2.061</td>\n",
       "</tr>\n",
       "<tr>\n",
       "  <th>Prob(Omnibus):</th> <td> 0.000</td>  <th>  Jarque-Bera (JB):  </th> <td>7907.412</td>\n",
       "</tr>\n",
       "<tr>\n",
       "  <th>Skew:</th>          <td> 0.083</td>  <th>  Prob(JB):          </th> <td>    0.00</td>\n",
       "</tr>\n",
       "<tr>\n",
       "  <th>Kurtosis:</th>      <td> 7.354</td>  <th>  Cond. No.          </th> <td>4.46e+03</td>\n",
       "</tr>\n",
       "</table><br/><br/>Notes:<br/>[1] Standard Errors assume that the covariance matrix of the errors is correctly specified.<br/>[2] The condition number is large, 4.46e+03. This might indicate that there are<br/>strong multicollinearity or other numerical problems."
      ],
      "text/plain": [
       "<class 'statsmodels.iolib.summary.Summary'>\n",
       "\"\"\"\n",
       "                            OLS Regression Results                            \n",
       "==============================================================================\n",
       "Dep. Variable:                   WACC   R-squared:                       0.947\n",
       "Model:                            OLS   Adj. R-squared:                  0.947\n",
       "Method:                 Least Squares   F-statistic:                 4.441e+04\n",
       "Date:                Wed, 13 Jan 2021   Prob (F-statistic):               0.00\n",
       "Time:                        14:54:24   Log-Likelihood:                 38955.\n",
       "No. Observations:                9998   AIC:                        -7.790e+04\n",
       "Df Residuals:                    9993   BIC:                        -7.786e+04\n",
       "Df Model:                           4                                         \n",
       "Covariance Type:            nonrobust                                         \n",
       "=================================================================================\n",
       "                    coef    std err          t      P>|t|      [0.025      0.975]\n",
       "---------------------------------------------------------------------------------\n",
       "const            -0.0213      0.000    -53.820      0.000      -0.022      -0.020\n",
       "Beta              0.0698      0.000    282.828      0.000       0.069       0.070\n",
       "Market Return     0.4973      0.002    304.643      0.000       0.494       0.501\n",
       "Bond Price       -0.0001   1.64e-06    -68.514      0.000      -0.000      -0.000\n",
       "Tax Rate         -0.0048      0.001     -4.939      0.000      -0.007      -0.003\n",
       "==============================================================================\n",
       "Omnibus:                      998.376   Durbin-Watson:                   2.061\n",
       "Prob(Omnibus):                  0.000   Jarque-Bera (JB):             7907.412\n",
       "Skew:                           0.083   Prob(JB):                         0.00\n",
       "Kurtosis:                       7.354   Cond. No.                     4.46e+03\n",
       "==============================================================================\n",
       "\n",
       "Notes:\n",
       "[1] Standard Errors assume that the covariance matrix of the errors is correctly specified.\n",
       "[2] The condition number is large, 4.46e+03. This might indicate that there are\n",
       "strong multicollinearity or other numerical problems.\n",
       "\"\"\""
      ]
     },
     "execution_count": 35,
     "metadata": {},
     "output_type": "execute_result"
    }
   ],
   "source": [
    "X = sm.add_constant(wacc_df[['Beta', 'Market Return', 'Bond Price', 'Tax Rate']])\n",
    "y = wacc_df['WACC']\n",
    "# After running the model several times, in some instances there is an NA value for WACC\n",
    "# which would affect the model, hence we add the missing='drop'\n",
    "model = sm.OLS(y, X, hasconst=True, missing='drop')\n",
    "result = model.fit()\n",
    "result.summary()"
   ]
  },
  {
   "cell_type": "markdown",
   "metadata": {},
   "source": [
    "We create a `DataFrame` to see if there were any missing values, the ideal scenario would be to see this df empty"
   ]
  },
  {
   "cell_type": "code",
   "execution_count": 36,
   "metadata": {},
   "outputs": [
    {
     "data": {
      "text/html": [
       "<div>\n",
       "<style scoped>\n",
       "    .dataframe tbody tr th:only-of-type {\n",
       "        vertical-align: middle;\n",
       "    }\n",
       "\n",
       "    .dataframe tbody tr th {\n",
       "        vertical-align: top;\n",
       "    }\n",
       "\n",
       "    .dataframe thead th {\n",
       "        text-align: right;\n",
       "    }\n",
       "</style>\n",
       "<table border=\"1\" class=\"dataframe\">\n",
       "  <thead>\n",
       "    <tr style=\"text-align: right;\">\n",
       "      <th></th>\n",
       "      <th>Beta</th>\n",
       "      <th>Market Return</th>\n",
       "      <th>Bond Price</th>\n",
       "      <th>Tax Rate</th>\n",
       "      <th>WACC</th>\n",
       "    </tr>\n",
       "  </thead>\n",
       "  <tbody>\n",
       "    <tr>\n",
       "      <th>2996</th>\n",
       "      <td>0.699875</td>\n",
       "      <td>0.087016</td>\n",
       "      <td>20.267027</td>\n",
       "      <td>0.263459</td>\n",
       "      <td>NaN</td>\n",
       "    </tr>\n",
       "    <tr>\n",
       "      <th>3494</th>\n",
       "      <td>0.555702</td>\n",
       "      <td>0.113593</td>\n",
       "      <td>21.132241</td>\n",
       "      <td>0.347609</td>\n",
       "      <td>NaN</td>\n",
       "    </tr>\n",
       "  </tbody>\n",
       "</table>\n",
       "</div>"
      ],
      "text/plain": [
       "          Beta  Market Return  Bond Price  Tax Rate  WACC\n",
       "2996  0.699875       0.087016   20.267027  0.263459   NaN\n",
       "3494  0.555702       0.113593   21.132241  0.347609   NaN"
      ]
     },
     "execution_count": 36,
     "metadata": {},
     "output_type": "execute_result"
    }
   ],
   "source": [
    "missing_values = wacc_df[wacc_df.isna().any(axis=1)]\n",
    "missing_values"
   ]
  },
  {
   "cell_type": "markdown",
   "metadata": {},
   "source": [
    "To see which variables has a greater contribution to the WACC we standardize the coefficients."
   ]
  },
  {
   "cell_type": "code",
   "execution_count": 37,
   "metadata": {},
   "outputs": [
    {
     "data": {
      "text/plain": [
       "Beta             0.013909\n",
       "Bond Price      -0.003374\n",
       "Market Return    0.014985\n",
       "Tax Rate        -0.000243\n",
       "WACC                  NaN\n",
       "const                 NaN\n",
       "dtype: float64"
      ]
     },
     "execution_count": 37,
     "metadata": {},
     "output_type": "execute_result"
    }
   ],
   "source": [
    "wacc_df.std() * result.params"
   ]
  },
  {
   "cell_type": "markdown",
   "metadata": {},
   "source": [
    "Now we have the standardize coefficients, which makes it more clear, we can confirm what we saw on the scatter plots. The variables that have a greater impact on the WACC are Beta and the Market Return. <br><br>\n",
    "All else constant and assuming we selected reasonable distribuitions:\n",
    "- Beta: One std increase will **increase** WACC by approximately 1.4%\n",
    "- Bond Price: One std increase will **decrease** WACC by approximately 0.34%\n",
    "- Market Return: One std increase will **decrease** WACC by approximately 1.5%\n",
    "- Tax Rate: One std increase will **increase** WACC by approximately 0.024%"
   ]
  },
  {
   "cell_type": "markdown",
   "metadata": {},
   "source": [
    "---"
   ]
  },
  {
   "cell_type": "markdown",
   "metadata": {},
   "source": [
    "[**Back to Top**](#Weighted-Average-Cost-of-Capital)"
   ]
  }
 ],
 "metadata": {
  "kernelspec": {
   "display_name": "Python 3",
   "language": "python",
   "name": "python3"
  },
  "language_info": {
   "codemirror_mode": {
    "name": "ipython",
    "version": 3
   },
   "file_extension": ".py",
   "mimetype": "text/x-python",
   "name": "python",
   "nbconvert_exporter": "python",
   "pygments_lexer": "ipython3",
   "version": "3.7.7"
  }
 },
 "nbformat": 4,
 "nbformat_minor": 4
}
