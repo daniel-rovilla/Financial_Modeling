{
 "cells": [
  {
   "cell_type": "markdown",
   "metadata": {},
   "source": [
    "# Finding Enterprise and Equity Value Given FCF and WACC"
   ]
  },
  {
   "cell_type": "markdown",
   "metadata": {},
   "source": [
    "## Description\n",
    "\n",
    "### Level 1\n",
    "You are the CFO for a startup developing artificial intelligence technologies. There will be an initial research phase before making any money. Google is watching your development and will purchase the company after it is profitable. <br>\n",
    "- For the first two years (years 0 and 1), the company loses \\\\$20 million. Then there is one breakeven year, after which the profit is $10 million for year 3. Finally in year 4, Google purchases the company for \\\\$70 million.\n",
    "- The WACC for the company is 15% and it has 1 million shares outstanding. The company has \\\\$5 million in debt and \\\\$1 million in cash.\n",
    "- What is the enterprise value of the stock at year 4 before Google acquires the company? What about the enterprise value today? What is the price of the stock today?\n",
    "\n",
    "### Level 2\n",
    "A pharmaceutical company developed a new drug and has 4 years to sell it before the patent expires. It forms a new company to manufacture and sell the drug. After 4 years, the company will be sold to someone that wants to continue manufacturing at the lower price. The company is just about to pay a dividend. <br>\n",
    "- The new company pays a dividend of \\\\$1 per share each year for years 0 to 3, before selling it for \\\\$30 million in year 4.\n",
    "- There are 10 million shares outstanding, \\\\$10 million of debt and \\\\$1 million of cash throughout the life of the company. The WACC is 10% today.\n",
    "- What is the enterprise value at year 4 and today? What is the price of the stock today?"
   ]
  },
  {
   "cell_type": "markdown",
   "metadata": {},
   "source": [
    "### Level 1 Solution"
   ]
  },
  {
   "cell_type": "code",
   "execution_count": 1,
   "metadata": {},
   "outputs": [],
   "source": [
    "import numpy_financial as npf"
   ]
  },
  {
   "cell_type": "markdown",
   "metadata": {},
   "source": [
    "#### Inputs"
   ]
  },
  {
   "cell_type": "code",
   "execution_count": 2,
   "metadata": {},
   "outputs": [],
   "source": [
    "cash_flows = [-20000000, -20000000, 0, 10000000, 70000000]\n",
    "wacc = 0.15\n",
    "shares_outstanding = 1000000\n",
    "debt = 5000000\n",
    "cash = 1000000"
   ]
  },
  {
   "cell_type": "markdown",
   "metadata": {},
   "source": [
    "What is the enterprise value of the stock at year 4 before Google acquires the company? <br>\n",
    "Since we are only concerned about future values: Before the company is bought, next cash flow will be \\\\$70m, so we can assume without a formula that the value will be the same \\\\$70m"
   ]
  },
  {
   "cell_type": "code",
   "execution_count": 3,
   "metadata": {},
   "outputs": [
    {
     "name": "stdout",
     "output_type": "stream",
     "text": [
      "The enterprise value at year 4 before being bought is $70,000,000\n"
     ]
    }
   ],
   "source": [
    "print(f'The enterprise value at year 4 before being bought is ${cash_flows[4]:,.0f}')"
   ]
  },
  {
   "cell_type": "markdown",
   "metadata": {},
   "source": [
    "What about the enterprise value today? <br>\n",
    "To do that, we simply calculate the NPV of the cash flows, since we already have a WACC value, we can get it fairly simple"
   ]
  },
  {
   "cell_type": "code",
   "execution_count": 4,
   "metadata": {},
   "outputs": [
    {
     "name": "stdout",
     "output_type": "stream",
     "text": [
      "Today, the company is worth $9,206,585\n"
     ]
    }
   ],
   "source": [
    "discounted_cash_flows = npf.npv(wacc, cash_flows)\n",
    "print(f'Today, the company is worth ${discounted_cash_flows:,.0f}')"
   ]
  },
  {
   "cell_type": "markdown",
   "metadata": {},
   "source": [
    "What is the price of the stock today? <br>\n",
    "We already got Enterprise Value, recalling the equation: $$\\text {Enterprise Value} = \\text{Equity Value} + \\text{Debt Value} - \\text{Cash}$$ <br>\n",
    "We can adjust it to get Equity Value:$$\\text {Enterprise Value} - \\text{Debt Value} + \\text{Cash} = \\text{Equity Value}$$\n",
    "\n",
    "After that, we just divide it by the number of Shares."
   ]
  },
  {
   "cell_type": "code",
   "execution_count": 5,
   "metadata": {},
   "outputs": [
    {
     "name": "stdout",
     "output_type": "stream",
     "text": [
      "Today, the price of the stock is $5.21\n"
     ]
    }
   ],
   "source": [
    "equity_value = discounted_cash_flows - debt + cash\n",
    "stock_price = equity_value / shares_outstanding\n",
    "print(f'Today, the price of the stock is ${stock_price:,.2f}')"
   ]
  },
  {
   "cell_type": "markdown",
   "metadata": {},
   "source": [
    "---"
   ]
  },
  {
   "cell_type": "markdown",
   "metadata": {},
   "source": [
    "### Level 2 Solution"
   ]
  },
  {
   "cell_type": "markdown",
   "metadata": {},
   "source": [
    "#### Inputs"
   ]
  },
  {
   "cell_type": "code",
   "execution_count": 11,
   "metadata": {},
   "outputs": [],
   "source": [
    "dividend_per_share = 1\n",
    "shares_outstanding = 10000000\n",
    "wacc = 0.1\n",
    "debt = 10000000\n",
    "cash = 1000000\n",
    "sell_price = 30000000"
   ]
  },
  {
   "cell_type": "markdown",
   "metadata": {},
   "source": [
    "What is the enterprise value of the stock at year 4 and today? <br>\n",
    "Again, since we are only concerned about future values: Before the company is sold, next cash flow will be \\\\$30m, so we can assume that the value at year 4 will be the same \\\\$30m <br><br>\n",
    "In order to get today's value, we could get the cash flows from equity. First years (0-3) will be equal to the dividend, the last one will be the sell price without considering debt"
   ]
  },
  {
   "cell_type": "code",
   "execution_count": 13,
   "metadata": {},
   "outputs": [
    {
     "data": {
      "text/plain": [
       "[10000000, 10000000, 10000000, 10000000, 20000000]"
      ]
     },
     "execution_count": 13,
     "metadata": {},
     "output_type": "execute_result"
    }
   ],
   "source": [
    "dividend_equity = dividend_per_share * shares_outstanding\n",
    "sell_price_to_equity = sell_price - debt\n",
    "cash_flows = [dividend_equity] * 4 + [sell_price_to_equity]\n",
    "cash_flows"
   ]
  },
  {
   "cell_type": "markdown",
   "metadata": {},
   "source": [
    "We get the PV of the cash flows which will be the Equity Value in this case. <br>\n",
    "Then we can follow the Enterprise Value formula again by adding the debt and substracting cash."
   ]
  },
  {
   "cell_type": "code",
   "execution_count": 17,
   "metadata": {},
   "outputs": [
    {
     "name": "stdout",
     "output_type": "stream",
     "text": [
      "Today, the Equity Value is $48,528,789, \n",
      "So the Enterprise Value is $57,528,789\n"
     ]
    }
   ],
   "source": [
    "equity_value = npf.npv(wacc, cash_flows)\n",
    "enterprise_value = equity_value + debt - cash\n",
    "print(f'Today, the Equity Value is ${equity_value:,.0f}, \\nSo the Enterprise Value is ${enterprise_value:,.0f}')"
   ]
  },
  {
   "cell_type": "markdown",
   "metadata": {},
   "source": [
    "What is the price of the stock today? <br>\n",
    "We already have the Equity Value, we simply divide it by the number of shares and we get today's Stock Price "
   ]
  },
  {
   "cell_type": "code",
   "execution_count": 18,
   "metadata": {},
   "outputs": [
    {
     "name": "stdout",
     "output_type": "stream",
     "text": [
      "Today, the stock price is $4.85\n"
     ]
    }
   ],
   "source": [
    "stock_price = equity_value / shares_outstanding\n",
    "print(f'Today, the stock price is ${stock_price:,.2f}')"
   ]
  }
 ],
 "metadata": {
  "kernelspec": {
   "display_name": "Python 3",
   "language": "python",
   "name": "python3"
  },
  "language_info": {
   "codemirror_mode": {
    "name": "ipython",
    "version": 3
   },
   "file_extension": ".py",
   "mimetype": "text/x-python",
   "name": "python",
   "nbconvert_exporter": "python",
   "pygments_lexer": "ipython3",
   "version": "3.7.7"
  }
 },
 "nbformat": 4,
 "nbformat_minor": 4
}
