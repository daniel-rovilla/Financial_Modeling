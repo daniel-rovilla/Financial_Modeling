{
 "cells": [
  {
   "cell_type": "markdown",
   "metadata": {},
   "source": [
    "# Monte Carlo Simulation of Dividend Discount Model\n",
    "\n",
    "## Description\n",
    "You are trying to determine the value of a mature company. The company has had stable dividend growth for a long time so you select the dividend discount model (DDM).\n",
    "$$P = \\frac{d_1}{r_s - g}$$\n",
    "\n",
    "### Level 1\n",
    "- The next dividend will be \\\\$1 and your baseline estimates of the cost of capital and growth are 9% and 4%, respectively\n",
    "- Write a function which is able to get the price based on values of the inputs\n",
    "- Then you are concerned about mis-estimation of the inputs and how it could affect the price. So then assume that the growth rate has a mean of 4% but a standard deviation of 1%\n",
    "- Visualize and summarize the resulting probability distribution of the price\n",
    "\n",
    "### Level 2\n",
    "Continue from the first exercise:\n",
    "- Now you are also concerned you have mis-estimated the cost of capital. So now use a mean of 9% and standard deviation of 2%, in addition to varying the growth\n",
    "- Visualize and summarize the resulting probability distribution of the price\n",
    "- Be careful as in some cases, the drawn cost of capital will be lower than the drawn growth rate, which breaks the DDM.\n",
    "    - You will need to modify your logic to throw out these cases."
   ]
  },
  {
   "cell_type": "markdown",
   "metadata": {},
   "source": [
    "## Setup"
   ]
  },
  {
   "cell_type": "code",
   "execution_count": 1,
   "metadata": {},
   "outputs": [],
   "source": [
    "from IPython.display import HTML, display\n",
    "import matplotlib.pyplot as plt\n",
    "%matplotlib inline\n",
    "import pandas as pd\n",
    "import random"
   ]
  },
  {
   "cell_type": "markdown",
   "metadata": {},
   "source": [
    "### Level 1"
   ]
  },
  {
   "cell_type": "code",
   "execution_count": 2,
   "metadata": {},
   "outputs": [
    {
     "data": {
      "text/plain": [
       "20.0"
      ]
     },
     "execution_count": 2,
     "metadata": {},
     "output_type": "execute_result"
    }
   ],
   "source": [
    "def price_ddm(dividend, cost_of_capital, growth):\n",
    "    '''\n",
    "    Function to determine the price of a company based on the dividend\n",
    "    discount model, according to the example, inputs are placed by default\n",
    "    '''\n",
    "    return dividend / (cost_of_capital - growth)\n",
    "price_ddm(1, 0.09, 0.04)"
   ]
  },
  {
   "cell_type": "code",
   "execution_count": 3,
   "metadata": {},
   "outputs": [],
   "source": [
    "dividend = 1\n",
    "cost_of_capital = 0.09\n",
    "growth_mean = 0.04\n",
    "growth_std = 0.01\n",
    "n_iter = 1000000\n",
    "def price_ddm_simulations(dividend, cost_of_capital, growth_mean, growth_std, n_iter):\n",
    "    outputs = []\n",
    "    for i in range(n_iter):\n",
    "        growth_prob = random.normalvariate(growth_mean, growth_std)\n",
    "        result = price_ddm(dividend, cost_of_capital, growth = growth_prob)\n",
    "        outputs.append((growth_prob,result))\n",
    "    return outputs"
   ]
  },
  {
   "cell_type": "code",
   "execution_count": 4,
   "metadata": {},
   "outputs": [
    {
     "name": "stdout",
     "output_type": "stream",
     "text": [
      "There are 1000000 results. First five:\n"
     ]
    },
    {
     "data": {
      "text/plain": [
       "[(0.02834173317814204, 16.218425387940005),\n",
       " (0.02165312930773638, 14.631247778739825),\n",
       " (0.02470899152650781, 15.316044634323497),\n",
       " (0.04975692370836847, 24.84899496135061),\n",
       " (0.034316912431884936, 17.958774264748467)]"
      ]
     },
     "execution_count": 4,
     "metadata": {},
     "output_type": "execute_result"
    }
   ],
   "source": [
    "l1_results = price_ddm_simulations(dividend, cost_of_capital, growth_mean, growth_std, n_iter)\n",
    "print(f'There are {len(l1_results)} results. First five:')\n",
    "l1_results[:5]"
   ]
  },
  {
   "cell_type": "markdown",
   "metadata": {},
   "source": [
    "### Visualize the Outputs\n",
    "\n",
    "Usually a first good way to analyze the outputs is to visualize them. Let's plot the results. A histogram or KDE plot is usually most appropriate for visualizing a single output. The KDE is basically a smoothed out histogram."
   ]
  },
  {
   "cell_type": "code",
   "execution_count": 5,
   "metadata": {},
   "outputs": [
    {
     "data": {
      "text/plain": [
       "<AxesSubplot:ylabel='Frequency'>"
      ]
     },
     "execution_count": 5,
     "metadata": {},
     "output_type": "execute_result"
    },
    {
     "data": {
      "image/png": "[encoded data removed]",
      "text/plain": [
       "<Figure size 432x288 with 1 Axes>"
      ]
     },
     "metadata": {
      "needs_background": "light"
     },
     "output_type": "display_data"
    }
   ],
   "source": [
    "df = pd.DataFrame(l1_results, columns = ['Growth', 'Price'])\n",
    "df['Price'].plot.hist(bins=100)"
   ]
  },
  {
   "cell_type": "code",
   "execution_count": 6,
   "metadata": {},
   "outputs": [
    {
     "data": {
      "text/plain": [
       "<AxesSubplot:ylabel='Density'>"
      ]
     },
     "execution_count": 6,
     "metadata": {},
     "output_type": "execute_result"
    },
    {
     "data": {
      "image/png": "[encoded data removed]",
      "text/plain": [
       "<Figure size 432x288 with 1 Axes>"
      ]
     },
     "metadata": {
      "needs_background": "light"
     },
     "output_type": "display_data"
    }
   ],
   "source": [
    "df['Price'].plot.kde()"
   ]
  },
  {
   "cell_type": "markdown",
   "metadata": {},
   "source": [
    "As we can see, the results look basically like a normal distribution. Which makes sense because we only have one input changing and it is following a normal distribution."
   ]
  },
  {
   "cell_type": "markdown",
   "metadata": {},
   "source": [
    "### Probability Table\n",
    "We would like to see two other kinds of outputs. One is a table of probabilities, along with the result which is achived at that probability in the distribution. E.g. at 5%, only 5% of cases are lower than the given value. At 75%, 75% of cases are lower than the given value. <br><br>\n",
    "First we'll get the percentiles we want to explore in the table."
   ]
  },
  {
   "cell_type": "code",
   "execution_count": 7,
   "metadata": {},
   "outputs": [
    {
     "data": {
      "text/plain": [
       "[0.05,\n",
       " 0.1,\n",
       " 0.15,\n",
       " 0.2,\n",
       " 0.25,\n",
       " 0.3,\n",
       " 0.35,\n",
       " 0.4,\n",
       " 0.45,\n",
       " 0.5,\n",
       " 0.55,\n",
       " 0.6,\n",
       " 0.65,\n",
       " 0.7,\n",
       " 0.75,\n",
       " 0.8,\n",
       " 0.85,\n",
       " 0.9,\n",
       " 0.95]"
      ]
     },
     "execution_count": 7,
     "metadata": {},
     "output_type": "execute_result"
    }
   ],
   "source": [
    "percentiles = [i/20 for i in range(1, 20)]\n",
    "percentiles"
   ]
  },
  {
   "cell_type": "markdown",
   "metadata": {},
   "source": [
    "Now we can use the `.quantile` method from `pandas` to get this table easily. <br>\n",
    "For a better look of the dataframe we can create a function which will style the DF"
   ]
  },
  {
   "cell_type": "code",
   "execution_count": 8,
   "metadata": {},
   "outputs": [
    {
     "data": {
      "text/html": [
       "<style  type=\"text/css\" >\n",
       "</style><table id=\"T_77c1ccaa_4b21_11eb_8e21_20c9d0b09aff\" ><thead>    <tr>        <th class=\"blank level0\" ></th>        <th class=\"col_heading level0 col0\" >Growth</th>        <th class=\"col_heading level0 col1\" >Price</th>    </tr></thead><tbody>\n",
       "                <tr>\n",
       "                        <th id=\"T_77c1ccaa_4b21_11eb_8e21_20c9d0b09afflevel0_row0\" class=\"row_heading level0 row0\" >0.05</th>\n",
       "                        <td id=\"T_77c1ccaa_4b21_11eb_8e21_20c9d0b09affrow0_col0\" class=\"data row0 col0\" >2.36%</td>\n",
       "                        <td id=\"T_77c1ccaa_4b21_11eb_8e21_20c9d0b09affrow0_col1\" class=\"data row0 col1\" >$15.05</td>\n",
       "            </tr>\n",
       "            <tr>\n",
       "                        <th id=\"T_77c1ccaa_4b21_11eb_8e21_20c9d0b09afflevel0_row1\" class=\"row_heading level0 row1\" >0.1</th>\n",
       "                        <td id=\"T_77c1ccaa_4b21_11eb_8e21_20c9d0b09affrow1_col0\" class=\"data row1 col0\" >2.72%</td>\n",
       "                        <td id=\"T_77c1ccaa_4b21_11eb_8e21_20c9d0b09affrow1_col1\" class=\"data row1 col1\" >$15.92</td>\n",
       "            </tr>\n",
       "            <tr>\n",
       "                        <th id=\"T_77c1ccaa_4b21_11eb_8e21_20c9d0b09afflevel0_row2\" class=\"row_heading level0 row2\" >0.15</th>\n",
       "                        <td id=\"T_77c1ccaa_4b21_11eb_8e21_20c9d0b09affrow2_col0\" class=\"data row2 col0\" >2.97%</td>\n",
       "                        <td id=\"T_77c1ccaa_4b21_11eb_8e21_20c9d0b09affrow2_col1\" class=\"data row2 col1\" >$16.57</td>\n",
       "            </tr>\n",
       "            <tr>\n",
       "                        <th id=\"T_77c1ccaa_4b21_11eb_8e21_20c9d0b09afflevel0_row3\" class=\"row_heading level0 row3\" >0.2</th>\n",
       "                        <td id=\"T_77c1ccaa_4b21_11eb_8e21_20c9d0b09affrow3_col0\" class=\"data row3 col0\" >3.16%</td>\n",
       "                        <td id=\"T_77c1ccaa_4b21_11eb_8e21_20c9d0b09affrow3_col1\" class=\"data row3 col1\" >$17.12</td>\n",
       "            </tr>\n",
       "            <tr>\n",
       "                        <th id=\"T_77c1ccaa_4b21_11eb_8e21_20c9d0b09afflevel0_row4\" class=\"row_heading level0 row4\" >0.25</th>\n",
       "                        <td id=\"T_77c1ccaa_4b21_11eb_8e21_20c9d0b09affrow4_col0\" class=\"data row4 col0\" >3.33%</td>\n",
       "                        <td id=\"T_77c1ccaa_4b21_11eb_8e21_20c9d0b09affrow4_col1\" class=\"data row4 col1\" >$17.63</td>\n",
       "            </tr>\n",
       "            <tr>\n",
       "                        <th id=\"T_77c1ccaa_4b21_11eb_8e21_20c9d0b09afflevel0_row5\" class=\"row_heading level0 row5\" >0.3</th>\n",
       "                        <td id=\"T_77c1ccaa_4b21_11eb_8e21_20c9d0b09affrow5_col0\" class=\"data row5 col0\" >3.48%</td>\n",
       "                        <td id=\"T_77c1ccaa_4b21_11eb_8e21_20c9d0b09affrow5_col1\" class=\"data row5 col1\" >$18.10</td>\n",
       "            </tr>\n",
       "            <tr>\n",
       "                        <th id=\"T_77c1ccaa_4b21_11eb_8e21_20c9d0b09afflevel0_row6\" class=\"row_heading level0 row6\" >0.35</th>\n",
       "                        <td id=\"T_77c1ccaa_4b21_11eb_8e21_20c9d0b09affrow6_col0\" class=\"data row6 col0\" >3.62%</td>\n",
       "                        <td id=\"T_77c1ccaa_4b21_11eb_8e21_20c9d0b09affrow6_col1\" class=\"data row6 col1\" >$18.57</td>\n",
       "            </tr>\n",
       "            <tr>\n",
       "                        <th id=\"T_77c1ccaa_4b21_11eb_8e21_20c9d0b09afflevel0_row7\" class=\"row_heading level0 row7\" >0.4</th>\n",
       "                        <td id=\"T_77c1ccaa_4b21_11eb_8e21_20c9d0b09affrow7_col0\" class=\"data row7 col0\" >3.75%</td>\n",
       "                        <td id=\"T_77c1ccaa_4b21_11eb_8e21_20c9d0b09affrow7_col1\" class=\"data row7 col1\" >$19.05</td>\n",
       "            </tr>\n",
       "            <tr>\n",
       "                        <th id=\"T_77c1ccaa_4b21_11eb_8e21_20c9d0b09afflevel0_row8\" class=\"row_heading level0 row8\" >0.45</th>\n",
       "                        <td id=\"T_77c1ccaa_4b21_11eb_8e21_20c9d0b09affrow8_col0\" class=\"data row8 col0\" >3.88%</td>\n",
       "                        <td id=\"T_77c1ccaa_4b21_11eb_8e21_20c9d0b09affrow8_col1\" class=\"data row8 col1\" >$19.52</td>\n",
       "            </tr>\n",
       "            <tr>\n",
       "                        <th id=\"T_77c1ccaa_4b21_11eb_8e21_20c9d0b09afflevel0_row9\" class=\"row_heading level0 row9\" >0.5</th>\n",
       "                        <td id=\"T_77c1ccaa_4b21_11eb_8e21_20c9d0b09affrow9_col0\" class=\"data row9 col0\" >4.00%</td>\n",
       "                        <td id=\"T_77c1ccaa_4b21_11eb_8e21_20c9d0b09affrow9_col1\" class=\"data row9 col1\" >$20.01</td>\n",
       "            </tr>\n",
       "            <tr>\n",
       "                        <th id=\"T_77c1ccaa_4b21_11eb_8e21_20c9d0b09afflevel0_row10\" class=\"row_heading level0 row10\" >0.55</th>\n",
       "                        <td id=\"T_77c1ccaa_4b21_11eb_8e21_20c9d0b09affrow10_col0\" class=\"data row10 col0\" >4.13%</td>\n",
       "                        <td id=\"T_77c1ccaa_4b21_11eb_8e21_20c9d0b09affrow10_col1\" class=\"data row10 col1\" >$20.53</td>\n",
       "            </tr>\n",
       "            <tr>\n",
       "                        <th id=\"T_77c1ccaa_4b21_11eb_8e21_20c9d0b09afflevel0_row11\" class=\"row_heading level0 row11\" >0.6</th>\n",
       "                        <td id=\"T_77c1ccaa_4b21_11eb_8e21_20c9d0b09affrow11_col0\" class=\"data row11 col0\" >4.26%</td>\n",
       "                        <td id=\"T_77c1ccaa_4b21_11eb_8e21_20c9d0b09affrow11_col1\" class=\"data row11 col1\" >$21.08</td>\n",
       "            </tr>\n",
       "            <tr>\n",
       "                        <th id=\"T_77c1ccaa_4b21_11eb_8e21_20c9d0b09afflevel0_row12\" class=\"row_heading level0 row12\" >0.65</th>\n",
       "                        <td id=\"T_77c1ccaa_4b21_11eb_8e21_20c9d0b09affrow12_col0\" class=\"data row12 col0\" >4.39%</td>\n",
       "                        <td id=\"T_77c1ccaa_4b21_11eb_8e21_20c9d0b09affrow12_col1\" class=\"data row12 col1\" >$21.69</td>\n",
       "            </tr>\n",
       "            <tr>\n",
       "                        <th id=\"T_77c1ccaa_4b21_11eb_8e21_20c9d0b09afflevel0_row13\" class=\"row_heading level0 row13\" >0.7</th>\n",
       "                        <td id=\"T_77c1ccaa_4b21_11eb_8e21_20c9d0b09affrow13_col0\" class=\"data row13 col0\" >4.53%</td>\n",
       "                        <td id=\"T_77c1ccaa_4b21_11eb_8e21_20c9d0b09affrow13_col1\" class=\"data row13 col1\" >$22.36</td>\n",
       "            </tr>\n",
       "            <tr>\n",
       "                        <th id=\"T_77c1ccaa_4b21_11eb_8e21_20c9d0b09afflevel0_row14\" class=\"row_heading level0 row14\" >0.75</th>\n",
       "                        <td id=\"T_77c1ccaa_4b21_11eb_8e21_20c9d0b09affrow14_col0\" class=\"data row14 col0\" >4.68%</td>\n",
       "                        <td id=\"T_77c1ccaa_4b21_11eb_8e21_20c9d0b09affrow14_col1\" class=\"data row14 col1\" >$23.13</td>\n",
       "            </tr>\n",
       "            <tr>\n",
       "                        <th id=\"T_77c1ccaa_4b21_11eb_8e21_20c9d0b09afflevel0_row15\" class=\"row_heading level0 row15\" >0.8</th>\n",
       "                        <td id=\"T_77c1ccaa_4b21_11eb_8e21_20c9d0b09affrow15_col0\" class=\"data row15 col0\" >4.84%</td>\n",
       "                        <td id=\"T_77c1ccaa_4b21_11eb_8e21_20c9d0b09affrow15_col1\" class=\"data row15 col1\" >$24.06</td>\n",
       "            </tr>\n",
       "            <tr>\n",
       "                        <th id=\"T_77c1ccaa_4b21_11eb_8e21_20c9d0b09afflevel0_row16\" class=\"row_heading level0 row16\" >0.85</th>\n",
       "                        <td id=\"T_77c1ccaa_4b21_11eb_8e21_20c9d0b09affrow16_col0\" class=\"data row16 col0\" >5.04%</td>\n",
       "                        <td id=\"T_77c1ccaa_4b21_11eb_8e21_20c9d0b09affrow16_col1\" class=\"data row16 col1\" >$25.25</td>\n",
       "            </tr>\n",
       "            <tr>\n",
       "                        <th id=\"T_77c1ccaa_4b21_11eb_8e21_20c9d0b09afflevel0_row17\" class=\"row_heading level0 row17\" >0.9</th>\n",
       "                        <td id=\"T_77c1ccaa_4b21_11eb_8e21_20c9d0b09affrow17_col0\" class=\"data row17 col0\" >5.29%</td>\n",
       "                        <td id=\"T_77c1ccaa_4b21_11eb_8e21_20c9d0b09affrow17_col1\" class=\"data row17 col1\" >$26.92</td>\n",
       "            </tr>\n",
       "            <tr>\n",
       "                        <th id=\"T_77c1ccaa_4b21_11eb_8e21_20c9d0b09afflevel0_row18\" class=\"row_heading level0 row18\" >0.95</th>\n",
       "                        <td id=\"T_77c1ccaa_4b21_11eb_8e21_20c9d0b09affrow18_col0\" class=\"data row18 col0\" >5.65%</td>\n",
       "                        <td id=\"T_77c1ccaa_4b21_11eb_8e21_20c9d0b09affrow18_col1\" class=\"data row18 col1\" >$29.81</td>\n",
       "            </tr>\n",
       "    </tbody></table>"
      ],
      "text/plain": [
       "<pandas.io.formats.style.Styler at 0x7feb53c18ad0>"
      ]
     },
     "execution_count": 8,
     "metadata": {},
     "output_type": "execute_result"
    }
   ],
   "source": [
    "def styled_df(df):\n",
    "    return df.style.format({\n",
    "        'Growth' : '{:.2%}',\n",
    "        'Price' : '${:,.2f}'\n",
    "    })\n",
    "styled_df(df.quantile(percentiles))"
   ]
  },
  {
   "cell_type": "markdown",
   "metadata": {},
   "source": [
    "### Level 2"
   ]
  },
  {
   "cell_type": "code",
   "execution_count": 9,
   "metadata": {},
   "outputs": [],
   "source": [
    "# We will now modify the previous function to include variation in the cost of capital\n",
    "dividend = 1\n",
    "cost_capital_mean = 0.09\n",
    "cost_capital_std = 0.02\n",
    "growth_mean = 0.04\n",
    "growth_std = 0.01\n",
    "n_iter = 1000000\n",
    "def price_ddm_simulations(dividend, cost_capital_mean, cost_capital_std, growth_mean, growth_std, n_iter):\n",
    "    outputs = []\n",
    "    for i in range(n_iter):\n",
    "        growth_prob = random.normalvariate(growth_mean, growth_std)\n",
    "        rate_prob = random.normalvariate(cost_capital_mean, cost_capital_std)\n",
    "        result = price_ddm(dividend, cost_of_capital=rate_prob, growth = growth_prob)\n",
    "        outputs.append((growth_prob, rate_prob, result))\n",
    "    return outputs"
   ]
  },
  {
   "cell_type": "code",
   "execution_count": 10,
   "metadata": {},
   "outputs": [
    {
     "data": {
      "text/html": [
       "<style  type=\"text/css\" >\n",
       "</style><table id=\"T_79f3b6aa_4b21_11eb_8e21_20c9d0b09aff\" ><thead>    <tr>        <th class=\"blank level0\" ></th>        <th class=\"col_heading level0 col0\" >Growth</th>        <th class=\"col_heading level0 col1\" >Cost of Capital</th>        <th class=\"col_heading level0 col2\" >Price</th>    </tr></thead><tbody>\n",
       "                <tr>\n",
       "                        <th id=\"T_79f3b6aa_4b21_11eb_8e21_20c9d0b09afflevel0_row0\" class=\"row_heading level0 row0\" >0.05</th>\n",
       "                        <td id=\"T_79f3b6aa_4b21_11eb_8e21_20c9d0b09affrow0_col0\" class=\"data row0 col0\" >2.35%</td>\n",
       "                        <td id=\"T_79f3b6aa_4b21_11eb_8e21_20c9d0b09affrow0_col1\" class=\"data row0 col1\" >5.71%</td>\n",
       "                        <td id=\"T_79f3b6aa_4b21_11eb_8e21_20c9d0b09affrow0_col2\" class=\"data row0 col2\" >$11.13</td>\n",
       "            </tr>\n",
       "            <tr>\n",
       "                        <th id=\"T_79f3b6aa_4b21_11eb_8e21_20c9d0b09afflevel0_row1\" class=\"row_heading level0 row1\" >0.1</th>\n",
       "                        <td id=\"T_79f3b6aa_4b21_11eb_8e21_20c9d0b09affrow1_col0\" class=\"data row1 col0\" >2.72%</td>\n",
       "                        <td id=\"T_79f3b6aa_4b21_11eb_8e21_20c9d0b09affrow1_col1\" class=\"data row1 col1\" >6.44%</td>\n",
       "                        <td id=\"T_79f3b6aa_4b21_11eb_8e21_20c9d0b09affrow1_col2\" class=\"data row1 col2\" >$12.44</td>\n",
       "            </tr>\n",
       "            <tr>\n",
       "                        <th id=\"T_79f3b6aa_4b21_11eb_8e21_20c9d0b09afflevel0_row2\" class=\"row_heading level0 row2\" >0.15</th>\n",
       "                        <td id=\"T_79f3b6aa_4b21_11eb_8e21_20c9d0b09affrow2_col0\" class=\"data row2 col0\" >2.96%</td>\n",
       "                        <td id=\"T_79f3b6aa_4b21_11eb_8e21_20c9d0b09affrow2_col1\" class=\"data row2 col1\" >6.93%</td>\n",
       "                        <td id=\"T_79f3b6aa_4b21_11eb_8e21_20c9d0b09affrow2_col2\" class=\"data row2 col2\" >$13.44</td>\n",
       "            </tr>\n",
       "            <tr>\n",
       "                        <th id=\"T_79f3b6aa_4b21_11eb_8e21_20c9d0b09afflevel0_row3\" class=\"row_heading level0 row3\" >0.2</th>\n",
       "                        <td id=\"T_79f3b6aa_4b21_11eb_8e21_20c9d0b09affrow3_col0\" class=\"data row3 col0\" >3.16%</td>\n",
       "                        <td id=\"T_79f3b6aa_4b21_11eb_8e21_20c9d0b09affrow3_col1\" class=\"data row3 col1\" >7.32%</td>\n",
       "                        <td id=\"T_79f3b6aa_4b21_11eb_8e21_20c9d0b09affrow3_col2\" class=\"data row3 col2\" >$14.32</td>\n",
       "            </tr>\n",
       "            <tr>\n",
       "                        <th id=\"T_79f3b6aa_4b21_11eb_8e21_20c9d0b09afflevel0_row4\" class=\"row_heading level0 row4\" >0.25</th>\n",
       "                        <td id=\"T_79f3b6aa_4b21_11eb_8e21_20c9d0b09affrow4_col0\" class=\"data row4 col0\" >3.32%</td>\n",
       "                        <td id=\"T_79f3b6aa_4b21_11eb_8e21_20c9d0b09affrow4_col1\" class=\"data row4 col1\" >7.65%</td>\n",
       "                        <td id=\"T_79f3b6aa_4b21_11eb_8e21_20c9d0b09affrow4_col2\" class=\"data row4 col2\" >$15.17</td>\n",
       "            </tr>\n",
       "            <tr>\n",
       "                        <th id=\"T_79f3b6aa_4b21_11eb_8e21_20c9d0b09afflevel0_row5\" class=\"row_heading level0 row5\" >0.3</th>\n",
       "                        <td id=\"T_79f3b6aa_4b21_11eb_8e21_20c9d0b09affrow5_col0\" class=\"data row5 col0\" >3.48%</td>\n",
       "                        <td id=\"T_79f3b6aa_4b21_11eb_8e21_20c9d0b09affrow5_col1\" class=\"data row5 col1\" >7.95%</td>\n",
       "                        <td id=\"T_79f3b6aa_4b21_11eb_8e21_20c9d0b09affrow5_col2\" class=\"data row5 col2\" >$16.00</td>\n",
       "            </tr>\n",
       "            <tr>\n",
       "                        <th id=\"T_79f3b6aa_4b21_11eb_8e21_20c9d0b09afflevel0_row6\" class=\"row_heading level0 row6\" >0.35</th>\n",
       "                        <td id=\"T_79f3b6aa_4b21_11eb_8e21_20c9d0b09affrow6_col0\" class=\"data row6 col0\" >3.61%</td>\n",
       "                        <td id=\"T_79f3b6aa_4b21_11eb_8e21_20c9d0b09affrow6_col1\" class=\"data row6 col1\" >8.23%</td>\n",
       "                        <td id=\"T_79f3b6aa_4b21_11eb_8e21_20c9d0b09affrow6_col2\" class=\"data row6 col2\" >$16.85</td>\n",
       "            </tr>\n",
       "            <tr>\n",
       "                        <th id=\"T_79f3b6aa_4b21_11eb_8e21_20c9d0b09afflevel0_row7\" class=\"row_heading level0 row7\" >0.4</th>\n",
       "                        <td id=\"T_79f3b6aa_4b21_11eb_8e21_20c9d0b09affrow7_col0\" class=\"data row7 col0\" >3.75%</td>\n",
       "                        <td id=\"T_79f3b6aa_4b21_11eb_8e21_20c9d0b09affrow7_col1\" class=\"data row7 col1\" >8.49%</td>\n",
       "                        <td id=\"T_79f3b6aa_4b21_11eb_8e21_20c9d0b09affrow7_col2\" class=\"data row7 col2\" >$17.74</td>\n",
       "            </tr>\n",
       "            <tr>\n",
       "                        <th id=\"T_79f3b6aa_4b21_11eb_8e21_20c9d0b09afflevel0_row8\" class=\"row_heading level0 row8\" >0.45</th>\n",
       "                        <td id=\"T_79f3b6aa_4b21_11eb_8e21_20c9d0b09affrow8_col0\" class=\"data row8 col0\" >3.87%</td>\n",
       "                        <td id=\"T_79f3b6aa_4b21_11eb_8e21_20c9d0b09affrow8_col1\" class=\"data row8 col1\" >8.75%</td>\n",
       "                        <td id=\"T_79f3b6aa_4b21_11eb_8e21_20c9d0b09affrow8_col2\" class=\"data row8 col2\" >$18.69</td>\n",
       "            </tr>\n",
       "            <tr>\n",
       "                        <th id=\"T_79f3b6aa_4b21_11eb_8e21_20c9d0b09afflevel0_row9\" class=\"row_heading level0 row9\" >0.5</th>\n",
       "                        <td id=\"T_79f3b6aa_4b21_11eb_8e21_20c9d0b09affrow9_col0\" class=\"data row9 col0\" >4.00%</td>\n",
       "                        <td id=\"T_79f3b6aa_4b21_11eb_8e21_20c9d0b09affrow9_col1\" class=\"data row9 col1\" >9.00%</td>\n",
       "                        <td id=\"T_79f3b6aa_4b21_11eb_8e21_20c9d0b09affrow9_col2\" class=\"data row9 col2\" >$19.72</td>\n",
       "            </tr>\n",
       "            <tr>\n",
       "                        <th id=\"T_79f3b6aa_4b21_11eb_8e21_20c9d0b09afflevel0_row10\" class=\"row_heading level0 row10\" >0.55</th>\n",
       "                        <td id=\"T_79f3b6aa_4b21_11eb_8e21_20c9d0b09affrow10_col0\" class=\"data row10 col0\" >4.12%</td>\n",
       "                        <td id=\"T_79f3b6aa_4b21_11eb_8e21_20c9d0b09affrow10_col1\" class=\"data row10 col1\" >9.25%</td>\n",
       "                        <td id=\"T_79f3b6aa_4b21_11eb_8e21_20c9d0b09affrow10_col2\" class=\"data row10 col2\" >$20.87</td>\n",
       "            </tr>\n",
       "            <tr>\n",
       "                        <th id=\"T_79f3b6aa_4b21_11eb_8e21_20c9d0b09afflevel0_row11\" class=\"row_heading level0 row11\" >0.6</th>\n",
       "                        <td id=\"T_79f3b6aa_4b21_11eb_8e21_20c9d0b09affrow11_col0\" class=\"data row11 col0\" >4.25%</td>\n",
       "                        <td id=\"T_79f3b6aa_4b21_11eb_8e21_20c9d0b09affrow11_col1\" class=\"data row11 col1\" >9.50%</td>\n",
       "                        <td id=\"T_79f3b6aa_4b21_11eb_8e21_20c9d0b09affrow11_col2\" class=\"data row11 col2\" >$22.18</td>\n",
       "            </tr>\n",
       "            <tr>\n",
       "                        <th id=\"T_79f3b6aa_4b21_11eb_8e21_20c9d0b09afflevel0_row12\" class=\"row_heading level0 row12\" >0.65</th>\n",
       "                        <td id=\"T_79f3b6aa_4b21_11eb_8e21_20c9d0b09affrow12_col0\" class=\"data row12 col0\" >4.38%</td>\n",
       "                        <td id=\"T_79f3b6aa_4b21_11eb_8e21_20c9d0b09affrow12_col1\" class=\"data row12 col1\" >9.77%</td>\n",
       "                        <td id=\"T_79f3b6aa_4b21_11eb_8e21_20c9d0b09affrow12_col2\" class=\"data row12 col2\" >$23.72</td>\n",
       "            </tr>\n",
       "            <tr>\n",
       "                        <th id=\"T_79f3b6aa_4b21_11eb_8e21_20c9d0b09afflevel0_row13\" class=\"row_heading level0 row13\" >0.7</th>\n",
       "                        <td id=\"T_79f3b6aa_4b21_11eb_8e21_20c9d0b09affrow13_col0\" class=\"data row13 col0\" >4.52%</td>\n",
       "                        <td id=\"T_79f3b6aa_4b21_11eb_8e21_20c9d0b09affrow13_col1\" class=\"data row13 col1\" >10.05%</td>\n",
       "                        <td id=\"T_79f3b6aa_4b21_11eb_8e21_20c9d0b09affrow13_col2\" class=\"data row13 col2\" >$25.57</td>\n",
       "            </tr>\n",
       "            <tr>\n",
       "                        <th id=\"T_79f3b6aa_4b21_11eb_8e21_20c9d0b09afflevel0_row14\" class=\"row_heading level0 row14\" >0.75</th>\n",
       "                        <td id=\"T_79f3b6aa_4b21_11eb_8e21_20c9d0b09affrow14_col0\" class=\"data row14 col0\" >4.67%</td>\n",
       "                        <td id=\"T_79f3b6aa_4b21_11eb_8e21_20c9d0b09affrow14_col1\" class=\"data row14 col1\" >10.35%</td>\n",
       "                        <td id=\"T_79f3b6aa_4b21_11eb_8e21_20c9d0b09affrow14_col2\" class=\"data row14 col2\" >$27.91</td>\n",
       "            </tr>\n",
       "            <tr>\n",
       "                        <th id=\"T_79f3b6aa_4b21_11eb_8e21_20c9d0b09afflevel0_row15\" class=\"row_heading level0 row15\" >0.8</th>\n",
       "                        <td id=\"T_79f3b6aa_4b21_11eb_8e21_20c9d0b09affrow15_col0\" class=\"data row15 col0\" >4.84%</td>\n",
       "                        <td id=\"T_79f3b6aa_4b21_11eb_8e21_20c9d0b09affrow15_col1\" class=\"data row15 col1\" >10.68%</td>\n",
       "                        <td id=\"T_79f3b6aa_4b21_11eb_8e21_20c9d0b09affrow15_col2\" class=\"data row15 col2\" >$31.06</td>\n",
       "            </tr>\n",
       "            <tr>\n",
       "                        <th id=\"T_79f3b6aa_4b21_11eb_8e21_20c9d0b09afflevel0_row16\" class=\"row_heading level0 row16\" >0.85</th>\n",
       "                        <td id=\"T_79f3b6aa_4b21_11eb_8e21_20c9d0b09affrow16_col0\" class=\"data row16 col0\" >5.04%</td>\n",
       "                        <td id=\"T_79f3b6aa_4b21_11eb_8e21_20c9d0b09affrow16_col1\" class=\"data row16 col1\" >11.07%</td>\n",
       "                        <td id=\"T_79f3b6aa_4b21_11eb_8e21_20c9d0b09affrow16_col2\" class=\"data row16 col2\" >$35.66</td>\n",
       "            </tr>\n",
       "            <tr>\n",
       "                        <th id=\"T_79f3b6aa_4b21_11eb_8e21_20c9d0b09afflevel0_row17\" class=\"row_heading level0 row17\" >0.9</th>\n",
       "                        <td id=\"T_79f3b6aa_4b21_11eb_8e21_20c9d0b09affrow17_col0\" class=\"data row17 col0\" >5.28%</td>\n",
       "                        <td id=\"T_79f3b6aa_4b21_11eb_8e21_20c9d0b09affrow17_col1\" class=\"data row17 col1\" >11.56%</td>\n",
       "                        <td id=\"T_79f3b6aa_4b21_11eb_8e21_20c9d0b09affrow17_col2\" class=\"data row17 col2\" >$43.61</td>\n",
       "            </tr>\n",
       "            <tr>\n",
       "                        <th id=\"T_79f3b6aa_4b21_11eb_8e21_20c9d0b09afflevel0_row18\" class=\"row_heading level0 row18\" >0.95</th>\n",
       "                        <td id=\"T_79f3b6aa_4b21_11eb_8e21_20c9d0b09affrow18_col0\" class=\"data row18 col0\" >5.64%</td>\n",
       "                        <td id=\"T_79f3b6aa_4b21_11eb_8e21_20c9d0b09affrow18_col1\" class=\"data row18 col1\" >12.29%</td>\n",
       "                        <td id=\"T_79f3b6aa_4b21_11eb_8e21_20c9d0b09affrow18_col2\" class=\"data row18 col2\" >$63.40</td>\n",
       "            </tr>\n",
       "    </tbody></table>"
      ],
      "text/plain": [
       "<pandas.io.formats.style.Styler at 0x7feb549188d0>"
      ]
     },
     "execution_count": 10,
     "metadata": {},
     "output_type": "execute_result"
    }
   ],
   "source": [
    "l2_results = price_ddm_simulations(dividend, cost_capital_mean, cost_capital_std, growth_mean, growth_std, n_iter)\n",
    "df_2 = pd.DataFrame(l2_results, columns = ['Growth', 'Cost of Capital', 'Price'])\n",
    "def styled_df(df):\n",
    "    return df.style.format({\n",
    "        'Growth' : '{:.2%}',\n",
    "        'Price' : '${:,.2f}',\n",
    "        'Cost of Capital' : '{:.2%}'\n",
    "    })\n",
    "styled_df(df_2.quantile(percentiles))"
   ]
  },
  {
   "cell_type": "code",
   "execution_count": 11,
   "metadata": {},
   "outputs": [
    {
     "data": {
      "text/plain": [
       "<AxesSubplot:ylabel='Frequency'>"
      ]
     },
     "execution_count": 11,
     "metadata": {},
     "output_type": "execute_result"
    },
    {
     "data": {
      "image/png": "[encoded data removed]",
      "text/plain": [
       "<Figure size 432x288 with 1 Axes>"
      ]
     },
     "metadata": {
      "needs_background": "light"
     },
     "output_type": "display_data"
    }
   ],
   "source": [
    "df_2['Price'].plot.hist(bins=100)"
   ]
  },
  {
   "cell_type": "markdown",
   "metadata": {},
   "source": [
    "We notice that some price values are negative when adding variation to the cost of capital, this is due to growth rate being greater than the cost of capital which will \"break\" the DDM model and show negative prices. <br><br>\n",
    "We can look where did that happen in the next line of code:"
   ]
  },
  {
   "cell_type": "code",
   "execution_count": 12,
   "metadata": {},
   "outputs": [
    {
     "data": {
      "text/html": [
       "<div>\n",
       "<style scoped>\n",
       "    .dataframe tbody tr th:only-of-type {\n",
       "        vertical-align: middle;\n",
       "    }\n",
       "\n",
       "    .dataframe tbody tr th {\n",
       "        vertical-align: top;\n",
       "    }\n",
       "\n",
       "    .dataframe thead th {\n",
       "        text-align: right;\n",
       "    }\n",
       "</style>\n",
       "<table border=\"1\" class=\"dataframe\">\n",
       "  <thead>\n",
       "    <tr style=\"text-align: right;\">\n",
       "      <th></th>\n",
       "      <th>Growth</th>\n",
       "      <th>Cost of Capital</th>\n",
       "      <th>Price</th>\n",
       "    </tr>\n",
       "  </thead>\n",
       "  <tbody>\n",
       "    <tr>\n",
       "      <th>1</th>\n",
       "      <td>0.039711</td>\n",
       "      <td>0.033672</td>\n",
       "      <td>-165.574530</td>\n",
       "    </tr>\n",
       "    <tr>\n",
       "      <th>26</th>\n",
       "      <td>0.036851</td>\n",
       "      <td>0.023396</td>\n",
       "      <td>-74.323878</td>\n",
       "    </tr>\n",
       "    <tr>\n",
       "      <th>36</th>\n",
       "      <td>0.056732</td>\n",
       "      <td>0.056403</td>\n",
       "      <td>-3042.026987</td>\n",
       "    </tr>\n",
       "    <tr>\n",
       "      <th>69</th>\n",
       "      <td>0.051813</td>\n",
       "      <td>0.048511</td>\n",
       "      <td>-302.837416</td>\n",
       "    </tr>\n",
       "    <tr>\n",
       "      <th>94</th>\n",
       "      <td>0.049036</td>\n",
       "      <td>0.047126</td>\n",
       "      <td>-523.677982</td>\n",
       "    </tr>\n",
       "    <tr>\n",
       "      <th>...</th>\n",
       "      <td>...</td>\n",
       "      <td>...</td>\n",
       "      <td>...</td>\n",
       "    </tr>\n",
       "    <tr>\n",
       "      <th>999220</th>\n",
       "      <td>0.054318</td>\n",
       "      <td>0.051441</td>\n",
       "      <td>-347.556623</td>\n",
       "    </tr>\n",
       "    <tr>\n",
       "      <th>999357</th>\n",
       "      <td>0.037288</td>\n",
       "      <td>0.033522</td>\n",
       "      <td>-265.536667</td>\n",
       "    </tr>\n",
       "    <tr>\n",
       "      <th>999413</th>\n",
       "      <td>0.059273</td>\n",
       "      <td>0.047240</td>\n",
       "      <td>-83.108375</td>\n",
       "    </tr>\n",
       "    <tr>\n",
       "      <th>999492</th>\n",
       "      <td>0.052495</td>\n",
       "      <td>0.050413</td>\n",
       "      <td>-480.328603</td>\n",
       "    </tr>\n",
       "    <tr>\n",
       "      <th>999836</th>\n",
       "      <td>0.038769</td>\n",
       "      <td>0.038550</td>\n",
       "      <td>-4570.777677</td>\n",
       "    </tr>\n",
       "  </tbody>\n",
       "</table>\n",
       "<p>12710 rows × 3 columns</p>\n",
       "</div>"
      ],
      "text/plain": [
       "          Growth  Cost of Capital        Price\n",
       "1       0.039711         0.033672  -165.574530\n",
       "26      0.036851         0.023396   -74.323878\n",
       "36      0.056732         0.056403 -3042.026987\n",
       "69      0.051813         0.048511  -302.837416\n",
       "94      0.049036         0.047126  -523.677982\n",
       "...          ...              ...          ...\n",
       "999220  0.054318         0.051441  -347.556623\n",
       "999357  0.037288         0.033522  -265.536667\n",
       "999413  0.059273         0.047240   -83.108375\n",
       "999492  0.052495         0.050413  -480.328603\n",
       "999836  0.038769         0.038550 -4570.777677\n",
       "\n",
       "[12710 rows x 3 columns]"
      ]
     },
     "execution_count": 12,
     "metadata": {},
     "output_type": "execute_result"
    }
   ],
   "source": [
    "df_2[df_2['Growth'] > df_2['Cost of Capital']]"
   ]
  },
  {
   "cell_type": "code",
   "execution_count": 13,
   "metadata": {},
   "outputs": [],
   "source": [
    "# We will now modify the previous function to get positive values\n",
    "def price_ddm_simulations(dividend, cost_capital_mean, cost_capital_std, growth_mean, growth_std, n_iter):\n",
    "    outputs = []\n",
    "    for i in range(n_iter):\n",
    "        growth_prob = random.normalvariate(growth_mean, growth_std)\n",
    "        rate_prob = random.normalvariate(cost_capital_mean, cost_capital_std)\n",
    "        if growth_prob > rate_prob:\n",
    "            continue\n",
    "        result = price_ddm(dividend, cost_of_capital=rate_prob, growth = growth_prob)\n",
    "        outputs.append((growth_prob, rate_prob, result))\n",
    "    return outputs"
   ]
  },
  {
   "cell_type": "code",
   "execution_count": 14,
   "metadata": {},
   "outputs": [
    {
     "data": {
      "text/html": [
       "<style  type=\"text/css\" >\n",
       "</style><table id=\"T_7ca31648_4b21_11eb_8e21_20c9d0b09aff\" ><thead>    <tr>        <th class=\"blank level0\" ></th>        <th class=\"col_heading level0 col0\" >Growth</th>        <th class=\"col_heading level0 col1\" >Cost of Capital</th>        <th class=\"col_heading level0 col2\" >Price</th>    </tr></thead><tbody>\n",
       "                <tr>\n",
       "                        <th id=\"T_7ca31648_4b21_11eb_8e21_20c9d0b09afflevel0_row0\" class=\"row_heading level0 row0\" >0.05</th>\n",
       "                        <td id=\"T_7ca31648_4b21_11eb_8e21_20c9d0b09affrow0_col0\" class=\"data row0 col0\" >2.35%</td>\n",
       "                        <td id=\"T_7ca31648_4b21_11eb_8e21_20c9d0b09affrow0_col1\" class=\"data row0 col1\" >5.91%</td>\n",
       "                        <td id=\"T_7ca31648_4b21_11eb_8e21_20c9d0b09affrow0_col2\" class=\"data row0 col2\" >$11.49</td>\n",
       "            </tr>\n",
       "            <tr>\n",
       "                        <th id=\"T_7ca31648_4b21_11eb_8e21_20c9d0b09afflevel0_row1\" class=\"row_heading level0 row1\" >0.1</th>\n",
       "                        <td id=\"T_7ca31648_4b21_11eb_8e21_20c9d0b09affrow1_col0\" class=\"data row1 col0\" >2.71%</td>\n",
       "                        <td id=\"T_7ca31648_4b21_11eb_8e21_20c9d0b09affrow1_col1\" class=\"data row1 col1\" >6.56%</td>\n",
       "                        <td id=\"T_7ca31648_4b21_11eb_8e21_20c9d0b09affrow1_col2\" class=\"data row1 col2\" >$12.68</td>\n",
       "            </tr>\n",
       "            <tr>\n",
       "                        <th id=\"T_7ca31648_4b21_11eb_8e21_20c9d0b09afflevel0_row2\" class=\"row_heading level0 row2\" >0.15</th>\n",
       "                        <td id=\"T_7ca31648_4b21_11eb_8e21_20c9d0b09affrow2_col0\" class=\"data row2 col0\" >2.96%</td>\n",
       "                        <td id=\"T_7ca31648_4b21_11eb_8e21_20c9d0b09affrow2_col1\" class=\"data row2 col1\" >7.02%</td>\n",
       "                        <td id=\"T_7ca31648_4b21_11eb_8e21_20c9d0b09affrow2_col2\" class=\"data row2 col2\" >$13.63</td>\n",
       "            </tr>\n",
       "            <tr>\n",
       "                        <th id=\"T_7ca31648_4b21_11eb_8e21_20c9d0b09afflevel0_row3\" class=\"row_heading level0 row3\" >0.2</th>\n",
       "                        <td id=\"T_7ca31648_4b21_11eb_8e21_20c9d0b09affrow3_col0\" class=\"data row3 col0\" >3.15%</td>\n",
       "                        <td id=\"T_7ca31648_4b21_11eb_8e21_20c9d0b09affrow3_col1\" class=\"data row3 col1\" >7.39%</td>\n",
       "                        <td id=\"T_7ca31648_4b21_11eb_8e21_20c9d0b09affrow3_col2\" class=\"data row3 col2\" >$14.48</td>\n",
       "            </tr>\n",
       "            <tr>\n",
       "                        <th id=\"T_7ca31648_4b21_11eb_8e21_20c9d0b09afflevel0_row4\" class=\"row_heading level0 row4\" >0.25</th>\n",
       "                        <td id=\"T_7ca31648_4b21_11eb_8e21_20c9d0b09affrow4_col0\" class=\"data row4 col0\" >3.32%</td>\n",
       "                        <td id=\"T_7ca31648_4b21_11eb_8e21_20c9d0b09affrow4_col1\" class=\"data row4 col1\" >7.71%</td>\n",
       "                        <td id=\"T_7ca31648_4b21_11eb_8e21_20c9d0b09affrow4_col2\" class=\"data row4 col2\" >$15.30</td>\n",
       "            </tr>\n",
       "            <tr>\n",
       "                        <th id=\"T_7ca31648_4b21_11eb_8e21_20c9d0b09afflevel0_row5\" class=\"row_heading level0 row5\" >0.3</th>\n",
       "                        <td id=\"T_7ca31648_4b21_11eb_8e21_20c9d0b09affrow5_col0\" class=\"data row5 col0\" >3.47%</td>\n",
       "                        <td id=\"T_7ca31648_4b21_11eb_8e21_20c9d0b09affrow5_col1\" class=\"data row5 col1\" >8.01%</td>\n",
       "                        <td id=\"T_7ca31648_4b21_11eb_8e21_20c9d0b09affrow5_col2\" class=\"data row5 col2\" >$16.12</td>\n",
       "            </tr>\n",
       "            <tr>\n",
       "                        <th id=\"T_7ca31648_4b21_11eb_8e21_20c9d0b09afflevel0_row6\" class=\"row_heading level0 row6\" >0.35</th>\n",
       "                        <td id=\"T_7ca31648_4b21_11eb_8e21_20c9d0b09affrow6_col0\" class=\"data row6 col0\" >3.60%</td>\n",
       "                        <td id=\"T_7ca31648_4b21_11eb_8e21_20c9d0b09affrow6_col1\" class=\"data row6 col1\" >8.28%</td>\n",
       "                        <td id=\"T_7ca31648_4b21_11eb_8e21_20c9d0b09affrow6_col2\" class=\"data row6 col2\" >$16.97</td>\n",
       "            </tr>\n",
       "            <tr>\n",
       "                        <th id=\"T_7ca31648_4b21_11eb_8e21_20c9d0b09afflevel0_row7\" class=\"row_heading level0 row7\" >0.4</th>\n",
       "                        <td id=\"T_7ca31648_4b21_11eb_8e21_20c9d0b09affrow7_col0\" class=\"data row7 col0\" >3.74%</td>\n",
       "                        <td id=\"T_7ca31648_4b21_11eb_8e21_20c9d0b09affrow7_col1\" class=\"data row7 col1\" >8.53%</td>\n",
       "                        <td id=\"T_7ca31648_4b21_11eb_8e21_20c9d0b09affrow7_col2\" class=\"data row7 col2\" >$17.86</td>\n",
       "            </tr>\n",
       "            <tr>\n",
       "                        <th id=\"T_7ca31648_4b21_11eb_8e21_20c9d0b09afflevel0_row8\" class=\"row_heading level0 row8\" >0.45</th>\n",
       "                        <td id=\"T_7ca31648_4b21_11eb_8e21_20c9d0b09affrow8_col0\" class=\"data row8 col0\" >3.86%</td>\n",
       "                        <td id=\"T_7ca31648_4b21_11eb_8e21_20c9d0b09affrow8_col1\" class=\"data row8 col1\" >8.78%</td>\n",
       "                        <td id=\"T_7ca31648_4b21_11eb_8e21_20c9d0b09affrow8_col2\" class=\"data row8 col2\" >$18.81</td>\n",
       "            </tr>\n",
       "            <tr>\n",
       "                        <th id=\"T_7ca31648_4b21_11eb_8e21_20c9d0b09afflevel0_row9\" class=\"row_heading level0 row9\" >0.5</th>\n",
       "                        <td id=\"T_7ca31648_4b21_11eb_8e21_20c9d0b09affrow9_col0\" class=\"data row9 col0\" >3.99%</td>\n",
       "                        <td id=\"T_7ca31648_4b21_11eb_8e21_20c9d0b09affrow9_col1\" class=\"data row9 col1\" >9.03%</td>\n",
       "                        <td id=\"T_7ca31648_4b21_11eb_8e21_20c9d0b09affrow9_col2\" class=\"data row9 col2\" >$19.85</td>\n",
       "            </tr>\n",
       "            <tr>\n",
       "                        <th id=\"T_7ca31648_4b21_11eb_8e21_20c9d0b09afflevel0_row10\" class=\"row_heading level0 row10\" >0.55</th>\n",
       "                        <td id=\"T_7ca31648_4b21_11eb_8e21_20c9d0b09affrow10_col0\" class=\"data row10 col0\" >4.11%</td>\n",
       "                        <td id=\"T_7ca31648_4b21_11eb_8e21_20c9d0b09affrow10_col1\" class=\"data row10 col1\" >9.28%</td>\n",
       "                        <td id=\"T_7ca31648_4b21_11eb_8e21_20c9d0b09affrow10_col2\" class=\"data row10 col2\" >$21.00</td>\n",
       "            </tr>\n",
       "            <tr>\n",
       "                        <th id=\"T_7ca31648_4b21_11eb_8e21_20c9d0b09afflevel0_row11\" class=\"row_heading level0 row11\" >0.6</th>\n",
       "                        <td id=\"T_7ca31648_4b21_11eb_8e21_20c9d0b09affrow11_col0\" class=\"data row11 col0\" >4.24%</td>\n",
       "                        <td id=\"T_7ca31648_4b21_11eb_8e21_20c9d0b09affrow11_col1\" class=\"data row11 col1\" >9.53%</td>\n",
       "                        <td id=\"T_7ca31648_4b21_11eb_8e21_20c9d0b09affrow11_col2\" class=\"data row11 col2\" >$22.32</td>\n",
       "            </tr>\n",
       "            <tr>\n",
       "                        <th id=\"T_7ca31648_4b21_11eb_8e21_20c9d0b09afflevel0_row12\" class=\"row_heading level0 row12\" >0.65</th>\n",
       "                        <td id=\"T_7ca31648_4b21_11eb_8e21_20c9d0b09affrow12_col0\" class=\"data row12 col0\" >4.37%</td>\n",
       "                        <td id=\"T_7ca31648_4b21_11eb_8e21_20c9d0b09affrow12_col1\" class=\"data row12 col1\" >9.80%</td>\n",
       "                        <td id=\"T_7ca31648_4b21_11eb_8e21_20c9d0b09affrow12_col2\" class=\"data row12 col2\" >$23.87</td>\n",
       "            </tr>\n",
       "            <tr>\n",
       "                        <th id=\"T_7ca31648_4b21_11eb_8e21_20c9d0b09afflevel0_row13\" class=\"row_heading level0 row13\" >0.7</th>\n",
       "                        <td id=\"T_7ca31648_4b21_11eb_8e21_20c9d0b09affrow13_col0\" class=\"data row13 col0\" >4.51%</td>\n",
       "                        <td id=\"T_7ca31648_4b21_11eb_8e21_20c9d0b09affrow13_col1\" class=\"data row13 col1\" >10.07%</td>\n",
       "                        <td id=\"T_7ca31648_4b21_11eb_8e21_20c9d0b09affrow13_col2\" class=\"data row13 col2\" >$25.74</td>\n",
       "            </tr>\n",
       "            <tr>\n",
       "                        <th id=\"T_7ca31648_4b21_11eb_8e21_20c9d0b09afflevel0_row14\" class=\"row_heading level0 row14\" >0.75</th>\n",
       "                        <td id=\"T_7ca31648_4b21_11eb_8e21_20c9d0b09affrow14_col0\" class=\"data row14 col0\" >4.65%</td>\n",
       "                        <td id=\"T_7ca31648_4b21_11eb_8e21_20c9d0b09affrow14_col1\" class=\"data row14 col1\" >10.37%</td>\n",
       "                        <td id=\"T_7ca31648_4b21_11eb_8e21_20c9d0b09affrow14_col2\" class=\"data row14 col2\" >$28.09</td>\n",
       "            </tr>\n",
       "            <tr>\n",
       "                        <th id=\"T_7ca31648_4b21_11eb_8e21_20c9d0b09afflevel0_row15\" class=\"row_heading level0 row15\" >0.8</th>\n",
       "                        <td id=\"T_7ca31648_4b21_11eb_8e21_20c9d0b09affrow15_col0\" class=\"data row15 col0\" >4.82%</td>\n",
       "                        <td id=\"T_7ca31648_4b21_11eb_8e21_20c9d0b09affrow15_col1\" class=\"data row15 col1\" >10.70%</td>\n",
       "                        <td id=\"T_7ca31648_4b21_11eb_8e21_20c9d0b09affrow15_col2\" class=\"data row15 col2\" >$31.26</td>\n",
       "            </tr>\n",
       "            <tr>\n",
       "                        <th id=\"T_7ca31648_4b21_11eb_8e21_20c9d0b09afflevel0_row16\" class=\"row_heading level0 row16\" >0.85</th>\n",
       "                        <td id=\"T_7ca31648_4b21_11eb_8e21_20c9d0b09affrow16_col0\" class=\"data row16 col0\" >5.01%</td>\n",
       "                        <td id=\"T_7ca31648_4b21_11eb_8e21_20c9d0b09affrow16_col1\" class=\"data row16 col1\" >11.09%</td>\n",
       "                        <td id=\"T_7ca31648_4b21_11eb_8e21_20c9d0b09affrow16_col2\" class=\"data row16 col2\" >$35.87</td>\n",
       "            </tr>\n",
       "            <tr>\n",
       "                        <th id=\"T_7ca31648_4b21_11eb_8e21_20c9d0b09afflevel0_row17\" class=\"row_heading level0 row17\" >0.9</th>\n",
       "                        <td id=\"T_7ca31648_4b21_11eb_8e21_20c9d0b09affrow17_col0\" class=\"data row17 col0\" >5.26%</td>\n",
       "                        <td id=\"T_7ca31648_4b21_11eb_8e21_20c9d0b09affrow17_col1\" class=\"data row17 col1\" >11.58%</td>\n",
       "                        <td id=\"T_7ca31648_4b21_11eb_8e21_20c9d0b09affrow17_col2\" class=\"data row17 col2\" >$43.87</td>\n",
       "            </tr>\n",
       "            <tr>\n",
       "                        <th id=\"T_7ca31648_4b21_11eb_8e21_20c9d0b09afflevel0_row18\" class=\"row_heading level0 row18\" >0.95</th>\n",
       "                        <td id=\"T_7ca31648_4b21_11eb_8e21_20c9d0b09affrow18_col0\" class=\"data row18 col0\" >5.61%</td>\n",
       "                        <td id=\"T_7ca31648_4b21_11eb_8e21_20c9d0b09affrow18_col1\" class=\"data row18 col1\" >12.31%</td>\n",
       "                        <td id=\"T_7ca31648_4b21_11eb_8e21_20c9d0b09affrow18_col2\" class=\"data row18 col2\" >$63.89</td>\n",
       "            </tr>\n",
       "    </tbody></table>"
      ],
      "text/plain": [
       "<pandas.io.formats.style.Styler at 0x7feb56a5aad0>"
      ]
     },
     "execution_count": 14,
     "metadata": {},
     "output_type": "execute_result"
    }
   ],
   "source": [
    "new_l2_results = price_ddm_simulations(dividend, cost_capital_mean, cost_capital_std, growth_mean, growth_std, n_iter)\n",
    "df_3 = pd.DataFrame(new_l2_results, columns = ['Growth', 'Cost of Capital', 'Price'])\n",
    "styled_df(df_3.quantile(percentiles))"
   ]
  },
  {
   "cell_type": "markdown",
   "metadata": {},
   "source": [
    "We notice now there is no instance where growth is greater than the cost of capital."
   ]
  },
  {
   "cell_type": "code",
   "execution_count": 15,
   "metadata": {},
   "outputs": [
    {
     "data": {
      "text/html": [
       "<div>\n",
       "<style scoped>\n",
       "    .dataframe tbody tr th:only-of-type {\n",
       "        vertical-align: middle;\n",
       "    }\n",
       "\n",
       "    .dataframe tbody tr th {\n",
       "        vertical-align: top;\n",
       "    }\n",
       "\n",
       "    .dataframe thead th {\n",
       "        text-align: right;\n",
       "    }\n",
       "</style>\n",
       "<table border=\"1\" class=\"dataframe\">\n",
       "  <thead>\n",
       "    <tr style=\"text-align: right;\">\n",
       "      <th></th>\n",
       "      <th>Growth</th>\n",
       "      <th>Cost of Capital</th>\n",
       "      <th>Price</th>\n",
       "    </tr>\n",
       "  </thead>\n",
       "  <tbody>\n",
       "  </tbody>\n",
       "</table>\n",
       "</div>"
      ],
      "text/plain": [
       "Empty DataFrame\n",
       "Columns: [Growth, Cost of Capital, Price]\n",
       "Index: []"
      ]
     },
     "execution_count": 15,
     "metadata": {},
     "output_type": "execute_result"
    }
   ],
   "source": [
    "df_3[df_3['Growth'] > df_3['Cost of Capital']]"
   ]
  },
  {
   "cell_type": "code",
   "execution_count": 16,
   "metadata": {},
   "outputs": [
    {
     "data": {
      "text/plain": [
       "<AxesSubplot:ylabel='Frequency'>"
      ]
     },
     "execution_count": 16,
     "metadata": {},
     "output_type": "execute_result"
    },
    {
     "data": {
      "image/png": "[encoded data removed]",
      "text/plain": [
       "<Figure size 432x288 with 1 Axes>"
      ]
     },
     "metadata": {
      "needs_background": "light"
     },
     "output_type": "display_data"
    }
   ],
   "source": [
    "df_3['Price'].plot.hist(bins=100)"
   ]
  },
  {
   "cell_type": "markdown",
   "metadata": {},
   "source": [
    "There are no longer negative values, however the price range is still looking odd. While growth rate is no longer greater than cost of capital, we can get really close values, which translates to the previous histogram. <br><br>\n",
    "To make the model better, we will ignore if the growth rate and the cost of capital are quite similar (0.5%)"
   ]
  },
  {
   "cell_type": "code",
   "execution_count": 17,
   "metadata": {},
   "outputs": [],
   "source": [
    "# We will now modify the previous function to get positive values\n",
    "def price_ddm_simulations(dividend, cost_capital_mean, cost_capital_std, growth_mean, growth_std, n_iter):\n",
    "    outputs = []\n",
    "    for i in range(n_iter):\n",
    "        growth_prob = random.normalvariate(growth_mean, growth_std)\n",
    "        rate_prob = random.normalvariate(cost_capital_mean, cost_capital_std)\n",
    "        if growth_prob > (rate_prob - 0.005):\n",
    "            continue\n",
    "        result = price_ddm(dividend, cost_of_capital=rate_prob, growth = growth_prob)\n",
    "        outputs.append((growth_prob, rate_prob, result))\n",
    "    return outputs"
   ]
  },
  {
   "cell_type": "code",
   "execution_count": 18,
   "metadata": {},
   "outputs": [
    {
     "data": {
      "text/html": [
       "<style  type=\"text/css\" >\n",
       "</style><table id=\"T_7f710452_4b21_11eb_8e21_20c9d0b09aff\" ><thead>    <tr>        <th class=\"blank level0\" ></th>        <th class=\"col_heading level0 col0\" >Growth</th>        <th class=\"col_heading level0 col1\" >Cost of Capital</th>        <th class=\"col_heading level0 col2\" >Price</th>    </tr></thead><tbody>\n",
       "                <tr>\n",
       "                        <th id=\"T_7f710452_4b21_11eb_8e21_20c9d0b09afflevel0_row0\" class=\"row_heading level0 row0\" >0.05</th>\n",
       "                        <td id=\"T_7f710452_4b21_11eb_8e21_20c9d0b09affrow0_col0\" class=\"data row0 col0\" >2.34%</td>\n",
       "                        <td id=\"T_7f710452_4b21_11eb_8e21_20c9d0b09affrow0_col1\" class=\"data row0 col1\" >6.02%</td>\n",
       "                        <td id=\"T_7f710452_4b21_11eb_8e21_20c9d0b09affrow0_col2\" class=\"data row0 col2\" >$11.50</td>\n",
       "            </tr>\n",
       "            <tr>\n",
       "                        <th id=\"T_7f710452_4b21_11eb_8e21_20c9d0b09afflevel0_row1\" class=\"row_heading level0 row1\" >0.1</th>\n",
       "                        <td id=\"T_7f710452_4b21_11eb_8e21_20c9d0b09affrow1_col0\" class=\"data row1 col0\" >2.70%</td>\n",
       "                        <td id=\"T_7f710452_4b21_11eb_8e21_20c9d0b09affrow1_col1\" class=\"data row1 col1\" >6.64%</td>\n",
       "                        <td id=\"T_7f710452_4b21_11eb_8e21_20c9d0b09affrow1_col2\" class=\"data row1 col2\" >$12.68</td>\n",
       "            </tr>\n",
       "            <tr>\n",
       "                        <th id=\"T_7f710452_4b21_11eb_8e21_20c9d0b09afflevel0_row2\" class=\"row_heading level0 row2\" >0.15</th>\n",
       "                        <td id=\"T_7f710452_4b21_11eb_8e21_20c9d0b09affrow2_col0\" class=\"data row2 col0\" >2.95%</td>\n",
       "                        <td id=\"T_7f710452_4b21_11eb_8e21_20c9d0b09affrow2_col1\" class=\"data row2 col1\" >7.08%</td>\n",
       "                        <td id=\"T_7f710452_4b21_11eb_8e21_20c9d0b09affrow2_col2\" class=\"data row2 col2\" >$13.62</td>\n",
       "            </tr>\n",
       "            <tr>\n",
       "                        <th id=\"T_7f710452_4b21_11eb_8e21_20c9d0b09afflevel0_row3\" class=\"row_heading level0 row3\" >0.2</th>\n",
       "                        <td id=\"T_7f710452_4b21_11eb_8e21_20c9d0b09affrow3_col0\" class=\"data row3 col0\" >3.14%</td>\n",
       "                        <td id=\"T_7f710452_4b21_11eb_8e21_20c9d0b09affrow3_col1\" class=\"data row3 col1\" >7.44%</td>\n",
       "                        <td id=\"T_7f710452_4b21_11eb_8e21_20c9d0b09affrow3_col2\" class=\"data row3 col2\" >$14.47</td>\n",
       "            </tr>\n",
       "            <tr>\n",
       "                        <th id=\"T_7f710452_4b21_11eb_8e21_20c9d0b09afflevel0_row4\" class=\"row_heading level0 row4\" >0.25</th>\n",
       "                        <td id=\"T_7f710452_4b21_11eb_8e21_20c9d0b09affrow4_col0\" class=\"data row4 col0\" >3.31%</td>\n",
       "                        <td id=\"T_7f710452_4b21_11eb_8e21_20c9d0b09affrow4_col1\" class=\"data row4 col1\" >7.75%</td>\n",
       "                        <td id=\"T_7f710452_4b21_11eb_8e21_20c9d0b09affrow4_col2\" class=\"data row4 col2\" >$15.29</td>\n",
       "            </tr>\n",
       "            <tr>\n",
       "                        <th id=\"T_7f710452_4b21_11eb_8e21_20c9d0b09afflevel0_row5\" class=\"row_heading level0 row5\" >0.3</th>\n",
       "                        <td id=\"T_7f710452_4b21_11eb_8e21_20c9d0b09affrow5_col0\" class=\"data row5 col0\" >3.46%</td>\n",
       "                        <td id=\"T_7f710452_4b21_11eb_8e21_20c9d0b09affrow5_col1\" class=\"data row5 col1\" >8.04%</td>\n",
       "                        <td id=\"T_7f710452_4b21_11eb_8e21_20c9d0b09affrow5_col2\" class=\"data row5 col2\" >$16.10</td>\n",
       "            </tr>\n",
       "            <tr>\n",
       "                        <th id=\"T_7f710452_4b21_11eb_8e21_20c9d0b09afflevel0_row6\" class=\"row_heading level0 row6\" >0.35</th>\n",
       "                        <td id=\"T_7f710452_4b21_11eb_8e21_20c9d0b09affrow6_col0\" class=\"data row6 col0\" >3.60%</td>\n",
       "                        <td id=\"T_7f710452_4b21_11eb_8e21_20c9d0b09affrow6_col1\" class=\"data row6 col1\" >8.30%</td>\n",
       "                        <td id=\"T_7f710452_4b21_11eb_8e21_20c9d0b09affrow6_col2\" class=\"data row6 col2\" >$16.94</td>\n",
       "            </tr>\n",
       "            <tr>\n",
       "                        <th id=\"T_7f710452_4b21_11eb_8e21_20c9d0b09afflevel0_row7\" class=\"row_heading level0 row7\" >0.4</th>\n",
       "                        <td id=\"T_7f710452_4b21_11eb_8e21_20c9d0b09affrow7_col0\" class=\"data row7 col0\" >3.73%</td>\n",
       "                        <td id=\"T_7f710452_4b21_11eb_8e21_20c9d0b09affrow7_col1\" class=\"data row7 col1\" >8.56%</td>\n",
       "                        <td id=\"T_7f710452_4b21_11eb_8e21_20c9d0b09affrow7_col2\" class=\"data row7 col2\" >$17.83</td>\n",
       "            </tr>\n",
       "            <tr>\n",
       "                        <th id=\"T_7f710452_4b21_11eb_8e21_20c9d0b09afflevel0_row8\" class=\"row_heading level0 row8\" >0.45</th>\n",
       "                        <td id=\"T_7f710452_4b21_11eb_8e21_20c9d0b09affrow8_col0\" class=\"data row8 col0\" >3.85%</td>\n",
       "                        <td id=\"T_7f710452_4b21_11eb_8e21_20c9d0b09affrow8_col1\" class=\"data row8 col1\" >8.81%</td>\n",
       "                        <td id=\"T_7f710452_4b21_11eb_8e21_20c9d0b09affrow8_col2\" class=\"data row8 col2\" >$18.76</td>\n",
       "            </tr>\n",
       "            <tr>\n",
       "                        <th id=\"T_7f710452_4b21_11eb_8e21_20c9d0b09afflevel0_row9\" class=\"row_heading level0 row9\" >0.5</th>\n",
       "                        <td id=\"T_7f710452_4b21_11eb_8e21_20c9d0b09affrow9_col0\" class=\"data row9 col0\" >3.98%</td>\n",
       "                        <td id=\"T_7f710452_4b21_11eb_8e21_20c9d0b09affrow9_col1\" class=\"data row9 col1\" >9.05%</td>\n",
       "                        <td id=\"T_7f710452_4b21_11eb_8e21_20c9d0b09affrow9_col2\" class=\"data row9 col2\" >$19.78</td>\n",
       "            </tr>\n",
       "            <tr>\n",
       "                        <th id=\"T_7f710452_4b21_11eb_8e21_20c9d0b09afflevel0_row10\" class=\"row_heading level0 row10\" >0.55</th>\n",
       "                        <td id=\"T_7f710452_4b21_11eb_8e21_20c9d0b09affrow10_col0\" class=\"data row10 col0\" >4.10%</td>\n",
       "                        <td id=\"T_7f710452_4b21_11eb_8e21_20c9d0b09affrow10_col1\" class=\"data row10 col1\" >9.30%</td>\n",
       "                        <td id=\"T_7f710452_4b21_11eb_8e21_20c9d0b09affrow10_col2\" class=\"data row10 col2\" >$20.91</td>\n",
       "            </tr>\n",
       "            <tr>\n",
       "                        <th id=\"T_7f710452_4b21_11eb_8e21_20c9d0b09afflevel0_row11\" class=\"row_heading level0 row11\" >0.6</th>\n",
       "                        <td id=\"T_7f710452_4b21_11eb_8e21_20c9d0b09affrow11_col0\" class=\"data row11 col0\" >4.23%</td>\n",
       "                        <td id=\"T_7f710452_4b21_11eb_8e21_20c9d0b09affrow11_col1\" class=\"data row11 col1\" >9.55%</td>\n",
       "                        <td id=\"T_7f710452_4b21_11eb_8e21_20c9d0b09affrow11_col2\" class=\"data row11 col2\" >$22.20</td>\n",
       "            </tr>\n",
       "            <tr>\n",
       "                        <th id=\"T_7f710452_4b21_11eb_8e21_20c9d0b09afflevel0_row12\" class=\"row_heading level0 row12\" >0.65</th>\n",
       "                        <td id=\"T_7f710452_4b21_11eb_8e21_20c9d0b09affrow12_col0\" class=\"data row12 col0\" >4.36%</td>\n",
       "                        <td id=\"T_7f710452_4b21_11eb_8e21_20c9d0b09affrow12_col1\" class=\"data row12 col1\" >9.81%</td>\n",
       "                        <td id=\"T_7f710452_4b21_11eb_8e21_20c9d0b09affrow12_col2\" class=\"data row12 col2\" >$23.69</td>\n",
       "            </tr>\n",
       "            <tr>\n",
       "                        <th id=\"T_7f710452_4b21_11eb_8e21_20c9d0b09afflevel0_row13\" class=\"row_heading level0 row13\" >0.7</th>\n",
       "                        <td id=\"T_7f710452_4b21_11eb_8e21_20c9d0b09affrow13_col0\" class=\"data row13 col0\" >4.50%</td>\n",
       "                        <td id=\"T_7f710452_4b21_11eb_8e21_20c9d0b09affrow13_col1\" class=\"data row13 col1\" >10.08%</td>\n",
       "                        <td id=\"T_7f710452_4b21_11eb_8e21_20c9d0b09affrow13_col2\" class=\"data row13 col2\" >$25.49</td>\n",
       "            </tr>\n",
       "            <tr>\n",
       "                        <th id=\"T_7f710452_4b21_11eb_8e21_20c9d0b09afflevel0_row14\" class=\"row_heading level0 row14\" >0.75</th>\n",
       "                        <td id=\"T_7f710452_4b21_11eb_8e21_20c9d0b09affrow14_col0\" class=\"data row14 col0\" >4.65%</td>\n",
       "                        <td id=\"T_7f710452_4b21_11eb_8e21_20c9d0b09affrow14_col1\" class=\"data row14 col1\" >10.38%</td>\n",
       "                        <td id=\"T_7f710452_4b21_11eb_8e21_20c9d0b09affrow14_col2\" class=\"data row14 col2\" >$27.75</td>\n",
       "            </tr>\n",
       "            <tr>\n",
       "                        <th id=\"T_7f710452_4b21_11eb_8e21_20c9d0b09afflevel0_row15\" class=\"row_heading level0 row15\" >0.8</th>\n",
       "                        <td id=\"T_7f710452_4b21_11eb_8e21_20c9d0b09affrow15_col0\" class=\"data row15 col0\" >4.81%</td>\n",
       "                        <td id=\"T_7f710452_4b21_11eb_8e21_20c9d0b09affrow15_col1\" class=\"data row15 col1\" >10.71%</td>\n",
       "                        <td id=\"T_7f710452_4b21_11eb_8e21_20c9d0b09affrow15_col2\" class=\"data row15 col2\" >$30.74</td>\n",
       "            </tr>\n",
       "            <tr>\n",
       "                        <th id=\"T_7f710452_4b21_11eb_8e21_20c9d0b09afflevel0_row16\" class=\"row_heading level0 row16\" >0.85</th>\n",
       "                        <td id=\"T_7f710452_4b21_11eb_8e21_20c9d0b09affrow16_col0\" class=\"data row16 col0\" >5.00%</td>\n",
       "                        <td id=\"T_7f710452_4b21_11eb_8e21_20c9d0b09affrow16_col1\" class=\"data row16 col1\" >11.10%</td>\n",
       "                        <td id=\"T_7f710452_4b21_11eb_8e21_20c9d0b09affrow16_col2\" class=\"data row16 col2\" >$35.05</td>\n",
       "            </tr>\n",
       "            <tr>\n",
       "                        <th id=\"T_7f710452_4b21_11eb_8e21_20c9d0b09afflevel0_row17\" class=\"row_heading level0 row17\" >0.9</th>\n",
       "                        <td id=\"T_7f710452_4b21_11eb_8e21_20c9d0b09affrow17_col0\" class=\"data row17 col0\" >5.24%</td>\n",
       "                        <td id=\"T_7f710452_4b21_11eb_8e21_20c9d0b09affrow17_col1\" class=\"data row17 col1\" >11.58%</td>\n",
       "                        <td id=\"T_7f710452_4b21_11eb_8e21_20c9d0b09affrow17_col2\" class=\"data row17 col2\" >$42.26</td>\n",
       "            </tr>\n",
       "            <tr>\n",
       "                        <th id=\"T_7f710452_4b21_11eb_8e21_20c9d0b09afflevel0_row18\" class=\"row_heading level0 row18\" >0.95</th>\n",
       "                        <td id=\"T_7f710452_4b21_11eb_8e21_20c9d0b09affrow18_col0\" class=\"data row18 col0\" >5.60%</td>\n",
       "                        <td id=\"T_7f710452_4b21_11eb_8e21_20c9d0b09affrow18_col1\" class=\"data row18 col1\" >12.30%</td>\n",
       "                        <td id=\"T_7f710452_4b21_11eb_8e21_20c9d0b09affrow18_col2\" class=\"data row18 col2\" >$58.36</td>\n",
       "            </tr>\n",
       "    </tbody></table>"
      ],
      "text/plain": [
       "<pandas.io.formats.style.Styler at 0x7feb370527d0>"
      ]
     },
     "execution_count": 18,
     "metadata": {},
     "output_type": "execute_result"
    },
    {
     "data": {
      "image/png": "[encoded data removed]",
      "text/plain": [
       "<Figure size 432x288 with 1 Axes>"
      ]
     },
     "metadata": {
      "needs_background": "light"
     },
     "output_type": "display_data"
    }
   ],
   "source": [
    "new_l2_results = price_ddm_simulations(dividend, cost_capital_mean, cost_capital_std, growth_mean, growth_std, n_iter)\n",
    "df_3 = pd.DataFrame(new_l2_results, columns = ['Growth', 'Cost of Capital', 'Price'])\n",
    "df_3['Price'].plot.hist(bins=100)\n",
    "styled_df(df_3.quantile(percentiles))"
   ]
  },
  {
   "cell_type": "markdown",
   "metadata": {},
   "source": [
    "This range of prices make much more sense."
   ]
  }
 ],
 "metadata": {
  "kernelspec": {
   "display_name": "Python 3",
   "language": "python",
   "name": "python3"
  },
  "language_info": {
   "codemirror_mode": {
    "name": "ipython",
    "version": 3
   },
   "file_extension": ".py",
   "mimetype": "text/x-python",
   "name": "python",
   "nbconvert_exporter": "python",
   "pygments_lexer": "ipython3",
   "version": "3.7.7"
  }
 },
 "nbformat": 4,
 "nbformat_minor": 4
}
