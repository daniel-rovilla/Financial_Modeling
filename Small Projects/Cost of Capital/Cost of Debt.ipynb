{
 "cells": [
  {
   "cell_type": "markdown",
   "metadata": {},
   "source": [
    "# Finding Cost of Debt Given Financial and Market Info"
   ]
  },
  {
   "cell_type": "markdown",
   "metadata": {},
   "source": [
    "### Level 1\n",
    "\n",
    "- A chemical manufacturer has a 7.0% coupon, annual pay 1000 par value bond outstanding, priced at \\\\$1042.12 on 2021-01-06.\n",
    "- If the bond matures on 2024-01-06, what is the cost of debt for this company? The tax rate is 35%.\n",
    "\n",
    "### Level 2\n",
    "- We search WMT from https://stockrow.com to get Walmart’s financials. Calculate the cost of debt for 2019-07-31 using the financial statements approach. Note that you will also need to determine the effective tax rate using actual tax paid and EBT."
   ]
  },
  {
   "cell_type": "code",
   "execution_count": 1,
   "metadata": {},
   "outputs": [],
   "source": [
    "import numpy_financial as npf\n",
    "import pandas as pd"
   ]
  },
  {
   "cell_type": "markdown",
   "metadata": {},
   "source": [
    "### Level 1 Solution"
   ]
  },
  {
   "cell_type": "code",
   "execution_count": 2,
   "metadata": {},
   "outputs": [],
   "source": [
    "coupon_yield = 0.07\n",
    "par_value = 1000\n",
    "premium_value = 1042.12\n",
    "n = 3\n",
    "tax_rate = 0.35"
   ]
  },
  {
   "cell_type": "code",
   "execution_count": 3,
   "metadata": {},
   "outputs": [],
   "source": [
    "payment = par_value * coupon_yield\n",
    "pretax_yield = npf.rate(n, payment, -premium_value, par_value)"
   ]
  },
  {
   "cell_type": "code",
   "execution_count": 4,
   "metadata": {},
   "outputs": [],
   "source": [
    "def show_debt_costs(pretax_yield, tax_rate):\n",
    "    aftertax_yield = pretax_yield * (1 - tax_rate)\n",
    "    print(f'The pre-tax cost of debt is {pretax_yield:.2%}\\n'\n",
    "          f'The after-tax cost of debt is {aftertax_yield:.02%}\\n'\n",
    "          f'With a {tax_rate:.02%} tax rate')"
   ]
  },
  {
   "cell_type": "code",
   "execution_count": 5,
   "metadata": {},
   "outputs": [
    {
     "name": "stdout",
     "output_type": "stream",
     "text": [
      "The pre-tax cost of debt is 5.44%\n",
      "The after-tax cost of debt is 3.54%\n",
      "With a 35.00% tax rate\n"
     ]
    }
   ],
   "source": [
    "show_debt_costs(pretax_yield, tax_rate)"
   ]
  },
  {
   "cell_type": "markdown",
   "metadata": {},
   "source": [
    "### Level 2 Solution\n"
   ]
  },
  {
   "cell_type": "code",
   "execution_count": 6,
   "metadata": {},
   "outputs": [],
   "source": [
    "inc_df = pd.read_excel('inc.xlsx', index_col = 0)\n",
    "bs_df = pd.read_excel('bs.xlsx', index_col = 0)\n",
    "date = pd.to_datetime('2019-07-31')"
   ]
  },
  {
   "cell_type": "code",
   "execution_count": 11,
   "metadata": {},
   "outputs": [
    {
     "data": {
      "text/plain": [
       "Revenue                                1.303770e+11\n",
       "Revenue Growth                         1.830000e-02\n",
       "Cost of Revenue                        9.792300e+10\n",
       "Gross Profit                           3.245400e+10\n",
       "SG&A Expenses                          2.687100e+10\n",
       "Operating Income                       5.583000e+09\n",
       "Non-operating Interest Expenses        6.410000e+08\n",
       "Non-operating Income/Expense          -6.700000e+08\n",
       "EBT                                    4.913000e+09\n",
       "Income Tax Provision                   1.233000e+09\n",
       "Income after Tax                       3.680000e+09\n",
       "Non-Controlling Interest               7.000000e+07\n",
       "Net Income Common                      3.610000e+09\n",
       "EPS (Basic)                            1.270000e+00\n",
       "EPS (Diluted)                          1.260000e+00\n",
       "Shares (Basic, Weighted)               2.853000e+09\n",
       "Shares (Diluted, Weighted)             2.869000e+09\n",
       "Gross Margin                           2.489000e-01\n",
       "EBIT Margin                            4.280000e-02\n",
       "EBT margin                             3.770000e-02\n",
       "Net Profit Margin                      2.770000e-02\n",
       "EBITDA                                 8.305000e+09\n",
       "EBIT                                   5.583000e+09\n",
       "Income from Continuous Operations      3.680000e+09\n",
       "Income from Discontinued Operations             NaN\n",
       "Consolidated Net Income/Loss           3.680000e+09\n",
       "EPS (Basic, from Continuous Ops)       1.289900e+00\n",
       "EPS (Diluted, from Cont. Ops)          1.282700e+00\n",
       "EPS (Diluted, from Disc. Ops)                   NaN\n",
       "EPS (Basic, from Discontinued Ops)              NaN\n",
       "EPS (Basic, Consolidated)              1.289900e+00\n",
       "EPS (Diluted, Consolidated)            1.282700e+00\n",
       "Shares (Diluted, Average)              2.869000e+09\n",
       "EBITDA Margin                          6.370000e-02\n",
       "Operating Cash Flow Margin             5.850000e-02\n",
       "Name: 2019-07-31 00:00:00, dtype: float64"
      ]
     },
     "execution_count": 11,
     "metadata": {},
     "output_type": "execute_result"
    }
   ],
   "source": [
    "inc_df[date]"
   ]
  },
  {
   "cell_type": "code",
   "execution_count": 8,
   "metadata": {},
   "outputs": [],
   "source": [
    "int_exp = inc_df[date]['Non-operating Interest Expenses']\n",
    "total_debt = bs_df[date]['Total Debt']\n",
    "pretax_cod = int_exp / total_debt"
   ]
  },
  {
   "cell_type": "code",
   "execution_count": 9,
   "metadata": {},
   "outputs": [],
   "source": [
    "tax_paid = inc_df[date]['Income Tax Provision']\n",
    "ebt = inc_df[date]['EBT']\n",
    "tax_rate_wmt = tax_paid / ebt"
   ]
  },
  {
   "cell_type": "code",
   "execution_count": 10,
   "metadata": {},
   "outputs": [
    {
     "name": "stdout",
     "output_type": "stream",
     "text": [
      "The pre-tax cost of debt is 1.14%\n",
      "The after-tax cost of debt is 0.85%\n",
      "With a 25.10% tax rate\n"
     ]
    }
   ],
   "source": [
    "show_debt_costs(pretax_cod, tax_rate_wmt)"
   ]
  }
 ],
 "metadata": {
  "kernelspec": {
   "display_name": "Python 3",
   "language": "python",
   "name": "python3"
  },
  "language_info": {
   "codemirror_mode": {
    "name": "ipython",
    "version": 3
   },
   "file_extension": ".py",
   "mimetype": "text/x-python",
   "name": "python",
   "nbconvert_exporter": "python",
   "pygments_lexer": "ipython3",
   "version": "3.7.7"
  }
 },
 "nbformat": 4,
 "nbformat_minor": 4
}
