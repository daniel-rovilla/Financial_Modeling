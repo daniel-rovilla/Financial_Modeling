{
 "cells": [
  {
   "cell_type": "markdown",
   "metadata": {},
   "source": [
    "# Analyzing Investment Returns with Monte Carlo Simulations"
   ]
  },
  {
   "cell_type": "markdown",
   "metadata": {},
   "source": [
    "## The Problem\n",
    "\n",
    "We have \\\\$1,000 now and need to pay \\\\$1,050 in one year. We have\n",
    "available two assets: a risk free asset that returns 3%, and a stock\n",
    "that returns 10% with a 20% standard deviation. How much should we\n",
    "invest in the two assets to maximize our probability of having at least\n",
    "\\\\$1,050 in one year?"
   ]
  },
  {
   "cell_type": "markdown",
   "metadata": {},
   "source": [
    "## The Basic Model"
   ]
  },
  {
   "cell_type": "markdown",
   "metadata": {},
   "source": [
    "We should first build the model which handles a single set of inputs to produce a single set of outputs. Once that is working correctly, then we can run Monte Carlo simulations using the model.\n",
    "\n",
    "In this model, we will want to build it for a given return for each of the assets. Then later we can bring in the standard deviations by drawing the returns from normal distributions in the simulations."
   ]
  },
  {
   "cell_type": "markdown",
   "metadata": {},
   "source": [
    "### Portfolio Returns"
   ]
  },
  {
   "cell_type": "markdown",
   "metadata": {},
   "source": [
    "We need to determine the returns on the portfolio. It matters what weights we have invested in each of the assets, as well as each of the asset's returns.\n",
    "\n",
    "This is just a one period model, so the portfolio return is $r_p = r_{rf} w_{rf} + r_s w_s$\n",
    "\n",
    "This can be simplified even further. There are only two assets, and we will be fully invested, so $w_{rf} + w_s = 1$, therefore $w_{rf} = 1 - w_s$ and we can just eliminate the $w_{rf}$, yielding:\n",
    "\n",
    "$r_p = r_{rf} (1 - w_s) + r_s w_s$"
   ]
  },
  {
   "cell_type": "code",
   "execution_count": 1,
   "metadata": {},
   "outputs": [
    {
     "data": {
      "text/plain": [
       "0.065"
      ]
     },
     "execution_count": 1,
     "metadata": {},
     "output_type": "execute_result"
    }
   ],
   "source": [
    "stock_ret = 0.1\n",
    "rf = 0.03\n",
    "stock_weight = 0.5\n",
    "\n",
    "portfolio_ret = rf * (1 - stock_weight) + stock_ret * stock_weight\n",
    "portfolio_ret"
   ]
  },
  {
   "cell_type": "markdown",
   "metadata": {},
   "source": [
    "Now let's apply that return to the initial portfolio value to get the final portfolio value."
   ]
  },
  {
   "cell_type": "code",
   "execution_count": 2,
   "metadata": {},
   "outputs": [
    {
     "data": {
      "text/plain": [
       "1065.0"
      ]
     },
     "execution_count": 2,
     "metadata": {},
     "output_type": "execute_result"
    }
   ],
   "source": [
    "portfolio_initial_value = 1000\n",
    "\n",
    "portfolio_end_value = portfolio_initial_value * (1 + portfolio_ret)\n",
    "portfolio_end_value"
   ]
  },
  {
   "cell_type": "markdown",
   "metadata": {},
   "source": [
    "Now let's wrap this up into one function that will represent our model."
   ]
  },
  {
   "cell_type": "code",
   "execution_count": 3,
   "metadata": {},
   "outputs": [
    {
     "data": {
      "text/plain": [
       "1065.0"
      ]
     },
     "execution_count": 3,
     "metadata": {},
     "output_type": "execute_result"
    }
   ],
   "source": [
    "def port_end_value(stock_ret=0.1, rf=0.03, stock_weight=0.5, portfolio_initial_value=1000):\n",
    "    portfolio_ret = rf * (1 - stock_weight) + stock_ret * stock_weight\n",
    "    portfolio_end_value = portfolio_initial_value * (1 + portfolio_ret)\n",
    "    return portfolio_end_value\n",
    "\n",
    "port_end_value()"
   ]
  },
  {
   "cell_type": "markdown",
   "metadata": {},
   "source": [
    "It works for the initial inputs, also trying with other inputs."
   ]
  },
  {
   "cell_type": "code",
   "execution_count": 4,
   "metadata": {},
   "outputs": [
    {
     "data": {
      "text/plain": [
       "1044.0"
      ]
     },
     "execution_count": 4,
     "metadata": {},
     "output_type": "execute_result"
    }
   ],
   "source": [
    "port_end_value(0.05, 0.03, 0.7)"
   ]
  },
  {
   "cell_type": "markdown",
   "metadata": {},
   "source": [
    "So it seems our model function is working correctly."
   ]
  },
  {
   "cell_type": "markdown",
   "metadata": {},
   "source": [
    "## Monte Carlo Simulations\n",
    "\n",
    "So now we know that if we earn 10% on the stock and invest 50% in it, we will have enough money. We also know if it returns only 5%, it's not going to be enough to meet our required \\$1,050. But we don't know anything about the probability of having enough money.\n",
    "\n",
    "To run a Monte Carlo simulation, all we do is assign distributions as necessary to any inputs, then run the model a bunch of times, drawing inputs from the distributions, passing them into the model, and collecting the outputs."
   ]
  },
  {
   "cell_type": "markdown",
   "metadata": {},
   "source": [
    "### Draw Inputs From Distributions\n",
    "\n",
    "So here, we are only concerned with assigning the stock return to a distribution. We will not vary the risk free rate as it has a standard deviation of zero, so it would always be the same value anyway. We will not vary the weight as that is a decision variable. We will not vary the inital portfolio value as it shouldn't change.\n",
    "\n",
    "We will assume that the stock's returns are normally distributed. Let's try to pull a single return from the normal distribution for this stock."
   ]
  },
  {
   "cell_type": "code",
   "execution_count": 5,
   "metadata": {},
   "outputs": [
    {
     "data": {
      "text/plain": [
       "0.0952728219262988"
      ]
     },
     "execution_count": 5,
     "metadata": {},
     "output_type": "execute_result"
    }
   ],
   "source": [
    "import random\n",
    "\n",
    "stock_mean = 0.1\n",
    "stock_std = 0.2\n",
    "\n",
    "random.normalvariate(stock_mean, stock_std)"
   ]
  },
  {
   "cell_type": "markdown",
   "metadata": {},
   "source": [
    "We can run the above cell multiple times to see that it will choose a different return each time. This is what we need to pass into our model each time."
   ]
  },
  {
   "cell_type": "markdown",
   "metadata": {},
   "source": [
    "### Run the Model\n",
    "\n",
    "Now rather than taking stock return as fixed, let's run the model using the randomly drawn stock return."
   ]
  },
  {
   "cell_type": "code",
   "execution_count": 6,
   "metadata": {},
   "outputs": [
    {
     "name": "stdout",
     "output_type": "stream",
     "text": [
      "running with stock return 36.8%\n"
     ]
    },
    {
     "data": {
      "text/plain": [
       "1199.0611582278914"
      ]
     },
     "execution_count": 6,
     "metadata": {},
     "output_type": "execute_result"
    }
   ],
   "source": [
    "stock_ret = random.normalvariate(stock_mean, stock_std)\n",
    "print(f'running with stock return {stock_ret:.1%}')\n",
    "port_end_value(stock_ret)"
   ]
  },
  {
   "cell_type": "markdown",
   "metadata": {},
   "source": [
    "We can run the above cell multiple times to see that we will get a different portfolio end value each time."
   ]
  },
  {
   "cell_type": "markdown",
   "metadata": {},
   "source": [
    "### Collect the Outputs\n",
    "\n",
    "All we need to do here is run the above steps in a loop, appending the result to a list each time we run the model. This is especially simple because we only have one output from the model. If we have multiple outputs from a single run of our model, we will have to use some other data structure, such as multiple lists, a list of lists, a list of dictionaries, or a `DataFrame`."
   ]
  },
  {
   "cell_type": "code",
   "execution_count": 7,
   "metadata": {},
   "outputs": [
    {
     "data": {
      "text/plain": [
       "[1045.2705049773215, 1168.3949220520244, 1076.4933461374005]"
      ]
     },
     "execution_count": 7,
     "metadata": {},
     "output_type": "execute_result"
    }
   ],
   "source": [
    "n_iter = 3\n",
    "outputs = []\n",
    "for i in range(n_iter):\n",
    "    stock_ret = random.normalvariate(stock_mean, stock_std)\n",
    "    result = port_end_value(stock_ret)\n",
    "    outputs.append(result)\n",
    "outputs"
   ]
  },
  {
   "cell_type": "markdown",
   "metadata": {},
   "source": [
    "### Create a Function for This\n",
    "\n",
    "Now just put it all together into a function. I will also allow passing of different stock weights in the function."
   ]
  },
  {
   "cell_type": "code",
   "execution_count": 8,
   "metadata": {},
   "outputs": [
    {
     "name": "stdout",
     "output_type": "stream",
     "text": [
      "There are 1000 results. First five:\n"
     ]
    },
    {
     "data": {
      "text/plain": [
       "[1008.9819197941039,\n",
       " 1157.0983339293448,\n",
       " 1034.148919449114,\n",
       " 1117.3893622696037,\n",
       " 1015.4106314279522]"
      ]
     },
     "execution_count": 8,
     "metadata": {},
     "output_type": "execute_result"
    }
   ],
   "source": [
    "def port_end_value_simulations(stock_mean=0.1, stock_std=0.2, stock_weight=0.5, n_iter=1000):\n",
    "    outputs = []\n",
    "    for i in range(n_iter):\n",
    "        stock_ret = random.normalvariate(stock_mean, stock_std)\n",
    "        result = port_end_value(stock_ret, stock_weight=stock_weight)\n",
    "        outputs.append(result)\n",
    "    return outputs\n",
    "\n",
    "results = port_end_value_simulations()\n",
    "print(f'There are {len(results)} results. First five:')\n",
    "results[:5]"
   ]
  },
  {
   "cell_type": "markdown",
   "metadata": {},
   "source": [
    "## Analyze the Outputs"
   ]
  },
  {
   "cell_type": "markdown",
   "metadata": {},
   "source": [
    "### Visualize"
   ]
  },
  {
   "cell_type": "markdown",
   "metadata": {},
   "source": [
    "Usually a first good way to analyze the outputs is to visualize them. Let's plot the results. A histogram or KDE plot is usually most appropriate for visualizing a single output. The KDE is basically a smoothed out histogram."
   ]
  },
  {
   "cell_type": "code",
   "execution_count": 9,
   "metadata": {},
   "outputs": [
    {
     "data": {
      "text/plain": [
       "<AxesSubplot:ylabel='Frequency'>"
      ]
     },
     "execution_count": 9,
     "metadata": {},
     "output_type": "execute_result"
    },
    {
     "data": {
      "image/png": "[encoded data removed]",
      "text/plain": [
       "<Figure size 432x288 with 1 Axes>"
      ]
     },
     "metadata": {
      "needs_background": "light"
     },
     "output_type": "display_data"
    }
   ],
   "source": [
    "%matplotlib inline\n",
    "import pandas as pd\n",
    "\n",
    "df = pd.DataFrame()\n",
    "df['Portfolio End Values'] = results\n",
    "df.plot.hist(bins=100)"
   ]
  },
  {
   "cell_type": "code",
   "execution_count": 10,
   "metadata": {},
   "outputs": [
    {
     "data": {
      "text/plain": [
       "<AxesSubplot:ylabel='Density'>"
      ]
     },
     "execution_count": 10,
     "metadata": {},
     "output_type": "execute_result"
    },
    {
     "data": {
      "image/png": "[encoded data removed]",
      "text/plain": [
       "<Figure size 432x288 with 1 Axes>"
      ]
     },
     "metadata": {
      "needs_background": "light"
     },
     "output_type": "display_data"
    }
   ],
   "source": [
    "df.plot.kde()"
   ]
  },
  {
   "cell_type": "markdown",
   "metadata": {},
   "source": [
    "As we can see, the results look basically like a normal distribution. Which makes sense because we only have one input changing and it is following a normal distribution."
   ]
  },
  {
   "cell_type": "markdown",
   "metadata": {},
   "source": [
    "### Probability Outputs"
   ]
  },
  {
   "cell_type": "markdown",
   "metadata": {},
   "source": [
    "#### Probability Table"
   ]
  },
  {
   "cell_type": "markdown",
   "metadata": {},
   "source": [
    "We would like to see two other kinds of outputs. One is a table of probabilities, along with the result which is achived at that probability in the distribution. E.g. at 5%, only 5% of cases are lower than the given value. At 75%, 75% of cases are lower than the given value."
   ]
  },
  {
   "cell_type": "markdown",
   "metadata": {},
   "source": [
    "First we'll get the percentiles we want to explore in the table."
   ]
  },
  {
   "cell_type": "code",
   "execution_count": 11,
   "metadata": {},
   "outputs": [
    {
     "data": {
      "text/plain": [
       "[0.05,\n",
       " 0.1,\n",
       " 0.15,\n",
       " 0.2,\n",
       " 0.25,\n",
       " 0.3,\n",
       " 0.35,\n",
       " 0.4,\n",
       " 0.45,\n",
       " 0.5,\n",
       " 0.55,\n",
       " 0.6,\n",
       " 0.65,\n",
       " 0.7,\n",
       " 0.75,\n",
       " 0.8,\n",
       " 0.85,\n",
       " 0.9,\n",
       " 0.95]"
      ]
     },
     "execution_count": 11,
     "metadata": {},
     "output_type": "execute_result"
    }
   ],
   "source": [
    "percentiles = [i/20 for i in range(1, 20)]\n",
    "percentiles"
   ]
  },
  {
   "cell_type": "markdown",
   "metadata": {},
   "source": [
    "Now we can use the `.quantile` method from `pandas` to get this table easily. "
   ]
  },
  {
   "cell_type": "code",
   "execution_count": 12,
   "metadata": {},
   "outputs": [
    {
     "data": {
      "text/plain": [
       "0.05     899.667812\n",
       "0.10     935.611907\n",
       "0.15     961.836436\n",
       "0.20     981.017481\n",
       "0.25     998.910525\n",
       "0.30    1011.133976\n",
       "0.35    1028.926613\n",
       "0.40    1043.666677\n",
       "0.45    1055.441709\n",
       "0.50    1070.911963\n",
       "0.55    1086.829135\n",
       "0.60    1097.522795\n",
       "0.65    1111.747250\n",
       "0.70    1121.199232\n",
       "0.75    1133.906056\n",
       "0.80    1153.423863\n",
       "0.85    1173.427836\n",
       "0.90    1194.409368\n",
       "0.95    1233.687254\n",
       "Name: Portfolio End Values, dtype: float64"
      ]
     },
     "execution_count": 12,
     "metadata": {},
     "output_type": "execute_result"
    }
   ],
   "source": [
    "df['Portfolio End Values'].quantile(percentiles)"
   ]
  },
  {
   "cell_type": "markdown",
   "metadata": {},
   "source": [
    "#### Probability of Acheiving Objective"
   ]
  },
  {
   "cell_type": "markdown",
   "metadata": {},
   "source": [
    "The other kind of output is the probability that we will achieve our objective. Here we want \\\\$1,050. So we want to find the probability we will have at least that much money. We can see from the prior table that the probability of getting a value lower than about \\\\$1,050 is 45%, so then the probability of getting at least \\\\$1,050 would be $1 - p$ or about 55%. But we want to get to that directly rather than using the table as the tables values might not line up well with our desired value.\n",
    "\n",
    "There's not a direct `pandas` function for this. But as having more money still meets the objective, what we want to calculate is basically the percentage of observations that have a value equal to or higher than our desired objective."
   ]
  },
  {
   "cell_type": "code",
   "execution_count": 13,
   "metadata": {},
   "outputs": [
    {
     "data": {
      "text/plain": [
       "0.572"
      ]
     },
     "execution_count": 13,
     "metadata": {},
     "output_type": "execute_result"
    }
   ],
   "source": [
    "( df['Portfolio End Values'] >= 1050 ).astype(int).mean()"
   ]
  },
  {
   "cell_type": "markdown",
   "metadata": {},
   "source": [
    "The above one-liner achieves this. Let's break it down. First we are comparing each portfolio end value to \\\\$1,050. We will have a `Series` of boolean values for whether the original value was greater than \\\\$1,050."
   ]
  },
  {
   "cell_type": "code",
   "execution_count": 14,
   "metadata": {},
   "outputs": [
    {
     "data": {
      "text/plain": [
       "0      False\n",
       "1       True\n",
       "2      False\n",
       "3       True\n",
       "4      False\n",
       "       ...  \n",
       "995    False\n",
       "996     True\n",
       "997     True\n",
       "998     True\n",
       "999     True\n",
       "Name: Portfolio End Values, Length: 1000, dtype: bool"
      ]
     },
     "execution_count": 14,
     "metadata": {},
     "output_type": "execute_result"
    }
   ],
   "source": [
    "df['Portfolio End Values'] >= 1050"
   ]
  },
  {
   "cell_type": "markdown",
   "metadata": {},
   "source": [
    "We then convert those booleans to integers."
   ]
  },
  {
   "cell_type": "code",
   "execution_count": 15,
   "metadata": {},
   "outputs": [
    {
     "data": {
      "text/plain": [
       "0      0\n",
       "1      1\n",
       "2      0\n",
       "3      1\n",
       "4      0\n",
       "      ..\n",
       "995    0\n",
       "996    1\n",
       "997    1\n",
       "998    1\n",
       "999    1\n",
       "Name: Portfolio End Values, Length: 1000, dtype: int64"
      ]
     },
     "execution_count": 15,
     "metadata": {},
     "output_type": "execute_result"
    }
   ],
   "source": [
    "( df['Portfolio End Values'] >= 1050 ).astype(int)"
   ]
  },
  {
   "cell_type": "markdown",
   "metadata": {},
   "source": [
    "Now we have 1 when it is greater, and 0 otherwise. So the average of this will produce the probability."
   ]
  },
  {
   "cell_type": "markdown",
   "metadata": {},
   "source": [
    "### Putting the Visualization and Probabilities Together"
   ]
  },
  {
   "cell_type": "markdown",
   "metadata": {},
   "source": [
    "We just want to wrap this up into a few functions, to make it easier to run for the next step."
   ]
  },
  {
   "cell_type": "code",
   "execution_count": 16,
   "metadata": {},
   "outputs": [
    {
     "data": {
      "image/png": "[encoded data removed]",
      "text/plain": [
       "<Figure size 432x288 with 1 Axes>"
      ]
     },
     "metadata": {
      "needs_background": "light"
     },
     "output_type": "display_data"
    },
    {
     "name": "stdout",
     "output_type": "stream",
     "text": [
      "Probability Table\n",
      "0.05     $899.67\n",
      "0.10     $935.61\n",
      "0.15     $961.84\n",
      "0.20     $981.02\n",
      "0.25     $998.91\n",
      "0.30    $1011.13\n",
      "0.35    $1028.93\n",
      "0.40    $1043.67\n",
      "0.45    $1055.44\n",
      "0.50    $1070.91\n",
      "0.55    $1086.83\n",
      "0.60    $1097.52\n",
      "0.65    $1111.75\n",
      "0.70    $1121.20\n",
      "0.75    $1133.91\n",
      "0.80    $1153.42\n",
      "0.85    $1173.43\n",
      "0.90    $1194.41\n",
      "0.95    $1233.69\n",
      "Name: Portfolio End Values, dtype: object\n",
      "\n",
      "Probability of getting $1,050 in cash: 57.2%\n",
      "\n"
     ]
    }
   ],
   "source": [
    "import matplotlib.pyplot as plt\n",
    "\n",
    "def create_dataframe_from_results(results):\n",
    "    df = pd.DataFrame()\n",
    "    df['Portfolio End Values'] = results\n",
    "    return df\n",
    "\n",
    "\n",
    "def visualize_results(df):\n",
    "    df.plot.hist(bins=100)\n",
    "    plt.show()  # makes plot show right now, which we will need when running this multiple times\n",
    "\n",
    "\n",
    "def probability_table(df):\n",
    "    percentiles = [i/20 for i in range(1, 20)]\n",
    "    return df['Portfolio End Values'].quantile(percentiles)\n",
    "\n",
    "\n",
    "def probability_of_objective(df, desired_cash=1050):\n",
    "    return ( df['Portfolio End Values'] >= desired_cash ).astype(int).mean()\n",
    "\n",
    "\n",
    "def model_outputs(results, desired_cash=1050):\n",
    "    df = create_dataframe_from_results(results)\n",
    "    visualize_results(df)\n",
    "    prob_table = probability_table(df)\n",
    "    prob_objective = probability_of_objective(df, desired_cash=desired_cash)\n",
    "    return prob_table, prob_objective\n",
    "\n",
    "\n",
    "def display_model_summary(results, desired_cash=1050):\n",
    "    prob_table, prob_objective = model_outputs(results, desired_cash=desired_cash)\n",
    "    print('Probability Table')\n",
    "    print(prob_table.apply(lambda x: f'${x:.2f}'))  # a way of formatting a pandas series\n",
    "    print('')\n",
    "    print(f'Probability of getting ${desired_cash:,.0f} in cash: {prob_objective:.1%}')\n",
    "    print('')\n",
    "    \n",
    "    \n",
    "display_model_summary(results)"
   ]
  },
  {
   "cell_type": "markdown",
   "metadata": {},
   "source": [
    "## Choosing an Appropriate Weight\n",
    "\n",
    "Now we have our full model and Monte Carlo simulation set up. We want to use it to decide what weight to invest in the stock versus the risk free asset. Therefore we will run the full model outputs through the simulation for a bunch of different weights.\n",
    "\n",
    "### A Quick Aside to Formatting\n",
    "\n",
    "However it will start getting difficult to tell which weight's section we are in because there are so many outputs. So let's add a bit more formatting as well. In Jupyter we can directly display HTML. So let's write a little utility function to display a header in our output."
   ]
  },
  {
   "cell_type": "code",
   "execution_count": 17,
   "metadata": {},
   "outputs": [
    {
     "data": {
      "text/html": [
       "<h2>My Title</h2>"
      ],
      "text/plain": [
       "<IPython.core.display.HTML object>"
      ]
     },
     "metadata": {},
     "output_type": "display_data"
    }
   ],
   "source": [
    "from IPython.display import HTML, display\n",
    "display(HTML('<h2>My Title</h2>'))"
   ]
  },
  {
   "cell_type": "markdown",
   "metadata": {},
   "source": [
    "The above title is being generated by the code and not a special markdown cell. `h2` is a second-level header in HTML. We just wrap what we want in the `h2` tags. Here's a general function which can add a header for us."
   ]
  },
  {
   "cell_type": "code",
   "execution_count": 18,
   "metadata": {},
   "outputs": [
    {
     "data": {
      "text/html": [
       "<h2>Another Title</h2>"
      ],
      "text/plain": [
       "<IPython.core.display.HTML object>"
      ]
     },
     "metadata": {},
     "output_type": "display_data"
    }
   ],
   "source": [
    "def display_header(header):\n",
    "    return display(HTML(f'<h2>{header}</h2>'))\n",
    "\n",
    "display_header('Another Title')"
   ]
  },
  {
   "cell_type": "markdown",
   "metadata": {},
   "source": [
    "### Back to Choosing an Appropriate Weight"
   ]
  },
  {
   "cell_type": "markdown",
   "metadata": {},
   "source": [
    "We want to evaluate weights from 10% to 90% in 10% increments:"
   ]
  },
  {
   "cell_type": "code",
   "execution_count": 19,
   "metadata": {},
   "outputs": [
    {
     "data": {
      "text/plain": [
       "[0.1, 0.2, 0.3, 0.4, 0.5, 0.6, 0.7, 0.8, 0.9]"
      ]
     },
     "execution_count": 19,
     "metadata": {},
     "output_type": "execute_result"
    }
   ],
   "source": [
    "weights = [i/10 for i in range(1, 10)]\n",
    "weights"
   ]
  },
  {
   "cell_type": "code",
   "execution_count": 21,
   "metadata": {},
   "outputs": [
    {
     "data": {
      "text/html": [
       "<h2>Results with 10% in the Stock</h2>"
      ],
      "text/plain": [
       "<IPython.core.display.HTML object>"
      ]
     },
     "metadata": {},
     "output_type": "display_data"
    },
    {
     "data": {
      "image/png": "[encoded data removed]",
      "text/plain": [
       "<Figure size 432x288 with 1 Axes>"
      ]
     },
     "metadata": {
      "needs_background": "light"
     },
     "output_type": "display_data"
    },
    {
     "name": "stdout",
     "output_type": "stream",
     "text": [
      "Probability Table\n",
      "0.05    $1004.10\n",
      "0.10    $1011.38\n",
      "0.15    $1016.31\n",
      "0.20    $1020.20\n",
      "0.25    $1023.54\n",
      "0.30    $1026.54\n",
      "0.35    $1029.32\n",
      "0.40    $1031.96\n",
      "0.45    $1034.51\n",
      "0.50    $1037.03\n",
      "0.55    $1039.55\n",
      "0.60    $1042.09\n",
      "0.65    $1044.74\n",
      "0.70    $1047.51\n",
      "0.75    $1050.50\n",
      "0.80    $1053.86\n",
      "0.85    $1057.74\n",
      "0.90    $1062.65\n",
      "0.95    $1069.88\n",
      "Name: Portfolio End Values, dtype: object\n",
      "\n",
      "Probability of getting $1,050 in cash: 25.8%\n",
      "\n"
     ]
    },
    {
     "data": {
      "text/html": [
       "<h2>Results with 20% in the Stock</h2>"
      ],
      "text/plain": [
       "<IPython.core.display.HTML object>"
      ]
     },
     "metadata": {},
     "output_type": "display_data"
    },
    {
     "data": {
      "image/png": "[encoded data removed]",
      "text/plain": [
       "<Figure size 432x288 with 1 Axes>"
      ]
     },
     "metadata": {
      "needs_background": "light"
     },
     "output_type": "display_data"
    },
    {
     "name": "stdout",
     "output_type": "stream",
     "text": [
      "Probability Table\n",
      "0.05     $978.30\n",
      "0.10     $992.75\n",
      "0.15    $1002.53\n",
      "0.20    $1010.38\n",
      "0.25    $1017.11\n",
      "0.30    $1023.09\n",
      "0.35    $1028.68\n",
      "0.40    $1033.97\n",
      "0.45    $1039.02\n",
      "0.50    $1044.03\n",
      "0.55    $1049.08\n",
      "0.60    $1054.18\n",
      "0.65    $1059.46\n",
      "0.70    $1065.04\n",
      "0.75    $1071.03\n",
      "0.80    $1077.77\n",
      "0.85    $1085.58\n",
      "0.90    $1095.35\n",
      "0.95    $1109.82\n",
      "Name: Portfolio End Values, dtype: object\n",
      "\n",
      "Probability of getting $1,050 in cash: 44.1%\n",
      "\n"
     ]
    },
    {
     "data": {
      "text/html": [
       "<h2>Results with 30% in the Stock</h2>"
      ],
      "text/plain": [
       "<IPython.core.display.HTML object>"
      ]
     },
     "metadata": {},
     "output_type": "display_data"
    },
    {
     "data": {
      "image/png": "[encoded data removed]",
      "text/plain": [
       "<Figure size 432x288 with 1 Axes>"
      ]
     },
     "metadata": {
      "needs_background": "light"
     },
     "output_type": "display_data"
    },
    {
     "name": "stdout",
     "output_type": "stream",
     "text": [
      "Probability Table\n",
      "0.05     $952.31\n",
      "0.10     $974.29\n",
      "0.15     $988.90\n",
      "0.20    $1000.55\n",
      "0.25    $1010.55\n",
      "0.30    $1019.55\n",
      "0.35    $1027.91\n",
      "0.40    $1035.85\n",
      "0.45    $1043.49\n",
      "0.50    $1051.02\n",
      "0.55    $1058.60\n",
      "0.60    $1066.27\n",
      "0.65    $1074.14\n",
      "0.70    $1082.46\n",
      "0.75    $1091.52\n",
      "0.80    $1101.55\n",
      "0.85    $1113.16\n",
      "0.90    $1127.92\n",
      "0.95    $1149.74\n",
      "Name: Portfolio End Values, dtype: object\n",
      "\n",
      "Probability of getting $1,050 in cash: 50.7%\n",
      "\n"
     ]
    },
    {
     "data": {
      "text/html": [
       "<h2>Results with 40% in the Stock</h2>"
      ],
      "text/plain": [
       "<IPython.core.display.HTML object>"
      ]
     },
     "metadata": {},
     "output_type": "display_data"
    },
    {
     "data": {
      "image/png": "[encoded data removed]",
      "text/plain": [
       "<Figure size 432x288 with 1 Axes>"
      ]
     },
     "metadata": {
      "needs_background": "light"
     },
     "output_type": "display_data"
    },
    {
     "name": "stdout",
     "output_type": "stream",
     "text": [
      "Probability Table\n",
      "0.05     $926.25\n",
      "0.10     $955.45\n",
      "0.15     $975.10\n",
      "0.20     $990.69\n",
      "0.25    $1004.12\n",
      "0.30    $1016.08\n",
      "0.35    $1027.16\n",
      "0.40    $1037.68\n",
      "0.45    $1047.92\n",
      "0.50    $1057.94\n",
      "0.55    $1068.02\n",
      "0.60    $1078.26\n",
      "0.65    $1088.79\n",
      "0.70    $1099.95\n",
      "0.75    $1112.07\n",
      "0.80    $1125.42\n",
      "0.85    $1140.99\n",
      "0.90    $1160.68\n",
      "0.95    $1189.72\n",
      "Name: Portfolio End Values, dtype: object\n",
      "\n",
      "Probability of getting $1,050 in cash: 54.0%\n",
      "\n"
     ]
    },
    {
     "data": {
      "text/html": [
       "<h2>Results with 50% in the Stock</h2>"
      ],
      "text/plain": [
       "<IPython.core.display.HTML object>"
      ]
     },
     "metadata": {},
     "output_type": "display_data"
    },
    {
     "data": {
      "image/png": "[encoded data removed]",
      "text/plain": [
       "<Figure size 432x288 with 1 Axes>"
      ]
     },
     "metadata": {
      "needs_background": "light"
     },
     "output_type": "display_data"
    },
    {
     "name": "stdout",
     "output_type": "stream",
     "text": [
      "Probability Table\n",
      "0.05     $899.99\n",
      "0.10     $936.42\n",
      "0.15     $961.07\n",
      "0.20     $980.54\n",
      "0.25     $997.24\n",
      "0.30    $1012.25\n",
      "0.35    $1026.21\n",
      "0.40    $1039.54\n",
      "0.45    $1052.28\n",
      "0.50    $1064.82\n",
      "0.55    $1077.34\n",
      "0.60    $1090.06\n",
      "0.65    $1103.30\n",
      "0.70    $1117.26\n",
      "0.75    $1132.32\n",
      "0.80    $1148.98\n",
      "0.85    $1168.52\n",
      "0.90    $1193.16\n",
      "0.95    $1229.50\n",
      "Name: Portfolio End Values, dtype: object\n",
      "\n",
      "Probability of getting $1,050 in cash: 55.9%\n",
      "\n"
     ]
    },
    {
     "data": {
      "text/html": [
       "<h2>Results with 60% in the Stock</h2>"
      ],
      "text/plain": [
       "<IPython.core.display.HTML object>"
      ]
     },
     "metadata": {},
     "output_type": "display_data"
    },
    {
     "data": {
      "image/png": "[encoded data removed]",
      "text/plain": [
       "<Figure size 432x288 with 1 Axes>"
      ]
     },
     "metadata": {
      "needs_background": "light"
     },
     "output_type": "display_data"
    },
    {
     "name": "stdout",
     "output_type": "stream",
     "text": [
      "Probability Table\n",
      "0.05     $874.79\n",
      "0.10     $918.26\n",
      "0.15     $947.79\n",
      "0.20     $971.35\n",
      "0.25     $991.21\n",
      "0.30    $1009.09\n",
      "0.35    $1025.75\n",
      "0.40    $1041.64\n",
      "0.45    $1056.95\n",
      "0.50    $1072.19\n",
      "0.55    $1087.25\n",
      "0.60    $1102.39\n",
      "0.65    $1118.17\n",
      "0.70    $1134.80\n",
      "0.75    $1152.73\n",
      "0.80    $1172.73\n",
      "0.85    $1196.19\n",
      "0.90    $1225.61\n",
      "0.95    $1269.35\n",
      "Name: Portfolio End Values, dtype: object\n",
      "\n",
      "Probability of getting $1,050 in cash: 57.3%\n",
      "\n"
     ]
    },
    {
     "data": {
      "text/html": [
       "<h2>Results with 70% in the Stock</h2>"
      ],
      "text/plain": [
       "<IPython.core.display.HTML object>"
      ]
     },
     "metadata": {},
     "output_type": "display_data"
    },
    {
     "data": {
      "image/png": "[encoded data removed]",
      "text/plain": [
       "<Figure size 432x288 with 1 Axes>"
      ]
     },
     "metadata": {
      "needs_background": "light"
     },
     "output_type": "display_data"
    },
    {
     "name": "stdout",
     "output_type": "stream",
     "text": [
      "Probability Table\n",
      "0.05     $848.38\n",
      "0.10     $899.34\n",
      "0.15     $933.61\n",
      "0.20     $961.00\n",
      "0.25     $984.48\n",
      "0.30    $1005.69\n",
      "0.35    $1025.12\n",
      "0.40    $1043.58\n",
      "0.45    $1061.34\n",
      "0.50    $1078.91\n",
      "0.55    $1096.61\n",
      "0.60    $1114.48\n",
      "0.65    $1132.81\n",
      "0.70    $1152.27\n",
      "0.75    $1173.31\n",
      "0.80    $1196.70\n",
      "0.85    $1224.04\n",
      "0.90    $1258.13\n",
      "0.95    $1309.29\n",
      "Name: Portfolio End Values, dtype: object\n",
      "\n",
      "Probability of getting $1,050 in cash: 58.2%\n",
      "\n"
     ]
    },
    {
     "data": {
      "text/html": [
       "<h2>Results with 80% in the Stock</h2>"
      ],
      "text/plain": [
       "<IPython.core.display.HTML object>"
      ]
     },
     "metadata": {},
     "output_type": "display_data"
    },
    {
     "data": {
      "image/png": "[encoded data removed]",
      "text/plain": [
       "<Figure size 432x288 with 1 Axes>"
      ]
     },
     "metadata": {
      "needs_background": "light"
     },
     "output_type": "display_data"
    },
    {
     "name": "stdout",
     "output_type": "stream",
     "text": [
      "Probability Table\n",
      "0.05     $823.00\n",
      "0.10     $881.12\n",
      "0.15     $920.30\n",
      "0.20     $951.46\n",
      "0.25     $978.34\n",
      "0.30    $1002.37\n",
      "0.35    $1024.66\n",
      "0.40    $1045.77\n",
      "0.45    $1066.20\n",
      "0.50    $1086.31\n",
      "0.55    $1106.42\n",
      "0.60    $1126.85\n",
      "0.65    $1147.99\n",
      "0.70    $1170.27\n",
      "0.75    $1194.22\n",
      "0.80    $1220.93\n",
      "0.85    $1251.95\n",
      "0.90    $1290.94\n",
      "0.95    $1349.18\n",
      "Name: Portfolio End Values, dtype: object\n",
      "\n",
      "Probability of getting $1,050 in cash: 59.0%\n",
      "\n"
     ]
    },
    {
     "data": {
      "text/html": [
       "<h2>Results with 90% in the Stock</h2>"
      ],
      "text/plain": [
       "<IPython.core.display.HTML object>"
      ]
     },
     "metadata": {},
     "output_type": "display_data"
    },
    {
     "data": {
      "image/png": "[encoded data removed]",
      "text/plain": [
       "<Figure size 432x288 with 1 Axes>"
      ]
     },
     "metadata": {
      "needs_background": "light"
     },
     "output_type": "display_data"
    },
    {
     "name": "stdout",
     "output_type": "stream",
     "text": [
      "Probability Table\n",
      "0.05     $796.94\n",
      "0.10     $862.65\n",
      "0.15     $906.78\n",
      "0.20     $942.00\n",
      "0.25     $972.06\n",
      "0.30     $998.84\n",
      "0.35    $1023.84\n",
      "0.40    $1047.48\n",
      "0.45    $1070.37\n",
      "0.50    $1092.85\n",
      "0.55    $1115.50\n",
      "0.60    $1138.56\n",
      "0.65    $1162.31\n",
      "0.70    $1187.26\n",
      "0.75    $1214.41\n",
      "0.80    $1244.28\n",
      "0.85    $1279.18\n",
      "0.90    $1323.23\n",
      "0.95    $1388.68\n",
      "Name: Portfolio End Values, dtype: object\n",
      "\n",
      "Probability of getting $1,050 in cash: 59.5%\n",
      "\n"
     ]
    }
   ],
   "source": [
    "for weight in weights:\n",
    "    display_header(f'Results with {weight:.0%} in the Stock')\n",
    "    results = port_end_value_simulations(stock_weight=weight, n_iter = 1000000)\n",
    "    display_model_summary(results)"
   ]
  },
  {
   "cell_type": "markdown",
   "metadata": {},
   "source": [
    "## Conclusions"
   ]
  },
  {
   "cell_type": "markdown",
   "metadata": {},
   "source": [
    "We got sort of an unintuitive outcome, which we wouldn't have thought about without going through such an exercise. It turns out the the probability of reaching our desired cash starts out to be increasing with the weight in the stock, but with 50% in the stock and higher it is relatively stable. What is mainly changing beyond that point is the extreme outcomes. With a higher weight in the stock, it is more likely to earn more money on the top end, but also to lose more money on the bottom end. So it depends on the manager's risk tolerance which stock weight should be picked, but likely lower than 50% in the stock would be a bad choice due to lower probability of hitting the objective. "
   ]
  }
 ],
 "metadata": {
  "kernelspec": {
   "display_name": "Python 3",
   "language": "python",
   "name": "python3"
  },
  "language_info": {
   "codemirror_mode": {
    "name": "ipython",
    "version": 3
   },
   "file_extension": ".py",
   "mimetype": "text/x-python",
   "name": "python",
   "nbconvert_exporter": "python",
   "pygments_lexer": "ipython3",
   "version": "3.7.7"
  }
 },
 "nbformat": 4,
 "nbformat_minor": 4
}
