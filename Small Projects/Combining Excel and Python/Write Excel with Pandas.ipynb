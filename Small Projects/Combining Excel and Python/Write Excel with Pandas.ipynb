{
 "cells": [
  {
   "cell_type": "markdown",
   "metadata": {},
   "source": [
    "# Write Excel with Pandas"
   ]
  },
  {
   "cell_type": "markdown",
   "metadata": {},
   "source": [
    "## Description\n",
    "Using Pandas to read Excel documents, run some code and export it back to Excel. <br>\n",
    "We will be using “MSFT Financials.xls”\n",
    "\n",
    "### Level 1\n",
    "- Read the sheet “Income Statement” into a DataFrame\n",
    "- Write the DataFrame to a new workbook, “My Data.xlsx”, with the sheet name “Income Statement”\n",
    "\n",
    "### Level 2\n",
    "- Use the same “MSFT Financials.xls” from the first exercise\n",
    "- Output to five separate workbooks, named “My Data1.xlsx”, “My Data2.xlsx”, and so on.\n",
    "- Do this without writing the to_excel command multiple times\n",
    "\n",
    "### Level 3\n",
    "- Output to five separate sheets in the same workbook “My Data.xlsx”. The sheets should be named “Income Statement 1”, “Income Statement 2”, and so on.\n"
   ]
  },
  {
   "cell_type": "code",
   "execution_count": 1,
   "metadata": {},
   "outputs": [],
   "source": [
    "import pandas as pd"
   ]
  },
  {
   "cell_type": "markdown",
   "metadata": {},
   "source": [
    "### Level 1"
   ]
  },
  {
   "cell_type": "code",
   "execution_count": 6,
   "metadata": {},
   "outputs": [],
   "source": [
    "df = pd.read_excel('MSFT Financials.xls', sheet_name = 'Income Statement')\n",
    "df.to_excel('My Data.xlsx', sheet_name = 'Income Statement', index =False)"
   ]
  },
  {
   "cell_type": "markdown",
   "metadata": {},
   "source": [
    "### Level 2"
   ]
  },
  {
   "cell_type": "code",
   "execution_count": 10,
   "metadata": {},
   "outputs": [],
   "source": [
    "for i in range(1, 6):\n",
    "    df.to_excel(f'My Data{i}.xlsx', sheet_name = 'Income Statement', index =False)"
   ]
  },
  {
   "cell_type": "markdown",
   "metadata": {},
   "source": [
    "### Level 3"
   ]
  },
  {
   "cell_type": "code",
   "execution_count": 11,
   "metadata": {},
   "outputs": [],
   "source": [
    "with pd.ExcelWriter('My Data.xlsx') as writer:\n",
    "    for i in range(1, 6):\n",
    "        df.to_excel(writer, sheet_name=f'Income Statement {i}', index=False)"
   ]
  }
 ],
 "metadata": {
  "kernelspec": {
   "display_name": "Python 3",
   "language": "python",
   "name": "python3"
  },
  "language_info": {
   "codemirror_mode": {
    "name": "ipython",
    "version": 3
   },
   "file_extension": ".py",
   "mimetype": "text/x-python",
   "name": "python",
   "nbconvert_exporter": "python",
   "pygments_lexer": "ipython3",
   "version": "3.7.7"
  }
 },
 "nbformat": 4,
 "nbformat_minor": 4
}
