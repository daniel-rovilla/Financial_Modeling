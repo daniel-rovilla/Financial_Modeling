{
 "cells": [
  {
   "cell_type": "markdown",
   "metadata": {},
   "source": [
    "# Running Monte Carlo Simulations on an Excel Model\n",
    "\n",
    "Here we will see an example of how `xlwings` can be a substitute to VBA in Excel, we will run a Monte Carlo simulation on the Salary Retirement model."
   ]
  },
  {
   "cell_type": "code",
   "execution_count": 1,
   "metadata": {},
   "outputs": [],
   "source": [
    "import xlwings as xw\n",
    "import pandas as pd"
   ]
  },
  {
   "cell_type": "markdown",
   "metadata": {},
   "source": [
    "## The Monte Carlo Setup\n",
    "\n",
    "First let's get a connection to our Excel sheet."
   ]
  },
  {
   "cell_type": "code",
   "execution_count": 12,
   "metadata": {},
   "outputs": [],
   "source": [
    "book = xw.Book('Dynamic Salary Retirement Model with Monte Carlo.xlsx')\n",
    "sht = book.sheets['Inputs and Outputs']\n",
    "sim_sht = book.sheets['Simulations']"
   ]
  },
  {
   "cell_type": "markdown",
   "metadata": {},
   "source": [
    "### Running a Single Simulation\n",
    "\n",
    "We want to evaluate how interest rate affects years until retirement. Let's first just try changing the interest rate and getting the years to retirement as the output."
   ]
  },
  {
   "cell_type": "code",
   "execution_count": 13,
   "metadata": {},
   "outputs": [],
   "source": [
    "sht.range('B10').value = 0.08"
   ]
  },
  {
   "cell_type": "markdown",
   "metadata": {},
   "source": [
    "Now we can see that the interest rate has changed to 8% in Excel and that the years to retirement has changed to 24. But we want to get that output out of Excel as well."
   ]
  },
  {
   "cell_type": "code",
   "execution_count": 14,
   "metadata": {},
   "outputs": [
    {
     "data": {
      "text/plain": [
       "24.0"
      ]
     },
     "execution_count": 14,
     "metadata": {},
     "output_type": "execute_result"
    }
   ],
   "source": [
    "years_to_retirement = sht.range('B18').value\n",
    "years_to_retirement"
   ]
  },
  {
   "cell_type": "markdown",
   "metadata": {},
   "source": [
    "Now that we have the value in Python we can analyze it in Python. Or if we want to analyze the results in Excel, we can output it back to the Excel workbook as a hard-coded value in a different cell, so that it will still be saved when the inputs change."
   ]
  },
  {
   "cell_type": "code",
   "execution_count": 15,
   "metadata": {},
   "outputs": [],
   "source": [
    "sht.range('E2').value = years_to_retirement"
   ]
  },
  {
   "cell_type": "markdown",
   "metadata": {},
   "source": [
    "Now we can see the value is in Excel in the cell `E2`."
   ]
  },
  {
   "cell_type": "markdown",
   "metadata": {},
   "source": [
    "### Running Multiple Simulations"
   ]
  },
  {
   "cell_type": "markdown",
   "metadata": {},
   "source": [
    "Just as we have done with pure Python Monte Carlo simulations, now we want to run this process many times. We'll use a loop over the number of iterations to do this. We will collect the results in Python and then output to Excel at the end."
   ]
  },
  {
   "cell_type": "markdown",
   "metadata": {},
   "source": [
    "First we need to be getting the interest rate randomly from a normal distribution:"
   ]
  },
  {
   "cell_type": "code",
   "execution_count": 16,
   "metadata": {},
   "outputs": [
    {
     "data": {
      "text/plain": [
       "0.020605745745521563"
      ]
     },
     "execution_count": 16,
     "metadata": {},
     "output_type": "execute_result"
    }
   ],
   "source": [
    "import random\n",
    "\n",
    "interest_mean = 0.05\n",
    "interest_std = 0.03\n",
    "\n",
    "interest_rate = random.normalvariate(interest_mean, interest_std)\n",
    "interest_rate"
   ]
  },
  {
   "cell_type": "code",
   "execution_count": 17,
   "metadata": {},
   "outputs": [
    {
     "data": {
      "text/plain": [
       "[26.0, 26.0, 32.0, 33.0, 26.0, 25.0, 30.0, 27.0, 21.0, 25.0]"
      ]
     },
     "execution_count": 17,
     "metadata": {},
     "output_type": "execute_result"
    }
   ],
   "source": [
    "num_iter = 10\n",
    "\n",
    "all_retirement_years = []\n",
    "for i in range(num_iter):\n",
    "    interest_rate = random.normalvariate(interest_mean, interest_std)\n",
    "    sht.range('B10').value = interest_rate\n",
    "    years_to_retirement = sht.range('B18').value\n",
    "    all_retirement_years.append(years_to_retirement)\n",
    "all_retirement_years"
   ]
  },
  {
   "cell_type": "markdown",
   "metadata": {},
   "source": [
    "Now output back to Excel. We want them in a column so we will do the list comprehension trick."
   ]
  },
  {
   "cell_type": "code",
   "execution_count": 18,
   "metadata": {},
   "outputs": [],
   "source": [
    "vertical_retirement_years = [[ret_year] for ret_year in all_retirement_years]\n",
    "sht.range('E2').value = vertical_retirement_years"
   ]
  },
  {
   "cell_type": "markdown",
   "metadata": {},
   "source": [
    "Now wrap this all up in a function."
   ]
  },
  {
   "cell_type": "code",
   "execution_count": 19,
   "metadata": {},
   "outputs": [],
   "source": [
    "def random_normal_positive(mean, std):\n",
    "    value = -1\n",
    "    while value < 0:\n",
    "        value = random.normalvariate(mean, std)\n",
    "    return value"
   ]
  },
  {
   "cell_type": "code",
   "execution_count": 20,
   "metadata": {},
   "outputs": [
    {
     "data": {
      "text/html": [
       "<div>\n",
       "<style scoped>\n",
       "    .dataframe tbody tr th:only-of-type {\n",
       "        vertical-align: middle;\n",
       "    }\n",
       "\n",
       "    .dataframe tbody tr th {\n",
       "        vertical-align: top;\n",
       "    }\n",
       "\n",
       "    .dataframe thead th {\n",
       "        text-align: right;\n",
       "    }\n",
       "</style>\n",
       "<table border=\"1\" class=\"dataframe\">\n",
       "  <thead>\n",
       "    <tr style=\"text-align: right;\">\n",
       "      <th></th>\n",
       "      <th>Interest</th>\n",
       "      <th>Years to Retirement</th>\n",
       "    </tr>\n",
       "  </thead>\n",
       "  <tbody>\n",
       "    <tr>\n",
       "      <th>0</th>\n",
       "      <td>0.061725</td>\n",
       "      <td>27.0</td>\n",
       "    </tr>\n",
       "    <tr>\n",
       "      <th>1</th>\n",
       "      <td>0.192733</td>\n",
       "      <td>16.0</td>\n",
       "    </tr>\n",
       "    <tr>\n",
       "      <th>2</th>\n",
       "      <td>0.063810</td>\n",
       "      <td>26.0</td>\n",
       "    </tr>\n",
       "    <tr>\n",
       "      <th>3</th>\n",
       "      <td>0.069946</td>\n",
       "      <td>25.0</td>\n",
       "    </tr>\n",
       "    <tr>\n",
       "      <th>4</th>\n",
       "      <td>0.173427</td>\n",
       "      <td>17.0</td>\n",
       "    </tr>\n",
       "    <tr>\n",
       "      <th>5</th>\n",
       "      <td>0.079746</td>\n",
       "      <td>24.0</td>\n",
       "    </tr>\n",
       "    <tr>\n",
       "      <th>6</th>\n",
       "      <td>0.213477</td>\n",
       "      <td>16.0</td>\n",
       "    </tr>\n",
       "    <tr>\n",
       "      <th>7</th>\n",
       "      <td>0.113153</td>\n",
       "      <td>21.0</td>\n",
       "    </tr>\n",
       "    <tr>\n",
       "      <th>8</th>\n",
       "      <td>0.155322</td>\n",
       "      <td>18.0</td>\n",
       "    </tr>\n",
       "    <tr>\n",
       "      <th>9</th>\n",
       "      <td>0.164654</td>\n",
       "      <td>18.0</td>\n",
       "    </tr>\n",
       "  </tbody>\n",
       "</table>\n",
       "</div>"
      ],
      "text/plain": [
       "   Interest  Years to Retirement\n",
       "0  0.061725                 27.0\n",
       "1  0.192733                 16.0\n",
       "2  0.063810                 26.0\n",
       "3  0.069946                 25.0\n",
       "4  0.173427                 17.0\n",
       "5  0.079746                 24.0\n",
       "6  0.213477                 16.0\n",
       "7  0.113153                 21.0\n",
       "8  0.155322                 18.0\n",
       "9  0.164654                 18.0"
      ]
     },
     "execution_count": 20,
     "metadata": {},
     "output_type": "execute_result"
    }
   ],
   "source": [
    "def retirement_simulations(num_iter, interest_mean, interest_std):\n",
    "    all_data = []\n",
    "    for i in range(num_iter):\n",
    "        interest_rate = random_normal_positive(interest_mean, interest_std)\n",
    "        sht.range('B10').value = interest_rate\n",
    "        years_to_retirement = sht.range('B18').value\n",
    "        all_data.append((interest_rate, years_to_retirement))\n",
    "    \n",
    "    df = pd.DataFrame(all_data, columns = ['Interest', 'Years to Retirement'])\n",
    "    sim_sht.range('A1').options(pd.DataFrame, index=False).value = df\n",
    "    \n",
    "    return df  # return it so we will also have it in Python in addition to Excel\n",
    "\n",
    "results = retirement_simulations(1000, 0.1, 0.05)\n",
    "results[:10]"
   ]
  },
  {
   "cell_type": "markdown",
   "metadata": {},
   "source": [
    "### Visualize and Analyze"
   ]
  },
  {
   "cell_type": "markdown",
   "metadata": {},
   "source": [
    "To have a better understanding of the results, we can visualize them with:\n",
    "- Histogram\n",
    "- Line Chart\n",
    "- Percentiles Table\n",
    "- Check the Probability of a Certain Outcome\n",
    "- Regression Analysis\n",
    "\n",
    "These steps are already made on the Excel document. The Monte Carlo simulation could be run with different iterations to see some changes to the histogram, chart and percentile table. The regression analysis has been made with Excel's add-in 'Data Analysis', this needs to be done each time a model is run"
   ]
  }
 ],
 "metadata": {
  "kernelspec": {
   "display_name": "Python 3",
   "language": "python",
   "name": "python3"
  },
  "language_info": {
   "codemirror_mode": {
    "name": "ipython",
    "version": 3
   },
   "file_extension": ".py",
   "mimetype": "text/x-python",
   "name": "python",
   "nbconvert_exporter": "python",
   "pygments_lexer": "ipython3",
   "version": "3.7.7"
  }
 },
 "nbformat": 4,
 "nbformat_minor": 4
}
